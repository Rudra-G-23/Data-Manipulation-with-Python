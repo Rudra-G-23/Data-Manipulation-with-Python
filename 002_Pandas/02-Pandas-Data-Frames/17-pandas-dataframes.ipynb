{
 "cells": [
  {
   "cell_type": "code",
   "execution_count": 1,
   "metadata": {
    "id": "2F2xS5YbuND2"
   },
   "outputs": [],
   "source": [
    "import numpy as np\n",
    "import pandas as pd"
   ]
  },
  {
   "cell_type": "markdown",
   "metadata": {
    "id": "sdRBNhTluaKV"
   },
   "source": [
    "### Creating DataFrame"
   ]
  },
  {
   "cell_type": "markdown",
   "metadata": {},
   "source": [
    "#### Using Lists"
   ]
  },
  {
   "cell_type": "code",
   "execution_count": 2,
   "metadata": {
    "colab": {
     "base_uri": "https://localhost:8080/",
     "height": 175
    },
    "executionInfo": {
     "elapsed": 414,
     "status": "ok",
     "timestamp": 1671028619156,
     "user": {
      "displayName": "CampusX",
      "userId": "17274569631252575216"
     },
     "user_tz": -330
    },
    "id": "FAC5HfAaub7q",
    "outputId": "aaedf44b-1208-4039-d971-89ddd59dd66b"
   },
   "outputs": [
    {
     "data": {
      "text/html": [
       "<div>\n",
       "<style scoped>\n",
       "    .dataframe tbody tr th:only-of-type {\n",
       "        vertical-align: middle;\n",
       "    }\n",
       "\n",
       "    .dataframe tbody tr th {\n",
       "        vertical-align: top;\n",
       "    }\n",
       "\n",
       "    .dataframe thead th {\n",
       "        text-align: right;\n",
       "    }\n",
       "</style>\n",
       "<table border=\"1\" class=\"dataframe\">\n",
       "  <thead>\n",
       "    <tr style=\"text-align: right;\">\n",
       "      <th></th>\n",
       "      <th>iq</th>\n",
       "      <th>marks</th>\n",
       "      <th>package</th>\n",
       "    </tr>\n",
       "  </thead>\n",
       "  <tbody>\n",
       "    <tr>\n",
       "      <th>0</th>\n",
       "      <td>100</td>\n",
       "      <td>80</td>\n",
       "      <td>10</td>\n",
       "    </tr>\n",
       "    <tr>\n",
       "      <th>1</th>\n",
       "      <td>90</td>\n",
       "      <td>70</td>\n",
       "      <td>7</td>\n",
       "    </tr>\n",
       "    <tr>\n",
       "      <th>2</th>\n",
       "      <td>120</td>\n",
       "      <td>100</td>\n",
       "      <td>14</td>\n",
       "    </tr>\n",
       "    <tr>\n",
       "      <th>3</th>\n",
       "      <td>80</td>\n",
       "      <td>50</td>\n",
       "      <td>2</td>\n",
       "    </tr>\n",
       "  </tbody>\n",
       "</table>\n",
       "</div>"
      ],
      "text/plain": [
       "    iq  marks  package\n",
       "0  100     80       10\n",
       "1   90     70        7\n",
       "2  120    100       14\n",
       "3   80     50        2"
      ]
     },
     "execution_count": 2,
     "metadata": {},
     "output_type": "execute_result"
    }
   ],
   "source": [
    "# using lists\n",
    "student_data = [\n",
    "    [100,80,10],\n",
    "    [90,70,7],\n",
    "    [120,100,14],\n",
    "    [80,50,2]\n",
    "]\n",
    "\n",
    "pd.DataFrame(student_data,columns=['iq','marks','package'])"
   ]
  },
  {
   "cell_type": "markdown",
   "metadata": {},
   "source": [
    "#### Using Dictionary"
   ]
  },
  {
   "cell_type": "code",
   "execution_count": 3,
   "metadata": {
    "id": "eUNiM537NbrU"
   },
   "outputs": [],
   "source": [
    "st_d = {\n",
    "    'Name': ['r', 'z', 'Z2', 'z3'],\n",
    "    'sl':[1, 2, 3, 4],\n",
    "    'marks': [99, 98, 78, 34]\n",
    "}"
   ]
  },
  {
   "cell_type": "code",
   "execution_count": 4,
   "metadata": {
    "colab": {
     "base_uri": "https://localhost:8080/",
     "height": 206
    },
    "executionInfo": {
     "elapsed": 685,
     "status": "ok",
     "timestamp": 1739700395637,
     "user": {
      "displayName": "Rudra prasad bhuyan",
      "userId": "16853032764813875497"
     },
     "user_tz": -330
    },
    "id": "_UzoYttPN1XG",
    "outputId": "5c720af6-cc5b-44d6-981a-6c44b48b7034"
   },
   "outputs": [
    {
     "data": {
      "text/html": [
       "<div>\n",
       "<style scoped>\n",
       "    .dataframe tbody tr th:only-of-type {\n",
       "        vertical-align: middle;\n",
       "    }\n",
       "\n",
       "    .dataframe tbody tr th {\n",
       "        vertical-align: top;\n",
       "    }\n",
       "\n",
       "    .dataframe thead th {\n",
       "        text-align: right;\n",
       "    }\n",
       "</style>\n",
       "<table border=\"1\" class=\"dataframe\">\n",
       "  <thead>\n",
       "    <tr style=\"text-align: right;\">\n",
       "      <th></th>\n",
       "      <th>Name</th>\n",
       "      <th>marks</th>\n",
       "    </tr>\n",
       "    <tr>\n",
       "      <th>sl</th>\n",
       "      <th></th>\n",
       "      <th></th>\n",
       "    </tr>\n",
       "  </thead>\n",
       "  <tbody>\n",
       "    <tr>\n",
       "      <th>1</th>\n",
       "      <td>r</td>\n",
       "      <td>99</td>\n",
       "    </tr>\n",
       "    <tr>\n",
       "      <th>2</th>\n",
       "      <td>z</td>\n",
       "      <td>98</td>\n",
       "    </tr>\n",
       "    <tr>\n",
       "      <th>3</th>\n",
       "      <td>Z2</td>\n",
       "      <td>78</td>\n",
       "    </tr>\n",
       "    <tr>\n",
       "      <th>4</th>\n",
       "      <td>z3</td>\n",
       "      <td>34</td>\n",
       "    </tr>\n",
       "  </tbody>\n",
       "</table>\n",
       "</div>"
      ],
      "text/plain": [
       "   Name  marks\n",
       "sl            \n",
       "1     r     99\n",
       "2     z     98\n",
       "3    Z2     78\n",
       "4    z3     34"
      ]
     },
     "execution_count": 4,
     "metadata": {},
     "output_type": "execute_result"
    }
   ],
   "source": [
    "a = pd.DataFrame(st_d).set_index('sl')\n",
    "a"
   ]
  },
  {
   "cell_type": "code",
   "execution_count": 5,
   "metadata": {
    "colab": {
     "base_uri": "https://localhost:8080/",
     "height": 269
    },
    "executionInfo": {
     "elapsed": 4,
     "status": "ok",
     "timestamp": 1671031418285,
     "user": {
      "displayName": "CampusX",
      "userId": "17274569631252575216"
     },
     "user_tz": -330
    },
    "id": "StK0mYCHudKC",
    "outputId": "7806cb67-4034-4e75-eceb-46d0f810f6d9"
   },
   "outputs": [
    {
     "data": {
      "text/html": [
       "<div>\n",
       "<style scoped>\n",
       "    .dataframe tbody tr th:only-of-type {\n",
       "        vertical-align: middle;\n",
       "    }\n",
       "\n",
       "    .dataframe tbody tr th {\n",
       "        vertical-align: top;\n",
       "    }\n",
       "\n",
       "    .dataframe thead th {\n",
       "        text-align: right;\n",
       "    }\n",
       "</style>\n",
       "<table border=\"1\" class=\"dataframe\">\n",
       "  <thead>\n",
       "    <tr style=\"text-align: right;\">\n",
       "      <th></th>\n",
       "      <th>iq</th>\n",
       "      <th>marks</th>\n",
       "      <th>package</th>\n",
       "    </tr>\n",
       "    <tr>\n",
       "      <th>name</th>\n",
       "      <th></th>\n",
       "      <th></th>\n",
       "      <th></th>\n",
       "    </tr>\n",
       "  </thead>\n",
       "  <tbody>\n",
       "    <tr>\n",
       "      <th>nitish</th>\n",
       "      <td>100</td>\n",
       "      <td>80</td>\n",
       "      <td>10</td>\n",
       "    </tr>\n",
       "    <tr>\n",
       "      <th>ankit</th>\n",
       "      <td>90</td>\n",
       "      <td>70</td>\n",
       "      <td>7</td>\n",
       "    </tr>\n",
       "    <tr>\n",
       "      <th>rupesh</th>\n",
       "      <td>120</td>\n",
       "      <td>100</td>\n",
       "      <td>14</td>\n",
       "    </tr>\n",
       "    <tr>\n",
       "      <th>rishabh</th>\n",
       "      <td>80</td>\n",
       "      <td>50</td>\n",
       "      <td>2</td>\n",
       "    </tr>\n",
       "    <tr>\n",
       "      <th>amit</th>\n",
       "      <td>0</td>\n",
       "      <td>0</td>\n",
       "      <td>0</td>\n",
       "    </tr>\n",
       "    <tr>\n",
       "      <th>ankita</th>\n",
       "      <td>0</td>\n",
       "      <td>0</td>\n",
       "      <td>0</td>\n",
       "    </tr>\n",
       "  </tbody>\n",
       "</table>\n",
       "</div>"
      ],
      "text/plain": [
       "          iq  marks  package\n",
       "name                        \n",
       "nitish   100     80       10\n",
       "ankit     90     70        7\n",
       "rupesh   120    100       14\n",
       "rishabh   80     50        2\n",
       "amit       0      0        0\n",
       "ankita     0      0        0"
      ]
     },
     "execution_count": 5,
     "metadata": {},
     "output_type": "execute_result"
    }
   ],
   "source": [
    "# using dicts\n",
    "\n",
    "student_dict = {\n",
    "    'name':['nitish','ankit','rupesh','rishabh','amit','ankita'],\n",
    "    'iq':[100,90,120,80,0,0],\n",
    "    'marks':[80,70,100,50,0,0],\n",
    "    'package':[10,7,14,2,0,0]\n",
    "}\n",
    "\n",
    "students = pd.DataFrame(student_dict)\n",
    "students.set_index('name',inplace=True)\n",
    "students"
   ]
  },
  {
   "cell_type": "markdown",
   "metadata": {},
   "source": [
    "#### Using csv"
   ]
  },
  {
   "cell_type": "code",
   "execution_count": 12,
   "metadata": {
    "colab": {
     "base_uri": "https://localhost:8080/",
     "height": 1000
    },
    "executionInfo": {
     "elapsed": 5,
     "status": "ok",
     "timestamp": 1671028853070,
     "user": {
      "displayName": "CampusX",
      "userId": "17274569631252575216"
     },
     "user_tz": -330
    },
    "id": "EF_2ly2HuePm",
    "outputId": "019279d7-a1b2-4cb9-db18-277614c3c6f0"
   },
   "outputs": [
    {
     "data": {
      "text/html": [
       "<div>\n",
       "<style scoped>\n",
       "    .dataframe tbody tr th:only-of-type {\n",
       "        vertical-align: middle;\n",
       "    }\n",
       "\n",
       "    .dataframe tbody tr th {\n",
       "        vertical-align: top;\n",
       "    }\n",
       "\n",
       "    .dataframe thead th {\n",
       "        text-align: right;\n",
       "    }\n",
       "</style>\n",
       "<table border=\"1\" class=\"dataframe\">\n",
       "  <thead>\n",
       "    <tr style=\"text-align: right;\">\n",
       "      <th></th>\n",
       "      <th>title_x</th>\n",
       "      <th>imdb_id</th>\n",
       "      <th>poster_path</th>\n",
       "      <th>wiki_link</th>\n",
       "      <th>title_y</th>\n",
       "      <th>original_title</th>\n",
       "      <th>is_adult</th>\n",
       "      <th>year_of_release</th>\n",
       "      <th>runtime</th>\n",
       "      <th>genres</th>\n",
       "      <th>imdb_rating</th>\n",
       "      <th>imdb_votes</th>\n",
       "      <th>story</th>\n",
       "      <th>summary</th>\n",
       "      <th>tagline</th>\n",
       "      <th>actors</th>\n",
       "      <th>wins_nominations</th>\n",
       "      <th>release_date</th>\n",
       "    </tr>\n",
       "  </thead>\n",
       "  <tbody>\n",
       "    <tr>\n",
       "      <th>0</th>\n",
       "      <td>Uri: The Surgical Strike</td>\n",
       "      <td>tt8291224</td>\n",
       "      <td>https://upload.wikimedia.org/wikipedia/en/thum...</td>\n",
       "      <td>https://en.wikipedia.org/wiki/Uri:_The_Surgica...</td>\n",
       "      <td>Uri: The Surgical Strike</td>\n",
       "      <td>Uri: The Surgical Strike</td>\n",
       "      <td>0</td>\n",
       "      <td>2019</td>\n",
       "      <td>138</td>\n",
       "      <td>Action|Drama|War</td>\n",
       "      <td>8.4</td>\n",
       "      <td>35112</td>\n",
       "      <td>Divided over five chapters  the film chronicle...</td>\n",
       "      <td>Indian army special forces execute a covert op...</td>\n",
       "      <td>NaN</td>\n",
       "      <td>Vicky Kaushal|Paresh Rawal|Mohit Raina|Yami Ga...</td>\n",
       "      <td>4 wins</td>\n",
       "      <td>11 January 2019 (USA)</td>\n",
       "    </tr>\n",
       "    <tr>\n",
       "      <th>1</th>\n",
       "      <td>Battalion 609</td>\n",
       "      <td>tt9472208</td>\n",
       "      <td>NaN</td>\n",
       "      <td>https://en.wikipedia.org/wiki/Battalion_609</td>\n",
       "      <td>Battalion 609</td>\n",
       "      <td>Battalion 609</td>\n",
       "      <td>0</td>\n",
       "      <td>2019</td>\n",
       "      <td>131</td>\n",
       "      <td>War</td>\n",
       "      <td>4.1</td>\n",
       "      <td>73</td>\n",
       "      <td>The story revolves around a cricket match betw...</td>\n",
       "      <td>The story of Battalion 609 revolves around a c...</td>\n",
       "      <td>NaN</td>\n",
       "      <td>Vicky Ahuja|Shoaib Ibrahim|Shrikant Kamat|Elen...</td>\n",
       "      <td>NaN</td>\n",
       "      <td>11 January 2019 (India)</td>\n",
       "    </tr>\n",
       "    <tr>\n",
       "      <th>2</th>\n",
       "      <td>The Accidental Prime Minister (film)</td>\n",
       "      <td>tt6986710</td>\n",
       "      <td>https://upload.wikimedia.org/wikipedia/en/thum...</td>\n",
       "      <td>https://en.wikipedia.org/wiki/The_Accidental_P...</td>\n",
       "      <td>The Accidental Prime Minister</td>\n",
       "      <td>The Accidental Prime Minister</td>\n",
       "      <td>0</td>\n",
       "      <td>2019</td>\n",
       "      <td>112</td>\n",
       "      <td>Biography|Drama</td>\n",
       "      <td>6.1</td>\n",
       "      <td>5549</td>\n",
       "      <td>Based on the memoir by Indian policy analyst S...</td>\n",
       "      <td>Explores Manmohan Singh's tenure as the Prime ...</td>\n",
       "      <td>NaN</td>\n",
       "      <td>Anupam Kher|Akshaye Khanna|Aahana Kumra|Atul S...</td>\n",
       "      <td>NaN</td>\n",
       "      <td>11 January 2019 (USA)</td>\n",
       "    </tr>\n",
       "    <tr>\n",
       "      <th>3</th>\n",
       "      <td>Why Cheat India</td>\n",
       "      <td>tt8108208</td>\n",
       "      <td>https://upload.wikimedia.org/wikipedia/en/thum...</td>\n",
       "      <td>https://en.wikipedia.org/wiki/Why_Cheat_India</td>\n",
       "      <td>Why Cheat India</td>\n",
       "      <td>Why Cheat India</td>\n",
       "      <td>0</td>\n",
       "      <td>2019</td>\n",
       "      <td>121</td>\n",
       "      <td>Crime|Drama</td>\n",
       "      <td>6.0</td>\n",
       "      <td>1891</td>\n",
       "      <td>The movie focuses on existing malpractices in ...</td>\n",
       "      <td>The movie focuses on existing malpractices in ...</td>\n",
       "      <td>NaN</td>\n",
       "      <td>Emraan Hashmi|Shreya Dhanwanthary|Snighdadeep ...</td>\n",
       "      <td>NaN</td>\n",
       "      <td>18 January 2019 (USA)</td>\n",
       "    </tr>\n",
       "    <tr>\n",
       "      <th>4</th>\n",
       "      <td>Evening Shadows</td>\n",
       "      <td>tt6028796</td>\n",
       "      <td>NaN</td>\n",
       "      <td>https://en.wikipedia.org/wiki/Evening_Shadows</td>\n",
       "      <td>Evening Shadows</td>\n",
       "      <td>Evening Shadows</td>\n",
       "      <td>0</td>\n",
       "      <td>2018</td>\n",
       "      <td>102</td>\n",
       "      <td>Drama</td>\n",
       "      <td>7.3</td>\n",
       "      <td>280</td>\n",
       "      <td>While gay rights and marriage equality has bee...</td>\n",
       "      <td>Under the 'Evening Shadows'  truth often plays...</td>\n",
       "      <td>NaN</td>\n",
       "      <td>Mona Ambegaonkar|Ananth Narayan Mahadevan|Deva...</td>\n",
       "      <td>17 wins &amp; 1 nomination</td>\n",
       "      <td>11 January 2019 (India)</td>\n",
       "    </tr>\n",
       "    <tr>\n",
       "      <th>...</th>\n",
       "      <td>...</td>\n",
       "      <td>...</td>\n",
       "      <td>...</td>\n",
       "      <td>...</td>\n",
       "      <td>...</td>\n",
       "      <td>...</td>\n",
       "      <td>...</td>\n",
       "      <td>...</td>\n",
       "      <td>...</td>\n",
       "      <td>...</td>\n",
       "      <td>...</td>\n",
       "      <td>...</td>\n",
       "      <td>...</td>\n",
       "      <td>...</td>\n",
       "      <td>...</td>\n",
       "      <td>...</td>\n",
       "      <td>...</td>\n",
       "      <td>...</td>\n",
       "    </tr>\n",
       "    <tr>\n",
       "      <th>1624</th>\n",
       "      <td>Tera Mera Saath Rahen</td>\n",
       "      <td>tt0301250</td>\n",
       "      <td>https://upload.wikimedia.org/wikipedia/en/2/2b...</td>\n",
       "      <td>https://en.wikipedia.org/wiki/Tera_Mera_Saath_...</td>\n",
       "      <td>Tera Mera Saath Rahen</td>\n",
       "      <td>Tera Mera Saath Rahen</td>\n",
       "      <td>0</td>\n",
       "      <td>2001</td>\n",
       "      <td>148</td>\n",
       "      <td>Drama</td>\n",
       "      <td>4.9</td>\n",
       "      <td>278</td>\n",
       "      <td>Raj Dixit lives with his younger brother  Rahu...</td>\n",
       "      <td>A man is torn between his handicapped brother ...</td>\n",
       "      <td>NaN</td>\n",
       "      <td>Ajay Devgn|Sonali Bendre|Namrata Shirodkar|Pre...</td>\n",
       "      <td>NaN</td>\n",
       "      <td>7 November 2001 (India)</td>\n",
       "    </tr>\n",
       "    <tr>\n",
       "      <th>1625</th>\n",
       "      <td>Yeh Zindagi Ka Safar</td>\n",
       "      <td>tt0298607</td>\n",
       "      <td>https://upload.wikimedia.org/wikipedia/en/thum...</td>\n",
       "      <td>https://en.wikipedia.org/wiki/Yeh_Zindagi_Ka_S...</td>\n",
       "      <td>Yeh Zindagi Ka Safar</td>\n",
       "      <td>Yeh Zindagi Ka Safar</td>\n",
       "      <td>0</td>\n",
       "      <td>2001</td>\n",
       "      <td>146</td>\n",
       "      <td>Drama</td>\n",
       "      <td>3.0</td>\n",
       "      <td>133</td>\n",
       "      <td>Hindi pop-star  Sarina Devan  lives a wealthy ...</td>\n",
       "      <td>A singer finds out she was adopted when the ed...</td>\n",
       "      <td>NaN</td>\n",
       "      <td>Ameesha Patel|Jimmy Sheirgill|Nafisa Ali|Gulsh...</td>\n",
       "      <td>NaN</td>\n",
       "      <td>16 November 2001 (India)</td>\n",
       "    </tr>\n",
       "    <tr>\n",
       "      <th>1626</th>\n",
       "      <td>Sabse Bada Sukh</td>\n",
       "      <td>tt0069204</td>\n",
       "      <td>NaN</td>\n",
       "      <td>https://en.wikipedia.org/wiki/Sabse_Bada_Sukh</td>\n",
       "      <td>Sabse Bada Sukh</td>\n",
       "      <td>Sabse Bada Sukh</td>\n",
       "      <td>0</td>\n",
       "      <td>2018</td>\n",
       "      <td>\\N</td>\n",
       "      <td>Comedy|Drama</td>\n",
       "      <td>6.1</td>\n",
       "      <td>13</td>\n",
       "      <td>Village born Lalloo re-locates to Bombay  and ...</td>\n",
       "      <td>Village born Lalloo re-locates to Bombay  and ...</td>\n",
       "      <td>NaN</td>\n",
       "      <td>Vijay Arora|Asrani|Rajni Bala|Kumud Damle|Utpa...</td>\n",
       "      <td>NaN</td>\n",
       "      <td>NaN</td>\n",
       "    </tr>\n",
       "    <tr>\n",
       "      <th>1627</th>\n",
       "      <td>Daaka</td>\n",
       "      <td>tt10833860</td>\n",
       "      <td>https://upload.wikimedia.org/wikipedia/en/thum...</td>\n",
       "      <td>https://en.wikipedia.org/wiki/Daaka</td>\n",
       "      <td>Daaka</td>\n",
       "      <td>Daaka</td>\n",
       "      <td>0</td>\n",
       "      <td>2019</td>\n",
       "      <td>136</td>\n",
       "      <td>Action</td>\n",
       "      <td>7.4</td>\n",
       "      <td>38</td>\n",
       "      <td>Shinda tries robbing a bank so he can be wealt...</td>\n",
       "      <td>Shinda tries robbing a bank so he can be wealt...</td>\n",
       "      <td>NaN</td>\n",
       "      <td>Gippy Grewal|Zareen Khan|</td>\n",
       "      <td>NaN</td>\n",
       "      <td>1 November 2019 (USA)</td>\n",
       "    </tr>\n",
       "    <tr>\n",
       "      <th>1628</th>\n",
       "      <td>Humsafar</td>\n",
       "      <td>tt2403201</td>\n",
       "      <td>https://upload.wikimedia.org/wikipedia/en/thum...</td>\n",
       "      <td>https://en.wikipedia.org/wiki/Humsafar</td>\n",
       "      <td>Humsafar</td>\n",
       "      <td>Humsafar</td>\n",
       "      <td>0</td>\n",
       "      <td>2011</td>\n",
       "      <td>35</td>\n",
       "      <td>Drama|Romance</td>\n",
       "      <td>9.0</td>\n",
       "      <td>2968</td>\n",
       "      <td>Sara and Ashar are childhood friends who share...</td>\n",
       "      <td>Ashar and Khirad are forced to get married due...</td>\n",
       "      <td>NaN</td>\n",
       "      <td>Fawad Khan|</td>\n",
       "      <td>NaN</td>\n",
       "      <td>TV Series (2011–2012)</td>\n",
       "    </tr>\n",
       "  </tbody>\n",
       "</table>\n",
       "<p>1629 rows × 18 columns</p>\n",
       "</div>"
      ],
      "text/plain": [
       "                                   title_x     imdb_id  \\\n",
       "0                 Uri: The Surgical Strike   tt8291224   \n",
       "1                            Battalion 609   tt9472208   \n",
       "2     The Accidental Prime Minister (film)   tt6986710   \n",
       "3                          Why Cheat India   tt8108208   \n",
       "4                          Evening Shadows   tt6028796   \n",
       "...                                    ...         ...   \n",
       "1624                 Tera Mera Saath Rahen   tt0301250   \n",
       "1625                  Yeh Zindagi Ka Safar   tt0298607   \n",
       "1626                       Sabse Bada Sukh   tt0069204   \n",
       "1627                                 Daaka  tt10833860   \n",
       "1628                              Humsafar   tt2403201   \n",
       "\n",
       "                                            poster_path  \\\n",
       "0     https://upload.wikimedia.org/wikipedia/en/thum...   \n",
       "1                                                   NaN   \n",
       "2     https://upload.wikimedia.org/wikipedia/en/thum...   \n",
       "3     https://upload.wikimedia.org/wikipedia/en/thum...   \n",
       "4                                                   NaN   \n",
       "...                                                 ...   \n",
       "1624  https://upload.wikimedia.org/wikipedia/en/2/2b...   \n",
       "1625  https://upload.wikimedia.org/wikipedia/en/thum...   \n",
       "1626                                                NaN   \n",
       "1627  https://upload.wikimedia.org/wikipedia/en/thum...   \n",
       "1628  https://upload.wikimedia.org/wikipedia/en/thum...   \n",
       "\n",
       "                                              wiki_link  \\\n",
       "0     https://en.wikipedia.org/wiki/Uri:_The_Surgica...   \n",
       "1           https://en.wikipedia.org/wiki/Battalion_609   \n",
       "2     https://en.wikipedia.org/wiki/The_Accidental_P...   \n",
       "3         https://en.wikipedia.org/wiki/Why_Cheat_India   \n",
       "4         https://en.wikipedia.org/wiki/Evening_Shadows   \n",
       "...                                                 ...   \n",
       "1624  https://en.wikipedia.org/wiki/Tera_Mera_Saath_...   \n",
       "1625  https://en.wikipedia.org/wiki/Yeh_Zindagi_Ka_S...   \n",
       "1626      https://en.wikipedia.org/wiki/Sabse_Bada_Sukh   \n",
       "1627                https://en.wikipedia.org/wiki/Daaka   \n",
       "1628             https://en.wikipedia.org/wiki/Humsafar   \n",
       "\n",
       "                            title_y                 original_title  is_adult  \\\n",
       "0          Uri: The Surgical Strike       Uri: The Surgical Strike         0   \n",
       "1                     Battalion 609                  Battalion 609         0   \n",
       "2     The Accidental Prime Minister  The Accidental Prime Minister         0   \n",
       "3                   Why Cheat India                Why Cheat India         0   \n",
       "4                   Evening Shadows                Evening Shadows         0   \n",
       "...                             ...                            ...       ...   \n",
       "1624          Tera Mera Saath Rahen          Tera Mera Saath Rahen         0   \n",
       "1625           Yeh Zindagi Ka Safar           Yeh Zindagi Ka Safar         0   \n",
       "1626                Sabse Bada Sukh                Sabse Bada Sukh         0   \n",
       "1627                          Daaka                          Daaka         0   \n",
       "1628                       Humsafar                       Humsafar         0   \n",
       "\n",
       "      year_of_release runtime            genres  imdb_rating  imdb_votes  \\\n",
       "0                2019     138  Action|Drama|War          8.4       35112   \n",
       "1                2019     131               War          4.1          73   \n",
       "2                2019     112   Biography|Drama          6.1        5549   \n",
       "3                2019     121       Crime|Drama          6.0        1891   \n",
       "4                2018     102             Drama          7.3         280   \n",
       "...               ...     ...               ...          ...         ...   \n",
       "1624             2001     148             Drama          4.9         278   \n",
       "1625             2001     146             Drama          3.0         133   \n",
       "1626             2018      \\N      Comedy|Drama          6.1          13   \n",
       "1627             2019     136            Action          7.4          38   \n",
       "1628             2011      35     Drama|Romance          9.0        2968   \n",
       "\n",
       "                                                  story  \\\n",
       "0     Divided over five chapters  the film chronicle...   \n",
       "1     The story revolves around a cricket match betw...   \n",
       "2     Based on the memoir by Indian policy analyst S...   \n",
       "3     The movie focuses on existing malpractices in ...   \n",
       "4     While gay rights and marriage equality has bee...   \n",
       "...                                                 ...   \n",
       "1624  Raj Dixit lives with his younger brother  Rahu...   \n",
       "1625  Hindi pop-star  Sarina Devan  lives a wealthy ...   \n",
       "1626  Village born Lalloo re-locates to Bombay  and ...   \n",
       "1627  Shinda tries robbing a bank so he can be wealt...   \n",
       "1628  Sara and Ashar are childhood friends who share...   \n",
       "\n",
       "                                                summary tagline  \\\n",
       "0     Indian army special forces execute a covert op...     NaN   \n",
       "1     The story of Battalion 609 revolves around a c...     NaN   \n",
       "2     Explores Manmohan Singh's tenure as the Prime ...     NaN   \n",
       "3     The movie focuses on existing malpractices in ...     NaN   \n",
       "4     Under the 'Evening Shadows'  truth often plays...     NaN   \n",
       "...                                                 ...     ...   \n",
       "1624  A man is torn between his handicapped brother ...     NaN   \n",
       "1625  A singer finds out she was adopted when the ed...     NaN   \n",
       "1626  Village born Lalloo re-locates to Bombay  and ...     NaN   \n",
       "1627  Shinda tries robbing a bank so he can be wealt...     NaN   \n",
       "1628  Ashar and Khirad are forced to get married due...     NaN   \n",
       "\n",
       "                                                 actors  \\\n",
       "0     Vicky Kaushal|Paresh Rawal|Mohit Raina|Yami Ga...   \n",
       "1     Vicky Ahuja|Shoaib Ibrahim|Shrikant Kamat|Elen...   \n",
       "2     Anupam Kher|Akshaye Khanna|Aahana Kumra|Atul S...   \n",
       "3     Emraan Hashmi|Shreya Dhanwanthary|Snighdadeep ...   \n",
       "4     Mona Ambegaonkar|Ananth Narayan Mahadevan|Deva...   \n",
       "...                                                 ...   \n",
       "1624  Ajay Devgn|Sonali Bendre|Namrata Shirodkar|Pre...   \n",
       "1625  Ameesha Patel|Jimmy Sheirgill|Nafisa Ali|Gulsh...   \n",
       "1626  Vijay Arora|Asrani|Rajni Bala|Kumud Damle|Utpa...   \n",
       "1627                          Gippy Grewal|Zareen Khan|   \n",
       "1628                                        Fawad Khan|   \n",
       "\n",
       "            wins_nominations              release_date  \n",
       "0                     4 wins     11 January 2019 (USA)  \n",
       "1                        NaN   11 January 2019 (India)  \n",
       "2                        NaN     11 January 2019 (USA)  \n",
       "3                        NaN     18 January 2019 (USA)  \n",
       "4     17 wins & 1 nomination   11 January 2019 (India)  \n",
       "...                      ...                       ...  \n",
       "1624                     NaN   7 November 2001 (India)  \n",
       "1625                     NaN  16 November 2001 (India)  \n",
       "1626                     NaN                       NaN  \n",
       "1627                     NaN     1 November 2019 (USA)  \n",
       "1628                     NaN     TV Series (2011–2012)  \n",
       "\n",
       "[1629 rows x 18 columns]"
      ]
     },
     "execution_count": 12,
     "metadata": {},
     "output_type": "execute_result"
    }
   ],
   "source": [
    "# using read_csv\n",
    "movies = pd.read_csv(r\"C:\\Users\\Rudra\\Desktop\\Data Manipulation with Python\\002_Pandas\\dataset\\datasets-session-17\\movies.csv\")\n",
    "movies"
   ]
  },
  {
   "cell_type": "code",
   "execution_count": 14,
   "metadata": {
    "colab": {
     "base_uri": "https://localhost:8080/",
     "height": 1000
    },
    "executionInfo": {
     "elapsed": 5,
     "status": "ok",
     "timestamp": 1671028936315,
     "user": {
      "displayName": "CampusX",
      "userId": "17274569631252575216"
     },
     "user_tz": -330
    },
    "id": "_yZQ1Z8eFYA6",
    "outputId": "ac6c2153-94f0-4acf-8e20-cffe373e1ace"
   },
   "outputs": [
    {
     "data": {
      "text/html": [
       "<div>\n",
       "<style scoped>\n",
       "    .dataframe tbody tr th:only-of-type {\n",
       "        vertical-align: middle;\n",
       "    }\n",
       "\n",
       "    .dataframe tbody tr th {\n",
       "        vertical-align: top;\n",
       "    }\n",
       "\n",
       "    .dataframe thead th {\n",
       "        text-align: right;\n",
       "    }\n",
       "</style>\n",
       "<table border=\"1\" class=\"dataframe\">\n",
       "  <thead>\n",
       "    <tr style=\"text-align: right;\">\n",
       "      <th></th>\n",
       "      <th>ID</th>\n",
       "      <th>City</th>\n",
       "      <th>Date</th>\n",
       "      <th>Season</th>\n",
       "      <th>MatchNumber</th>\n",
       "      <th>Team1</th>\n",
       "      <th>Team2</th>\n",
       "      <th>Venue</th>\n",
       "      <th>TossWinner</th>\n",
       "      <th>TossDecision</th>\n",
       "      <th>SuperOver</th>\n",
       "      <th>WinningTeam</th>\n",
       "      <th>WonBy</th>\n",
       "      <th>Margin</th>\n",
       "      <th>method</th>\n",
       "      <th>Player_of_Match</th>\n",
       "      <th>Team1Players</th>\n",
       "      <th>Team2Players</th>\n",
       "      <th>Umpire1</th>\n",
       "      <th>Umpire2</th>\n",
       "    </tr>\n",
       "  </thead>\n",
       "  <tbody>\n",
       "    <tr>\n",
       "      <th>0</th>\n",
       "      <td>1312200</td>\n",
       "      <td>Ahmedabad</td>\n",
       "      <td>2022-05-29</td>\n",
       "      <td>2022</td>\n",
       "      <td>Final</td>\n",
       "      <td>Rajasthan Royals</td>\n",
       "      <td>Gujarat Titans</td>\n",
       "      <td>Narendra Modi Stadium, Ahmedabad</td>\n",
       "      <td>Rajasthan Royals</td>\n",
       "      <td>bat</td>\n",
       "      <td>N</td>\n",
       "      <td>Gujarat Titans</td>\n",
       "      <td>Wickets</td>\n",
       "      <td>7.0</td>\n",
       "      <td>NaN</td>\n",
       "      <td>HH Pandya</td>\n",
       "      <td>['YBK Jaiswal', 'JC Buttler', 'SV Samson', 'D ...</td>\n",
       "      <td>['WP Saha', 'Shubman Gill', 'MS Wade', 'HH Pan...</td>\n",
       "      <td>CB Gaffaney</td>\n",
       "      <td>Nitin Menon</td>\n",
       "    </tr>\n",
       "    <tr>\n",
       "      <th>1</th>\n",
       "      <td>1312199</td>\n",
       "      <td>Ahmedabad</td>\n",
       "      <td>2022-05-27</td>\n",
       "      <td>2022</td>\n",
       "      <td>Qualifier 2</td>\n",
       "      <td>Royal Challengers Bangalore</td>\n",
       "      <td>Rajasthan Royals</td>\n",
       "      <td>Narendra Modi Stadium, Ahmedabad</td>\n",
       "      <td>Rajasthan Royals</td>\n",
       "      <td>field</td>\n",
       "      <td>N</td>\n",
       "      <td>Rajasthan Royals</td>\n",
       "      <td>Wickets</td>\n",
       "      <td>7.0</td>\n",
       "      <td>NaN</td>\n",
       "      <td>JC Buttler</td>\n",
       "      <td>['V Kohli', 'F du Plessis', 'RM Patidar', 'GJ ...</td>\n",
       "      <td>['YBK Jaiswal', 'JC Buttler', 'SV Samson', 'D ...</td>\n",
       "      <td>CB Gaffaney</td>\n",
       "      <td>Nitin Menon</td>\n",
       "    </tr>\n",
       "    <tr>\n",
       "      <th>2</th>\n",
       "      <td>1312198</td>\n",
       "      <td>Kolkata</td>\n",
       "      <td>2022-05-25</td>\n",
       "      <td>2022</td>\n",
       "      <td>Eliminator</td>\n",
       "      <td>Royal Challengers Bangalore</td>\n",
       "      <td>Lucknow Super Giants</td>\n",
       "      <td>Eden Gardens, Kolkata</td>\n",
       "      <td>Lucknow Super Giants</td>\n",
       "      <td>field</td>\n",
       "      <td>N</td>\n",
       "      <td>Royal Challengers Bangalore</td>\n",
       "      <td>Runs</td>\n",
       "      <td>14.0</td>\n",
       "      <td>NaN</td>\n",
       "      <td>RM Patidar</td>\n",
       "      <td>['V Kohli', 'F du Plessis', 'RM Patidar', 'GJ ...</td>\n",
       "      <td>['Q de Kock', 'KL Rahul', 'M Vohra', 'DJ Hooda...</td>\n",
       "      <td>J Madanagopal</td>\n",
       "      <td>MA Gough</td>\n",
       "    </tr>\n",
       "    <tr>\n",
       "      <th>3</th>\n",
       "      <td>1312197</td>\n",
       "      <td>Kolkata</td>\n",
       "      <td>2022-05-24</td>\n",
       "      <td>2022</td>\n",
       "      <td>Qualifier 1</td>\n",
       "      <td>Rajasthan Royals</td>\n",
       "      <td>Gujarat Titans</td>\n",
       "      <td>Eden Gardens, Kolkata</td>\n",
       "      <td>Gujarat Titans</td>\n",
       "      <td>field</td>\n",
       "      <td>N</td>\n",
       "      <td>Gujarat Titans</td>\n",
       "      <td>Wickets</td>\n",
       "      <td>7.0</td>\n",
       "      <td>NaN</td>\n",
       "      <td>DA Miller</td>\n",
       "      <td>['YBK Jaiswal', 'JC Buttler', 'SV Samson', 'D ...</td>\n",
       "      <td>['WP Saha', 'Shubman Gill', 'MS Wade', 'HH Pan...</td>\n",
       "      <td>BNJ Oxenford</td>\n",
       "      <td>VK Sharma</td>\n",
       "    </tr>\n",
       "    <tr>\n",
       "      <th>4</th>\n",
       "      <td>1304116</td>\n",
       "      <td>Mumbai</td>\n",
       "      <td>2022-05-22</td>\n",
       "      <td>2022</td>\n",
       "      <td>70</td>\n",
       "      <td>Sunrisers Hyderabad</td>\n",
       "      <td>Punjab Kings</td>\n",
       "      <td>Wankhede Stadium, Mumbai</td>\n",
       "      <td>Sunrisers Hyderabad</td>\n",
       "      <td>bat</td>\n",
       "      <td>N</td>\n",
       "      <td>Punjab Kings</td>\n",
       "      <td>Wickets</td>\n",
       "      <td>5.0</td>\n",
       "      <td>NaN</td>\n",
       "      <td>Harpreet Brar</td>\n",
       "      <td>['PK Garg', 'Abhishek Sharma', 'RA Tripathi', ...</td>\n",
       "      <td>['JM Bairstow', 'S Dhawan', 'M Shahrukh Khan',...</td>\n",
       "      <td>AK Chaudhary</td>\n",
       "      <td>NA Patwardhan</td>\n",
       "    </tr>\n",
       "    <tr>\n",
       "      <th>...</th>\n",
       "      <td>...</td>\n",
       "      <td>...</td>\n",
       "      <td>...</td>\n",
       "      <td>...</td>\n",
       "      <td>...</td>\n",
       "      <td>...</td>\n",
       "      <td>...</td>\n",
       "      <td>...</td>\n",
       "      <td>...</td>\n",
       "      <td>...</td>\n",
       "      <td>...</td>\n",
       "      <td>...</td>\n",
       "      <td>...</td>\n",
       "      <td>...</td>\n",
       "      <td>...</td>\n",
       "      <td>...</td>\n",
       "      <td>...</td>\n",
       "      <td>...</td>\n",
       "      <td>...</td>\n",
       "      <td>...</td>\n",
       "    </tr>\n",
       "    <tr>\n",
       "      <th>945</th>\n",
       "      <td>335986</td>\n",
       "      <td>Kolkata</td>\n",
       "      <td>2008-04-20</td>\n",
       "      <td>2007/08</td>\n",
       "      <td>4</td>\n",
       "      <td>Kolkata Knight Riders</td>\n",
       "      <td>Deccan Chargers</td>\n",
       "      <td>Eden Gardens</td>\n",
       "      <td>Deccan Chargers</td>\n",
       "      <td>bat</td>\n",
       "      <td>N</td>\n",
       "      <td>Kolkata Knight Riders</td>\n",
       "      <td>Wickets</td>\n",
       "      <td>5.0</td>\n",
       "      <td>NaN</td>\n",
       "      <td>DJ Hussey</td>\n",
       "      <td>['WP Saha', 'BB McCullum', 'RT Ponting', 'SC G...</td>\n",
       "      <td>['AC Gilchrist', 'Y Venugopal Rao', 'VVS Laxma...</td>\n",
       "      <td>BF Bowden</td>\n",
       "      <td>K Hariharan</td>\n",
       "    </tr>\n",
       "    <tr>\n",
       "      <th>946</th>\n",
       "      <td>335985</td>\n",
       "      <td>Mumbai</td>\n",
       "      <td>2008-04-20</td>\n",
       "      <td>2007/08</td>\n",
       "      <td>5</td>\n",
       "      <td>Mumbai Indians</td>\n",
       "      <td>Royal Challengers Bangalore</td>\n",
       "      <td>Wankhede Stadium</td>\n",
       "      <td>Mumbai Indians</td>\n",
       "      <td>bat</td>\n",
       "      <td>N</td>\n",
       "      <td>Royal Challengers Bangalore</td>\n",
       "      <td>Wickets</td>\n",
       "      <td>5.0</td>\n",
       "      <td>NaN</td>\n",
       "      <td>MV Boucher</td>\n",
       "      <td>['L Ronchi', 'ST Jayasuriya', 'DJ Thornely', '...</td>\n",
       "      <td>['S Chanderpaul', 'R Dravid', 'LRPL Taylor', '...</td>\n",
       "      <td>SJ Davis</td>\n",
       "      <td>DJ Harper</td>\n",
       "    </tr>\n",
       "    <tr>\n",
       "      <th>947</th>\n",
       "      <td>335984</td>\n",
       "      <td>Delhi</td>\n",
       "      <td>2008-04-19</td>\n",
       "      <td>2007/08</td>\n",
       "      <td>3</td>\n",
       "      <td>Delhi Daredevils</td>\n",
       "      <td>Rajasthan Royals</td>\n",
       "      <td>Feroz Shah Kotla</td>\n",
       "      <td>Rajasthan Royals</td>\n",
       "      <td>bat</td>\n",
       "      <td>N</td>\n",
       "      <td>Delhi Daredevils</td>\n",
       "      <td>Wickets</td>\n",
       "      <td>9.0</td>\n",
       "      <td>NaN</td>\n",
       "      <td>MF Maharoof</td>\n",
       "      <td>['G Gambhir', 'V Sehwag', 'S Dhawan', 'MK Tiwa...</td>\n",
       "      <td>['T Kohli', 'YK Pathan', 'SR Watson', 'M Kaif'...</td>\n",
       "      <td>Aleem Dar</td>\n",
       "      <td>GA Pratapkumar</td>\n",
       "    </tr>\n",
       "    <tr>\n",
       "      <th>948</th>\n",
       "      <td>335983</td>\n",
       "      <td>Chandigarh</td>\n",
       "      <td>2008-04-19</td>\n",
       "      <td>2007/08</td>\n",
       "      <td>2</td>\n",
       "      <td>Kings XI Punjab</td>\n",
       "      <td>Chennai Super Kings</td>\n",
       "      <td>Punjab Cricket Association Stadium, Mohali</td>\n",
       "      <td>Chennai Super Kings</td>\n",
       "      <td>bat</td>\n",
       "      <td>N</td>\n",
       "      <td>Chennai Super Kings</td>\n",
       "      <td>Runs</td>\n",
       "      <td>33.0</td>\n",
       "      <td>NaN</td>\n",
       "      <td>MEK Hussey</td>\n",
       "      <td>['K Goel', 'JR Hopes', 'KC Sangakkara', 'Yuvra...</td>\n",
       "      <td>['PA Patel', 'ML Hayden', 'MEK Hussey', 'MS Dh...</td>\n",
       "      <td>MR Benson</td>\n",
       "      <td>SL Shastri</td>\n",
       "    </tr>\n",
       "    <tr>\n",
       "      <th>949</th>\n",
       "      <td>335982</td>\n",
       "      <td>Bangalore</td>\n",
       "      <td>2008-04-18</td>\n",
       "      <td>2007/08</td>\n",
       "      <td>1</td>\n",
       "      <td>Royal Challengers Bangalore</td>\n",
       "      <td>Kolkata Knight Riders</td>\n",
       "      <td>M Chinnaswamy Stadium</td>\n",
       "      <td>Royal Challengers Bangalore</td>\n",
       "      <td>field</td>\n",
       "      <td>N</td>\n",
       "      <td>Kolkata Knight Riders</td>\n",
       "      <td>Runs</td>\n",
       "      <td>140.0</td>\n",
       "      <td>NaN</td>\n",
       "      <td>BB McCullum</td>\n",
       "      <td>['R Dravid', 'W Jaffer', 'V Kohli', 'JH Kallis...</td>\n",
       "      <td>['SC Ganguly', 'BB McCullum', 'RT Ponting', 'D...</td>\n",
       "      <td>Asad Rauf</td>\n",
       "      <td>RE Koertzen</td>\n",
       "    </tr>\n",
       "  </tbody>\n",
       "</table>\n",
       "<p>950 rows × 20 columns</p>\n",
       "</div>"
      ],
      "text/plain": [
       "          ID        City        Date   Season  MatchNumber  \\\n",
       "0    1312200   Ahmedabad  2022-05-29     2022        Final   \n",
       "1    1312199   Ahmedabad  2022-05-27     2022  Qualifier 2   \n",
       "2    1312198     Kolkata  2022-05-25     2022   Eliminator   \n",
       "3    1312197     Kolkata  2022-05-24     2022  Qualifier 1   \n",
       "4    1304116      Mumbai  2022-05-22     2022           70   \n",
       "..       ...         ...         ...      ...          ...   \n",
       "945   335986     Kolkata  2008-04-20  2007/08            4   \n",
       "946   335985      Mumbai  2008-04-20  2007/08            5   \n",
       "947   335984       Delhi  2008-04-19  2007/08            3   \n",
       "948   335983  Chandigarh  2008-04-19  2007/08            2   \n",
       "949   335982   Bangalore  2008-04-18  2007/08            1   \n",
       "\n",
       "                           Team1                        Team2  \\\n",
       "0               Rajasthan Royals               Gujarat Titans   \n",
       "1    Royal Challengers Bangalore             Rajasthan Royals   \n",
       "2    Royal Challengers Bangalore         Lucknow Super Giants   \n",
       "3               Rajasthan Royals               Gujarat Titans   \n",
       "4            Sunrisers Hyderabad                 Punjab Kings   \n",
       "..                           ...                          ...   \n",
       "945        Kolkata Knight Riders              Deccan Chargers   \n",
       "946               Mumbai Indians  Royal Challengers Bangalore   \n",
       "947             Delhi Daredevils             Rajasthan Royals   \n",
       "948              Kings XI Punjab          Chennai Super Kings   \n",
       "949  Royal Challengers Bangalore        Kolkata Knight Riders   \n",
       "\n",
       "                                          Venue                   TossWinner  \\\n",
       "0              Narendra Modi Stadium, Ahmedabad             Rajasthan Royals   \n",
       "1              Narendra Modi Stadium, Ahmedabad             Rajasthan Royals   \n",
       "2                         Eden Gardens, Kolkata         Lucknow Super Giants   \n",
       "3                         Eden Gardens, Kolkata               Gujarat Titans   \n",
       "4                      Wankhede Stadium, Mumbai          Sunrisers Hyderabad   \n",
       "..                                          ...                          ...   \n",
       "945                                Eden Gardens              Deccan Chargers   \n",
       "946                            Wankhede Stadium               Mumbai Indians   \n",
       "947                            Feroz Shah Kotla             Rajasthan Royals   \n",
       "948  Punjab Cricket Association Stadium, Mohali          Chennai Super Kings   \n",
       "949                       M Chinnaswamy Stadium  Royal Challengers Bangalore   \n",
       "\n",
       "    TossDecision SuperOver                  WinningTeam    WonBy  Margin  \\\n",
       "0            bat         N               Gujarat Titans  Wickets     7.0   \n",
       "1          field         N             Rajasthan Royals  Wickets     7.0   \n",
       "2          field         N  Royal Challengers Bangalore     Runs    14.0   \n",
       "3          field         N               Gujarat Titans  Wickets     7.0   \n",
       "4            bat         N                 Punjab Kings  Wickets     5.0   \n",
       "..           ...       ...                          ...      ...     ...   \n",
       "945          bat         N        Kolkata Knight Riders  Wickets     5.0   \n",
       "946          bat         N  Royal Challengers Bangalore  Wickets     5.0   \n",
       "947          bat         N             Delhi Daredevils  Wickets     9.0   \n",
       "948          bat         N          Chennai Super Kings     Runs    33.0   \n",
       "949        field         N        Kolkata Knight Riders     Runs   140.0   \n",
       "\n",
       "    method Player_of_Match                                       Team1Players  \\\n",
       "0      NaN       HH Pandya  ['YBK Jaiswal', 'JC Buttler', 'SV Samson', 'D ...   \n",
       "1      NaN      JC Buttler  ['V Kohli', 'F du Plessis', 'RM Patidar', 'GJ ...   \n",
       "2      NaN      RM Patidar  ['V Kohli', 'F du Plessis', 'RM Patidar', 'GJ ...   \n",
       "3      NaN       DA Miller  ['YBK Jaiswal', 'JC Buttler', 'SV Samson', 'D ...   \n",
       "4      NaN   Harpreet Brar  ['PK Garg', 'Abhishek Sharma', 'RA Tripathi', ...   \n",
       "..     ...             ...                                                ...   \n",
       "945    NaN       DJ Hussey  ['WP Saha', 'BB McCullum', 'RT Ponting', 'SC G...   \n",
       "946    NaN      MV Boucher  ['L Ronchi', 'ST Jayasuriya', 'DJ Thornely', '...   \n",
       "947    NaN     MF Maharoof  ['G Gambhir', 'V Sehwag', 'S Dhawan', 'MK Tiwa...   \n",
       "948    NaN      MEK Hussey  ['K Goel', 'JR Hopes', 'KC Sangakkara', 'Yuvra...   \n",
       "949    NaN     BB McCullum  ['R Dravid', 'W Jaffer', 'V Kohli', 'JH Kallis...   \n",
       "\n",
       "                                          Team2Players        Umpire1  \\\n",
       "0    ['WP Saha', 'Shubman Gill', 'MS Wade', 'HH Pan...    CB Gaffaney   \n",
       "1    ['YBK Jaiswal', 'JC Buttler', 'SV Samson', 'D ...    CB Gaffaney   \n",
       "2    ['Q de Kock', 'KL Rahul', 'M Vohra', 'DJ Hooda...  J Madanagopal   \n",
       "3    ['WP Saha', 'Shubman Gill', 'MS Wade', 'HH Pan...   BNJ Oxenford   \n",
       "4    ['JM Bairstow', 'S Dhawan', 'M Shahrukh Khan',...   AK Chaudhary   \n",
       "..                                                 ...            ...   \n",
       "945  ['AC Gilchrist', 'Y Venugopal Rao', 'VVS Laxma...      BF Bowden   \n",
       "946  ['S Chanderpaul', 'R Dravid', 'LRPL Taylor', '...       SJ Davis   \n",
       "947  ['T Kohli', 'YK Pathan', 'SR Watson', 'M Kaif'...      Aleem Dar   \n",
       "948  ['PA Patel', 'ML Hayden', 'MEK Hussey', 'MS Dh...      MR Benson   \n",
       "949  ['SC Ganguly', 'BB McCullum', 'RT Ponting', 'D...      Asad Rauf   \n",
       "\n",
       "            Umpire2  \n",
       "0       Nitin Menon  \n",
       "1       Nitin Menon  \n",
       "2          MA Gough  \n",
       "3         VK Sharma  \n",
       "4     NA Patwardhan  \n",
       "..              ...  \n",
       "945     K Hariharan  \n",
       "946       DJ Harper  \n",
       "947  GA Pratapkumar  \n",
       "948      SL Shastri  \n",
       "949     RE Koertzen  \n",
       "\n",
       "[950 rows x 20 columns]"
      ]
     },
     "execution_count": 14,
     "metadata": {},
     "output_type": "execute_result"
    }
   ],
   "source": [
    "ipl = pd.read_csv(r\"C:\\Users\\Rudra\\Desktop\\Data Manipulation with Python\\002_Pandas\\dataset\\datasets-session-17\\ipl-matches.csv\")\n",
    "ipl"
   ]
  },
  {
   "cell_type": "code",
   "execution_count": 23,
   "metadata": {},
   "outputs": [
    {
     "data": {
      "text/html": [
       "<div>\n",
       "<style scoped>\n",
       "    .dataframe tbody tr th:only-of-type {\n",
       "        vertical-align: middle;\n",
       "    }\n",
       "\n",
       "    .dataframe tbody tr th {\n",
       "        vertical-align: top;\n",
       "    }\n",
       "\n",
       "    .dataframe thead th {\n",
       "        text-align: right;\n",
       "    }\n",
       "</style>\n",
       "<table border=\"1\" class=\"dataframe\">\n",
       "  <thead>\n",
       "    <tr style=\"text-align: right;\">\n",
       "      <th></th>\n",
       "      <th>Pregnancies</th>\n",
       "      <th>Glucose</th>\n",
       "      <th>BloodPressure</th>\n",
       "      <th>SkinThickness</th>\n",
       "      <th>Insulin</th>\n",
       "      <th>BMI</th>\n",
       "      <th>DiabetesPedigreeFunction</th>\n",
       "      <th>Age</th>\n",
       "      <th>Outcome</th>\n",
       "    </tr>\n",
       "  </thead>\n",
       "  <tbody>\n",
       "    <tr>\n",
       "      <th>0</th>\n",
       "      <td>6</td>\n",
       "      <td>148</td>\n",
       "      <td>72</td>\n",
       "      <td>35</td>\n",
       "      <td>0</td>\n",
       "      <td>33.6</td>\n",
       "      <td>0.627</td>\n",
       "      <td>50</td>\n",
       "      <td>1</td>\n",
       "    </tr>\n",
       "    <tr>\n",
       "      <th>1</th>\n",
       "      <td>1</td>\n",
       "      <td>85</td>\n",
       "      <td>66</td>\n",
       "      <td>29</td>\n",
       "      <td>0</td>\n",
       "      <td>26.6</td>\n",
       "      <td>0.351</td>\n",
       "      <td>31</td>\n",
       "      <td>0</td>\n",
       "    </tr>\n",
       "    <tr>\n",
       "      <th>2</th>\n",
       "      <td>8</td>\n",
       "      <td>183</td>\n",
       "      <td>64</td>\n",
       "      <td>0</td>\n",
       "      <td>0</td>\n",
       "      <td>23.3</td>\n",
       "      <td>0.672</td>\n",
       "      <td>32</td>\n",
       "      <td>1</td>\n",
       "    </tr>\n",
       "    <tr>\n",
       "      <th>3</th>\n",
       "      <td>1</td>\n",
       "      <td>89</td>\n",
       "      <td>66</td>\n",
       "      <td>23</td>\n",
       "      <td>94</td>\n",
       "      <td>28.1</td>\n",
       "      <td>0.167</td>\n",
       "      <td>21</td>\n",
       "      <td>0</td>\n",
       "    </tr>\n",
       "    <tr>\n",
       "      <th>4</th>\n",
       "      <td>0</td>\n",
       "      <td>137</td>\n",
       "      <td>40</td>\n",
       "      <td>35</td>\n",
       "      <td>168</td>\n",
       "      <td>43.1</td>\n",
       "      <td>2.288</td>\n",
       "      <td>33</td>\n",
       "      <td>1</td>\n",
       "    </tr>\n",
       "    <tr>\n",
       "      <th>...</th>\n",
       "      <td>...</td>\n",
       "      <td>...</td>\n",
       "      <td>...</td>\n",
       "      <td>...</td>\n",
       "      <td>...</td>\n",
       "      <td>...</td>\n",
       "      <td>...</td>\n",
       "      <td>...</td>\n",
       "      <td>...</td>\n",
       "    </tr>\n",
       "    <tr>\n",
       "      <th>763</th>\n",
       "      <td>10</td>\n",
       "      <td>101</td>\n",
       "      <td>76</td>\n",
       "      <td>48</td>\n",
       "      <td>180</td>\n",
       "      <td>32.9</td>\n",
       "      <td>0.171</td>\n",
       "      <td>63</td>\n",
       "      <td>0</td>\n",
       "    </tr>\n",
       "    <tr>\n",
       "      <th>764</th>\n",
       "      <td>2</td>\n",
       "      <td>122</td>\n",
       "      <td>70</td>\n",
       "      <td>27</td>\n",
       "      <td>0</td>\n",
       "      <td>36.8</td>\n",
       "      <td>0.340</td>\n",
       "      <td>27</td>\n",
       "      <td>0</td>\n",
       "    </tr>\n",
       "    <tr>\n",
       "      <th>765</th>\n",
       "      <td>5</td>\n",
       "      <td>121</td>\n",
       "      <td>72</td>\n",
       "      <td>23</td>\n",
       "      <td>112</td>\n",
       "      <td>26.2</td>\n",
       "      <td>0.245</td>\n",
       "      <td>30</td>\n",
       "      <td>0</td>\n",
       "    </tr>\n",
       "    <tr>\n",
       "      <th>766</th>\n",
       "      <td>1</td>\n",
       "      <td>126</td>\n",
       "      <td>60</td>\n",
       "      <td>0</td>\n",
       "      <td>0</td>\n",
       "      <td>30.1</td>\n",
       "      <td>0.349</td>\n",
       "      <td>47</td>\n",
       "      <td>1</td>\n",
       "    </tr>\n",
       "    <tr>\n",
       "      <th>767</th>\n",
       "      <td>1</td>\n",
       "      <td>93</td>\n",
       "      <td>70</td>\n",
       "      <td>31</td>\n",
       "      <td>0</td>\n",
       "      <td>30.4</td>\n",
       "      <td>0.315</td>\n",
       "      <td>23</td>\n",
       "      <td>0</td>\n",
       "    </tr>\n",
       "  </tbody>\n",
       "</table>\n",
       "<p>768 rows × 9 columns</p>\n",
       "</div>"
      ],
      "text/plain": [
       "     Pregnancies  Glucose  BloodPressure  SkinThickness  Insulin   BMI  \\\n",
       "0              6      148             72             35        0  33.6   \n",
       "1              1       85             66             29        0  26.6   \n",
       "2              8      183             64              0        0  23.3   \n",
       "3              1       89             66             23       94  28.1   \n",
       "4              0      137             40             35      168  43.1   \n",
       "..           ...      ...            ...            ...      ...   ...   \n",
       "763           10      101             76             48      180  32.9   \n",
       "764            2      122             70             27        0  36.8   \n",
       "765            5      121             72             23      112  26.2   \n",
       "766            1      126             60              0        0  30.1   \n",
       "767            1       93             70             31        0  30.4   \n",
       "\n",
       "     DiabetesPedigreeFunction  Age  Outcome  \n",
       "0                       0.627   50        1  \n",
       "1                       0.351   31        0  \n",
       "2                       0.672   32        1  \n",
       "3                       0.167   21        0  \n",
       "4                       2.288   33        1  \n",
       "..                        ...  ...      ...  \n",
       "763                     0.171   63        0  \n",
       "764                     0.340   27        0  \n",
       "765                     0.245   30        0  \n",
       "766                     0.349   47        1  \n",
       "767                     0.315   23        0  \n",
       "\n",
       "[768 rows x 9 columns]"
      ]
     },
     "execution_count": 23,
     "metadata": {},
     "output_type": "execute_result"
    }
   ],
   "source": [
    "diabetes = pd.read_csv(r\"C:\\Users\\Rudra\\Desktop\\Data Manipulation with Python\\002_Pandas\\dataset\\datasets-session-17\\diabetes.csv\")\n",
    "diabetes"
   ]
  },
  {
   "cell_type": "code",
   "execution_count": 24,
   "metadata": {},
   "outputs": [
    {
     "data": {
      "text/html": [
       "<div>\n",
       "<style scoped>\n",
       "    .dataframe tbody tr th:only-of-type {\n",
       "        vertical-align: middle;\n",
       "    }\n",
       "\n",
       "    .dataframe tbody tr th {\n",
       "        vertical-align: top;\n",
       "    }\n",
       "\n",
       "    .dataframe thead th {\n",
       "        text-align: right;\n",
       "    }\n",
       "</style>\n",
       "<table border=\"1\" class=\"dataframe\">\n",
       "  <thead>\n",
       "    <tr style=\"text-align: right;\">\n",
       "      <th></th>\n",
       "      <th>batter</th>\n",
       "      <th>batsman_run</th>\n",
       "    </tr>\n",
       "  </thead>\n",
       "  <tbody>\n",
       "    <tr>\n",
       "      <th>0</th>\n",
       "      <td>A Ashish Reddy</td>\n",
       "      <td>280</td>\n",
       "    </tr>\n",
       "    <tr>\n",
       "      <th>1</th>\n",
       "      <td>A Badoni</td>\n",
       "      <td>161</td>\n",
       "    </tr>\n",
       "    <tr>\n",
       "      <th>2</th>\n",
       "      <td>A Chandila</td>\n",
       "      <td>4</td>\n",
       "    </tr>\n",
       "    <tr>\n",
       "      <th>3</th>\n",
       "      <td>A Chopra</td>\n",
       "      <td>53</td>\n",
       "    </tr>\n",
       "    <tr>\n",
       "      <th>4</th>\n",
       "      <td>A Choudhary</td>\n",
       "      <td>25</td>\n",
       "    </tr>\n",
       "    <tr>\n",
       "      <th>...</th>\n",
       "      <td>...</td>\n",
       "      <td>...</td>\n",
       "    </tr>\n",
       "    <tr>\n",
       "      <th>600</th>\n",
       "      <td>Yash Dayal</td>\n",
       "      <td>0</td>\n",
       "    </tr>\n",
       "    <tr>\n",
       "      <th>601</th>\n",
       "      <td>Yashpal Singh</td>\n",
       "      <td>47</td>\n",
       "    </tr>\n",
       "    <tr>\n",
       "      <th>602</th>\n",
       "      <td>Younis Khan</td>\n",
       "      <td>3</td>\n",
       "    </tr>\n",
       "    <tr>\n",
       "      <th>603</th>\n",
       "      <td>Yuvraj Singh</td>\n",
       "      <td>2754</td>\n",
       "    </tr>\n",
       "    <tr>\n",
       "      <th>604</th>\n",
       "      <td>Z Khan</td>\n",
       "      <td>117</td>\n",
       "    </tr>\n",
       "  </tbody>\n",
       "</table>\n",
       "<p>605 rows × 2 columns</p>\n",
       "</div>"
      ],
      "text/plain": [
       "             batter  batsman_run\n",
       "0    A Ashish Reddy          280\n",
       "1          A Badoni          161\n",
       "2        A Chandila            4\n",
       "3          A Chopra           53\n",
       "4       A Choudhary           25\n",
       "..              ...          ...\n",
       "600      Yash Dayal            0\n",
       "601   Yashpal Singh           47\n",
       "602     Younis Khan            3\n",
       "603    Yuvraj Singh         2754\n",
       "604          Z Khan          117\n",
       "\n",
       "[605 rows x 2 columns]"
      ]
     },
     "execution_count": 24,
     "metadata": {},
     "output_type": "execute_result"
    }
   ],
   "source": [
    "batsman = pd.read_csv(r\"C:\\Users\\Rudra\\Desktop\\Data Manipulation with Python\\002_Pandas\\dataset\\datasets-session-17\\batsman_runs_ipl.csv\")\n",
    "batsman"
   ]
  },
  {
   "cell_type": "markdown",
   "metadata": {
    "id": "WpiZf0HmvGkY"
   },
   "source": [
    "### DataFrame Attributes and Methods"
   ]
  },
  {
   "cell_type": "markdown",
   "metadata": {},
   "source": [
    "#### Shape"
   ]
  },
  {
   "cell_type": "code",
   "execution_count": 15,
   "metadata": {},
   "outputs": [
    {
     "data": {
      "text/plain": [
       "(1629, 18)"
      ]
     },
     "execution_count": 15,
     "metadata": {},
     "output_type": "execute_result"
    }
   ],
   "source": [
    "movies.shape"
   ]
  },
  {
   "cell_type": "code",
   "execution_count": 16,
   "metadata": {},
   "outputs": [
    {
     "data": {
      "text/plain": [
       "(950, 20)"
      ]
     },
     "execution_count": 16,
     "metadata": {},
     "output_type": "execute_result"
    }
   ],
   "source": [
    "ipl.shape"
   ]
  },
  {
   "cell_type": "markdown",
   "metadata": {},
   "source": [
    "#### dtypes"
   ]
  },
  {
   "cell_type": "code",
   "execution_count": 17,
   "metadata": {},
   "outputs": [
    {
     "data": {
      "text/plain": [
       "title_x              object\n",
       "imdb_id              object\n",
       "poster_path          object\n",
       "wiki_link            object\n",
       "title_y              object\n",
       "original_title       object\n",
       "is_adult              int64\n",
       "year_of_release       int64\n",
       "runtime              object\n",
       "genres               object\n",
       "imdb_rating         float64\n",
       "imdb_votes            int64\n",
       "story                object\n",
       "summary              object\n",
       "tagline              object\n",
       "actors               object\n",
       "wins_nominations     object\n",
       "release_date         object\n",
       "dtype: object"
      ]
     },
     "execution_count": 17,
     "metadata": {},
     "output_type": "execute_result"
    }
   ],
   "source": [
    "movies.dtypes"
   ]
  },
  {
   "cell_type": "code",
   "execution_count": 18,
   "metadata": {
    "colab": {
     "base_uri": "https://localhost:8080/"
    },
    "executionInfo": {
     "elapsed": 5,
     "status": "ok",
     "timestamp": 1671029223066,
     "user": {
      "displayName": "CampusX",
      "userId": "17274569631252575216"
     },
     "user_tz": -330
    },
    "id": "G6eWCQUlvLBk",
    "outputId": "d6f5c1ea-1e1a-4e48-a1b7-cbcef5d4d634"
   },
   "outputs": [
    {
     "data": {
      "text/plain": [
       "ID                   int64\n",
       "City                object\n",
       "Date                object\n",
       "Season              object\n",
       "MatchNumber         object\n",
       "Team1               object\n",
       "Team2               object\n",
       "Venue               object\n",
       "TossWinner          object\n",
       "TossDecision        object\n",
       "SuperOver           object\n",
       "WinningTeam         object\n",
       "WonBy               object\n",
       "Margin             float64\n",
       "method              object\n",
       "Player_of_Match     object\n",
       "Team1Players        object\n",
       "Team2Players        object\n",
       "Umpire1             object\n",
       "Umpire2             object\n",
       "dtype: object"
      ]
     },
     "execution_count": 18,
     "metadata": {},
     "output_type": "execute_result"
    }
   ],
   "source": [
    "# dtypes\n",
    "ipl.dtypes"
   ]
  },
  {
   "cell_type": "markdown",
   "metadata": {},
   "source": [
    "#### index"
   ]
  },
  {
   "cell_type": "code",
   "execution_count": 29,
   "metadata": {
    "colab": {
     "base_uri": "https://localhost:8080/"
    },
    "executionInfo": {
     "elapsed": 393,
     "status": "ok",
     "timestamp": 1671029275318,
     "user": {
      "displayName": "CampusX",
      "userId": "17274569631252575216"
     },
     "user_tz": -330
    },
    "id": "WEQltw3hvrwj",
    "outputId": "6b6c3d7d-a376-4072-dabf-488a0d5e5133"
   },
   "outputs": [
    {
     "data": {
      "text/plain": [
       "RangeIndex(start=0, stop=1629, step=1)"
      ]
     },
     "execution_count": 29,
     "metadata": {},
     "output_type": "execute_result"
    }
   ],
   "source": [
    "# index\n",
    "movies.index\n"
   ]
  },
  {
   "cell_type": "code",
   "execution_count": 30,
   "metadata": {},
   "outputs": [
    {
     "data": {
      "text/plain": [
       "RangeIndex(start=0, stop=950, step=1)"
      ]
     },
     "execution_count": 30,
     "metadata": {},
     "output_type": "execute_result"
    }
   ],
   "source": [
    "ipl.index"
   ]
  },
  {
   "cell_type": "markdown",
   "metadata": {},
   "source": [
    "#### Columns"
   ]
  },
  {
   "cell_type": "code",
   "execution_count": 31,
   "metadata": {
    "colab": {
     "base_uri": "https://localhost:8080/"
    },
    "executionInfo": {
     "elapsed": 2,
     "status": "ok",
     "timestamp": 1671029329542,
     "user": {
      "displayName": "CampusX",
      "userId": "17274569631252575216"
     },
     "user_tz": -330
    },
    "id": "yfzmkEZCvNNU",
    "outputId": "0e8acc8e-98d3-4053-e828-d30341e52f44"
   },
   "outputs": [
    {
     "data": {
      "text/plain": [
       "Index(['title_x', 'imdb_id', 'poster_path', 'wiki_link', 'title_y',\n",
       "       'original_title', 'is_adult', 'year_of_release', 'runtime', 'genres',\n",
       "       'imdb_rating', 'imdb_votes', 'story', 'summary', 'tagline', 'actors',\n",
       "       'wins_nominations', 'release_date'],\n",
       "      dtype='object')"
      ]
     },
     "execution_count": 31,
     "metadata": {},
     "output_type": "execute_result"
    }
   ],
   "source": [
    "# columns\n",
    "movies.columns\n"
   ]
  },
  {
   "cell_type": "code",
   "execution_count": 32,
   "metadata": {},
   "outputs": [
    {
     "data": {
      "text/plain": [
       "Index(['ID', 'City', 'Date', 'Season', 'MatchNumber', 'Team1', 'Team2',\n",
       "       'Venue', 'TossWinner', 'TossDecision', 'SuperOver', 'WinningTeam',\n",
       "       'WonBy', 'Margin', 'method', 'Player_of_Match', 'Team1Players',\n",
       "       'Team2Players', 'Umpire1', 'Umpire2'],\n",
       "      dtype='object')"
      ]
     },
     "execution_count": 32,
     "metadata": {},
     "output_type": "execute_result"
    }
   ],
   "source": [
    "ipl.columns\n"
   ]
  },
  {
   "cell_type": "markdown",
   "metadata": {},
   "source": [
    "#### Values"
   ]
  },
  {
   "cell_type": "code",
   "execution_count": null,
   "metadata": {
    "colab": {
     "base_uri": "https://localhost:8080/"
    },
    "executionInfo": {
     "elapsed": 3,
     "status": "ok",
     "timestamp": 1671029368195,
     "user": {
      "displayName": "CampusX",
      "userId": "17274569631252575216"
     },
     "user_tz": -330
    },
    "id": "uVzQeTwfvO8h",
    "outputId": "de070a5f-4061-4613-cfdc-363c40f88819"
   },
   "outputs": [
    {
     "data": {
      "text/plain": [
       "array([[1312200, 'Ahmedabad', '2022-05-29', ...,\n",
       "        \"['WP Saha', 'Shubman Gill', 'MS Wade', 'HH Pandya', 'DA Miller', 'R Tewatia', 'Rashid Khan', 'R Sai Kishore', 'LH Ferguson', 'Yash Dayal', 'Mohammed Shami']\",\n",
       "        'CB Gaffaney', 'Nitin Menon'],\n",
       "       [1312199, 'Ahmedabad', '2022-05-27', ...,\n",
       "        \"['YBK Jaiswal', 'JC Buttler', 'SV Samson', 'D Padikkal', 'SO Hetmyer', 'R Parag', 'R Ashwin', 'TA Boult', 'YS Chahal', 'M Prasidh Krishna', 'OC McCoy']\",\n",
       "        'CB Gaffaney', 'Nitin Menon'],\n",
       "       [1312198, 'Kolkata', '2022-05-25', ...,\n",
       "        \"['Q de Kock', 'KL Rahul', 'M Vohra', 'DJ Hooda', 'MP Stoinis', 'E Lewis', 'KH Pandya', 'PVD Chameera', 'Mohsin Khan', 'Avesh Khan', 'Ravi Bishnoi']\",\n",
       "        'J Madanagopal', 'MA Gough'],\n",
       "       ...,\n",
       "       [335984, 'Delhi', '2008-04-19', ...,\n",
       "        \"['T Kohli', 'YK Pathan', 'SR Watson', 'M Kaif', 'DS Lehmann', 'RA Jadeja', 'M Rawat', 'D Salunkhe', 'SK Warne', 'SK Trivedi', 'MM Patel']\",\n",
       "        'Aleem Dar', 'GA Pratapkumar'],\n",
       "       [335983, 'Chandigarh', '2008-04-19', ...,\n",
       "        \"['PA Patel', 'ML Hayden', 'MEK Hussey', 'MS Dhoni', 'SK Raina', 'JDP Oram', 'S Badrinath', 'Joginder Sharma', 'P Amarnath', 'MS Gony', 'M Muralitharan']\",\n",
       "        'MR Benson', 'SL Shastri'],\n",
       "       [335982, 'Bangalore', '2008-04-18', ...,\n",
       "        \"['SC Ganguly', 'BB McCullum', 'RT Ponting', 'DJ Hussey', 'Mohammad Hafeez', 'LR Shukla', 'WP Saha', 'AB Agarkar', 'AB Dinda', 'M Kartik', 'I Sharma']\",\n",
       "        'Asad Rauf', 'RE Koertzen']], shape=(950, 20), dtype=object)"
      ]
     },
     "execution_count": 33,
     "metadata": {},
     "output_type": "execute_result"
    }
   ],
   "source": [
    "# values\n",
    "ipl.values"
   ]
  },
  {
   "cell_type": "markdown",
   "metadata": {},
   "source": [
    "#### head() & tail()"
   ]
  },
  {
   "cell_type": "code",
   "execution_count": 34,
   "metadata": {
    "colab": {
     "base_uri": "https://localhost:8080/",
     "height": 384
    },
    "executionInfo": {
     "elapsed": 4,
     "status": "ok",
     "timestamp": 1671029431958,
     "user": {
      "displayName": "CampusX",
      "userId": "17274569631252575216"
     },
     "user_tz": -330
    },
    "id": "g6v9O1JuvPxO",
    "outputId": "81bb0f71-1ba0-4cfa-f34a-93f30bef2e6b"
   },
   "outputs": [
    {
     "data": {
      "text/html": [
       "<div>\n",
       "<style scoped>\n",
       "    .dataframe tbody tr th:only-of-type {\n",
       "        vertical-align: middle;\n",
       "    }\n",
       "\n",
       "    .dataframe tbody tr th {\n",
       "        vertical-align: top;\n",
       "    }\n",
       "\n",
       "    .dataframe thead th {\n",
       "        text-align: right;\n",
       "    }\n",
       "</style>\n",
       "<table border=\"1\" class=\"dataframe\">\n",
       "  <thead>\n",
       "    <tr style=\"text-align: right;\">\n",
       "      <th></th>\n",
       "      <th>title_x</th>\n",
       "      <th>imdb_id</th>\n",
       "      <th>poster_path</th>\n",
       "      <th>wiki_link</th>\n",
       "      <th>title_y</th>\n",
       "      <th>original_title</th>\n",
       "      <th>is_adult</th>\n",
       "      <th>year_of_release</th>\n",
       "      <th>runtime</th>\n",
       "      <th>genres</th>\n",
       "      <th>imdb_rating</th>\n",
       "      <th>imdb_votes</th>\n",
       "      <th>story</th>\n",
       "      <th>summary</th>\n",
       "      <th>tagline</th>\n",
       "      <th>actors</th>\n",
       "      <th>wins_nominations</th>\n",
       "      <th>release_date</th>\n",
       "    </tr>\n",
       "  </thead>\n",
       "  <tbody>\n",
       "    <tr>\n",
       "      <th>0</th>\n",
       "      <td>Uri: The Surgical Strike</td>\n",
       "      <td>tt8291224</td>\n",
       "      <td>https://upload.wikimedia.org/wikipedia/en/thum...</td>\n",
       "      <td>https://en.wikipedia.org/wiki/Uri:_The_Surgica...</td>\n",
       "      <td>Uri: The Surgical Strike</td>\n",
       "      <td>Uri: The Surgical Strike</td>\n",
       "      <td>0</td>\n",
       "      <td>2019</td>\n",
       "      <td>138</td>\n",
       "      <td>Action|Drama|War</td>\n",
       "      <td>8.4</td>\n",
       "      <td>35112</td>\n",
       "      <td>Divided over five chapters  the film chronicle...</td>\n",
       "      <td>Indian army special forces execute a covert op...</td>\n",
       "      <td>NaN</td>\n",
       "      <td>Vicky Kaushal|Paresh Rawal|Mohit Raina|Yami Ga...</td>\n",
       "      <td>4 wins</td>\n",
       "      <td>11 January 2019 (USA)</td>\n",
       "    </tr>\n",
       "    <tr>\n",
       "      <th>1</th>\n",
       "      <td>Battalion 609</td>\n",
       "      <td>tt9472208</td>\n",
       "      <td>NaN</td>\n",
       "      <td>https://en.wikipedia.org/wiki/Battalion_609</td>\n",
       "      <td>Battalion 609</td>\n",
       "      <td>Battalion 609</td>\n",
       "      <td>0</td>\n",
       "      <td>2019</td>\n",
       "      <td>131</td>\n",
       "      <td>War</td>\n",
       "      <td>4.1</td>\n",
       "      <td>73</td>\n",
       "      <td>The story revolves around a cricket match betw...</td>\n",
       "      <td>The story of Battalion 609 revolves around a c...</td>\n",
       "      <td>NaN</td>\n",
       "      <td>Vicky Ahuja|Shoaib Ibrahim|Shrikant Kamat|Elen...</td>\n",
       "      <td>NaN</td>\n",
       "      <td>11 January 2019 (India)</td>\n",
       "    </tr>\n",
       "  </tbody>\n",
       "</table>\n",
       "</div>"
      ],
      "text/plain": [
       "                    title_x    imdb_id  \\\n",
       "0  Uri: The Surgical Strike  tt8291224   \n",
       "1             Battalion 609  tt9472208   \n",
       "\n",
       "                                         poster_path  \\\n",
       "0  https://upload.wikimedia.org/wikipedia/en/thum...   \n",
       "1                                                NaN   \n",
       "\n",
       "                                           wiki_link  \\\n",
       "0  https://en.wikipedia.org/wiki/Uri:_The_Surgica...   \n",
       "1        https://en.wikipedia.org/wiki/Battalion_609   \n",
       "\n",
       "                    title_y            original_title  is_adult  \\\n",
       "0  Uri: The Surgical Strike  Uri: The Surgical Strike         0   \n",
       "1             Battalion 609             Battalion 609         0   \n",
       "\n",
       "   year_of_release runtime            genres  imdb_rating  imdb_votes  \\\n",
       "0             2019     138  Action|Drama|War          8.4       35112   \n",
       "1             2019     131               War          4.1          73   \n",
       "\n",
       "                                               story  \\\n",
       "0  Divided over five chapters  the film chronicle...   \n",
       "1  The story revolves around a cricket match betw...   \n",
       "\n",
       "                                             summary tagline  \\\n",
       "0  Indian army special forces execute a covert op...     NaN   \n",
       "1  The story of Battalion 609 revolves around a c...     NaN   \n",
       "\n",
       "                                              actors wins_nominations  \\\n",
       "0  Vicky Kaushal|Paresh Rawal|Mohit Raina|Yami Ga...           4 wins   \n",
       "1  Vicky Ahuja|Shoaib Ibrahim|Shrikant Kamat|Elen...              NaN   \n",
       "\n",
       "              release_date  \n",
       "0    11 January 2019 (USA)  \n",
       "1  11 January 2019 (India)  "
      ]
     },
     "execution_count": 34,
     "metadata": {},
     "output_type": "execute_result"
    }
   ],
   "source": [
    "# head and tail\n",
    "movies.head(2)"
   ]
  },
  {
   "cell_type": "code",
   "execution_count": 35,
   "metadata": {
    "colab": {
     "base_uri": "https://localhost:8080/",
     "height": 315
    },
    "executionInfo": {
     "elapsed": 3,
     "status": "ok",
     "timestamp": 1671029454059,
     "user": {
      "displayName": "CampusX",
      "userId": "17274569631252575216"
     },
     "user_tz": -330
    },
    "id": "t0d_xl44Hbzt",
    "outputId": "897f7bb3-93b6-4cd4-9168-e6a0ff083601"
   },
   "outputs": [
    {
     "data": {
      "text/html": [
       "<div>\n",
       "<style scoped>\n",
       "    .dataframe tbody tr th:only-of-type {\n",
       "        vertical-align: middle;\n",
       "    }\n",
       "\n",
       "    .dataframe tbody tr th {\n",
       "        vertical-align: top;\n",
       "    }\n",
       "\n",
       "    .dataframe thead th {\n",
       "        text-align: right;\n",
       "    }\n",
       "</style>\n",
       "<table border=\"1\" class=\"dataframe\">\n",
       "  <thead>\n",
       "    <tr style=\"text-align: right;\">\n",
       "      <th></th>\n",
       "      <th>ID</th>\n",
       "      <th>City</th>\n",
       "      <th>Date</th>\n",
       "      <th>Season</th>\n",
       "      <th>MatchNumber</th>\n",
       "      <th>Team1</th>\n",
       "      <th>Team2</th>\n",
       "      <th>Venue</th>\n",
       "      <th>TossWinner</th>\n",
       "      <th>TossDecision</th>\n",
       "      <th>SuperOver</th>\n",
       "      <th>WinningTeam</th>\n",
       "      <th>WonBy</th>\n",
       "      <th>Margin</th>\n",
       "      <th>method</th>\n",
       "      <th>Player_of_Match</th>\n",
       "      <th>Team1Players</th>\n",
       "      <th>Team2Players</th>\n",
       "      <th>Umpire1</th>\n",
       "      <th>Umpire2</th>\n",
       "    </tr>\n",
       "  </thead>\n",
       "  <tbody>\n",
       "    <tr>\n",
       "      <th>948</th>\n",
       "      <td>335983</td>\n",
       "      <td>Chandigarh</td>\n",
       "      <td>2008-04-19</td>\n",
       "      <td>2007/08</td>\n",
       "      <td>2</td>\n",
       "      <td>Kings XI Punjab</td>\n",
       "      <td>Chennai Super Kings</td>\n",
       "      <td>Punjab Cricket Association Stadium, Mohali</td>\n",
       "      <td>Chennai Super Kings</td>\n",
       "      <td>bat</td>\n",
       "      <td>N</td>\n",
       "      <td>Chennai Super Kings</td>\n",
       "      <td>Runs</td>\n",
       "      <td>33.0</td>\n",
       "      <td>NaN</td>\n",
       "      <td>MEK Hussey</td>\n",
       "      <td>['K Goel', 'JR Hopes', 'KC Sangakkara', 'Yuvra...</td>\n",
       "      <td>['PA Patel', 'ML Hayden', 'MEK Hussey', 'MS Dh...</td>\n",
       "      <td>MR Benson</td>\n",
       "      <td>SL Shastri</td>\n",
       "    </tr>\n",
       "    <tr>\n",
       "      <th>949</th>\n",
       "      <td>335982</td>\n",
       "      <td>Bangalore</td>\n",
       "      <td>2008-04-18</td>\n",
       "      <td>2007/08</td>\n",
       "      <td>1</td>\n",
       "      <td>Royal Challengers Bangalore</td>\n",
       "      <td>Kolkata Knight Riders</td>\n",
       "      <td>M Chinnaswamy Stadium</td>\n",
       "      <td>Royal Challengers Bangalore</td>\n",
       "      <td>field</td>\n",
       "      <td>N</td>\n",
       "      <td>Kolkata Knight Riders</td>\n",
       "      <td>Runs</td>\n",
       "      <td>140.0</td>\n",
       "      <td>NaN</td>\n",
       "      <td>BB McCullum</td>\n",
       "      <td>['R Dravid', 'W Jaffer', 'V Kohli', 'JH Kallis...</td>\n",
       "      <td>['SC Ganguly', 'BB McCullum', 'RT Ponting', 'D...</td>\n",
       "      <td>Asad Rauf</td>\n",
       "      <td>RE Koertzen</td>\n",
       "    </tr>\n",
       "  </tbody>\n",
       "</table>\n",
       "</div>"
      ],
      "text/plain": [
       "         ID        City        Date   Season MatchNumber  \\\n",
       "948  335983  Chandigarh  2008-04-19  2007/08           2   \n",
       "949  335982   Bangalore  2008-04-18  2007/08           1   \n",
       "\n",
       "                           Team1                  Team2  \\\n",
       "948              Kings XI Punjab    Chennai Super Kings   \n",
       "949  Royal Challengers Bangalore  Kolkata Knight Riders   \n",
       "\n",
       "                                          Venue                   TossWinner  \\\n",
       "948  Punjab Cricket Association Stadium, Mohali          Chennai Super Kings   \n",
       "949                       M Chinnaswamy Stadium  Royal Challengers Bangalore   \n",
       "\n",
       "    TossDecision SuperOver            WinningTeam WonBy  Margin method  \\\n",
       "948          bat         N    Chennai Super Kings  Runs    33.0    NaN   \n",
       "949        field         N  Kolkata Knight Riders  Runs   140.0    NaN   \n",
       "\n",
       "    Player_of_Match                                       Team1Players  \\\n",
       "948      MEK Hussey  ['K Goel', 'JR Hopes', 'KC Sangakkara', 'Yuvra...   \n",
       "949     BB McCullum  ['R Dravid', 'W Jaffer', 'V Kohli', 'JH Kallis...   \n",
       "\n",
       "                                          Team2Players    Umpire1      Umpire2  \n",
       "948  ['PA Patel', 'ML Hayden', 'MEK Hussey', 'MS Dh...  MR Benson   SL Shastri  \n",
       "949  ['SC Ganguly', 'BB McCullum', 'RT Ponting', 'D...  Asad Rauf  RE Koertzen  "
      ]
     },
     "execution_count": 35,
     "metadata": {},
     "output_type": "execute_result"
    }
   ],
   "source": [
    "ipl.tail(2)"
   ]
  },
  {
   "cell_type": "markdown",
   "metadata": {},
   "source": [
    "#### sample()"
   ]
  },
  {
   "cell_type": "code",
   "execution_count": 36,
   "metadata": {
    "colab": {
     "base_uri": "https://localhost:8080/",
     "height": 583
    },
    "executionInfo": {
     "elapsed": 6,
     "status": "ok",
     "timestamp": 1671029518326,
     "user": {
      "displayName": "CampusX",
      "userId": "17274569631252575216"
     },
     "user_tz": -330
    },
    "id": "QhIqN122vZyF",
    "outputId": "9d1bb788-1613-404e-98b7-221cf96dbe31"
   },
   "outputs": [
    {
     "data": {
      "text/html": [
       "<div>\n",
       "<style scoped>\n",
       "    .dataframe tbody tr th:only-of-type {\n",
       "        vertical-align: middle;\n",
       "    }\n",
       "\n",
       "    .dataframe tbody tr th {\n",
       "        vertical-align: top;\n",
       "    }\n",
       "\n",
       "    .dataframe thead th {\n",
       "        text-align: right;\n",
       "    }\n",
       "</style>\n",
       "<table border=\"1\" class=\"dataframe\">\n",
       "  <thead>\n",
       "    <tr style=\"text-align: right;\">\n",
       "      <th></th>\n",
       "      <th>ID</th>\n",
       "      <th>City</th>\n",
       "      <th>Date</th>\n",
       "      <th>Season</th>\n",
       "      <th>MatchNumber</th>\n",
       "      <th>Team1</th>\n",
       "      <th>Team2</th>\n",
       "      <th>Venue</th>\n",
       "      <th>TossWinner</th>\n",
       "      <th>TossDecision</th>\n",
       "      <th>SuperOver</th>\n",
       "      <th>WinningTeam</th>\n",
       "      <th>WonBy</th>\n",
       "      <th>Margin</th>\n",
       "      <th>method</th>\n",
       "      <th>Player_of_Match</th>\n",
       "      <th>Team1Players</th>\n",
       "      <th>Team2Players</th>\n",
       "      <th>Umpire1</th>\n",
       "      <th>Umpire2</th>\n",
       "    </tr>\n",
       "  </thead>\n",
       "  <tbody>\n",
       "    <tr>\n",
       "      <th>485</th>\n",
       "      <td>829717</td>\n",
       "      <td>Mumbai</td>\n",
       "      <td>2015-04-12</td>\n",
       "      <td>2015</td>\n",
       "      <td>7</td>\n",
       "      <td>Mumbai Indians</td>\n",
       "      <td>Kings XI Punjab</td>\n",
       "      <td>Wankhede Stadium</td>\n",
       "      <td>Mumbai Indians</td>\n",
       "      <td>field</td>\n",
       "      <td>N</td>\n",
       "      <td>Kings XI Punjab</td>\n",
       "      <td>Runs</td>\n",
       "      <td>18.0</td>\n",
       "      <td>NaN</td>\n",
       "      <td>GJ Bailey</td>\n",
       "      <td>['RG Sharma', 'AJ Finch', 'AP Tare', 'AT Rayud...</td>\n",
       "      <td>['M Vijay', 'V Sehwag', 'GJ Maxwell', 'DA Mill...</td>\n",
       "      <td>AK Chaudhary</td>\n",
       "      <td>K Srinivasan</td>\n",
       "    </tr>\n",
       "    <tr>\n",
       "      <th>487</th>\n",
       "      <td>829713</td>\n",
       "      <td>Kolkata</td>\n",
       "      <td>2015-04-11</td>\n",
       "      <td>2015</td>\n",
       "      <td>5</td>\n",
       "      <td>Kolkata Knight Riders</td>\n",
       "      <td>Royal Challengers Bangalore</td>\n",
       "      <td>Eden Gardens</td>\n",
       "      <td>Royal Challengers Bangalore</td>\n",
       "      <td>field</td>\n",
       "      <td>N</td>\n",
       "      <td>Royal Challengers Bangalore</td>\n",
       "      <td>Wickets</td>\n",
       "      <td>3.0</td>\n",
       "      <td>NaN</td>\n",
       "      <td>CH Gayle</td>\n",
       "      <td>['RV Uthappa', 'G Gambhir', 'MK Pandey', 'SA Y...</td>\n",
       "      <td>['CH Gayle', 'V Kohli', 'KD Karthik', 'Mandeep...</td>\n",
       "      <td>S Ravi</td>\n",
       "      <td>C Shamshuddin</td>\n",
       "    </tr>\n",
       "    <tr>\n",
       "      <th>310</th>\n",
       "      <td>1136564</td>\n",
       "      <td>Hyderabad</td>\n",
       "      <td>2018-04-09</td>\n",
       "      <td>2018</td>\n",
       "      <td>4</td>\n",
       "      <td>Rajasthan Royals</td>\n",
       "      <td>Sunrisers Hyderabad</td>\n",
       "      <td>Rajiv Gandhi International Stadium</td>\n",
       "      <td>Sunrisers Hyderabad</td>\n",
       "      <td>field</td>\n",
       "      <td>N</td>\n",
       "      <td>Sunrisers Hyderabad</td>\n",
       "      <td>Wickets</td>\n",
       "      <td>9.0</td>\n",
       "      <td>NaN</td>\n",
       "      <td>S Dhawan</td>\n",
       "      <td>['AM Rahane', 'DJM Short', 'SV Samson', 'BA St...</td>\n",
       "      <td>['WP Saha', 'S Dhawan', 'KS Williamson', 'MK P...</td>\n",
       "      <td>NJ Llong</td>\n",
       "      <td>VA Kulkarni</td>\n",
       "    </tr>\n",
       "    <tr>\n",
       "      <th>801</th>\n",
       "      <td>419140</td>\n",
       "      <td>Delhi</td>\n",
       "      <td>2010-04-04</td>\n",
       "      <td>2009/10</td>\n",
       "      <td>35</td>\n",
       "      <td>Delhi Daredevils</td>\n",
       "      <td>Royal Challengers Bangalore</td>\n",
       "      <td>Feroz Shah Kotla</td>\n",
       "      <td>Delhi Daredevils</td>\n",
       "      <td>bat</td>\n",
       "      <td>N</td>\n",
       "      <td>Delhi Daredevils</td>\n",
       "      <td>Runs</td>\n",
       "      <td>37.0</td>\n",
       "      <td>NaN</td>\n",
       "      <td>PD Collingwood</td>\n",
       "      <td>['DA Warner', 'V Sehwag', 'G Gambhir', 'PD Col...</td>\n",
       "      <td>['JH Kallis', 'CL White', 'KP Pietersen', 'RV ...</td>\n",
       "      <td>BF Bowden</td>\n",
       "      <td>M Erasmus</td>\n",
       "    </tr>\n",
       "    <tr>\n",
       "      <th>329</th>\n",
       "      <td>1082635</td>\n",
       "      <td>Delhi</td>\n",
       "      <td>2017-05-06</td>\n",
       "      <td>2017</td>\n",
       "      <td>45</td>\n",
       "      <td>Delhi Daredevils</td>\n",
       "      <td>Mumbai Indians</td>\n",
       "      <td>Feroz Shah Kotla</td>\n",
       "      <td>Delhi Daredevils</td>\n",
       "      <td>field</td>\n",
       "      <td>N</td>\n",
       "      <td>Mumbai Indians</td>\n",
       "      <td>Runs</td>\n",
       "      <td>146.0</td>\n",
       "      <td>NaN</td>\n",
       "      <td>LMP Simmons</td>\n",
       "      <td>['SV Samson', 'KK Nair', 'SS Iyer', 'RR Pant',...</td>\n",
       "      <td>['LMP Simmons', 'PA Patel', 'KA Pollard', 'RG ...</td>\n",
       "      <td>Nitin Menon</td>\n",
       "      <td>CK Nandan</td>\n",
       "    </tr>\n",
       "  </tbody>\n",
       "</table>\n",
       "</div>"
      ],
      "text/plain": [
       "          ID       City        Date   Season MatchNumber  \\\n",
       "485   829717     Mumbai  2015-04-12     2015           7   \n",
       "487   829713    Kolkata  2015-04-11     2015           5   \n",
       "310  1136564  Hyderabad  2018-04-09     2018           4   \n",
       "801   419140      Delhi  2010-04-04  2009/10          35   \n",
       "329  1082635      Delhi  2017-05-06     2017          45   \n",
       "\n",
       "                     Team1                        Team2  \\\n",
       "485         Mumbai Indians              Kings XI Punjab   \n",
       "487  Kolkata Knight Riders  Royal Challengers Bangalore   \n",
       "310       Rajasthan Royals          Sunrisers Hyderabad   \n",
       "801       Delhi Daredevils  Royal Challengers Bangalore   \n",
       "329       Delhi Daredevils               Mumbai Indians   \n",
       "\n",
       "                                  Venue                   TossWinner  \\\n",
       "485                    Wankhede Stadium               Mumbai Indians   \n",
       "487                        Eden Gardens  Royal Challengers Bangalore   \n",
       "310  Rajiv Gandhi International Stadium          Sunrisers Hyderabad   \n",
       "801                    Feroz Shah Kotla             Delhi Daredevils   \n",
       "329                    Feroz Shah Kotla             Delhi Daredevils   \n",
       "\n",
       "    TossDecision SuperOver                  WinningTeam    WonBy  Margin  \\\n",
       "485        field         N              Kings XI Punjab     Runs    18.0   \n",
       "487        field         N  Royal Challengers Bangalore  Wickets     3.0   \n",
       "310        field         N          Sunrisers Hyderabad  Wickets     9.0   \n",
       "801          bat         N             Delhi Daredevils     Runs    37.0   \n",
       "329        field         N               Mumbai Indians     Runs   146.0   \n",
       "\n",
       "    method Player_of_Match                                       Team1Players  \\\n",
       "485    NaN       GJ Bailey  ['RG Sharma', 'AJ Finch', 'AP Tare', 'AT Rayud...   \n",
       "487    NaN        CH Gayle  ['RV Uthappa', 'G Gambhir', 'MK Pandey', 'SA Y...   \n",
       "310    NaN        S Dhawan  ['AM Rahane', 'DJM Short', 'SV Samson', 'BA St...   \n",
       "801    NaN  PD Collingwood  ['DA Warner', 'V Sehwag', 'G Gambhir', 'PD Col...   \n",
       "329    NaN     LMP Simmons  ['SV Samson', 'KK Nair', 'SS Iyer', 'RR Pant',...   \n",
       "\n",
       "                                          Team2Players       Umpire1  \\\n",
       "485  ['M Vijay', 'V Sehwag', 'GJ Maxwell', 'DA Mill...  AK Chaudhary   \n",
       "487  ['CH Gayle', 'V Kohli', 'KD Karthik', 'Mandeep...        S Ravi   \n",
       "310  ['WP Saha', 'S Dhawan', 'KS Williamson', 'MK P...      NJ Llong   \n",
       "801  ['JH Kallis', 'CL White', 'KP Pietersen', 'RV ...     BF Bowden   \n",
       "329  ['LMP Simmons', 'PA Patel', 'KA Pollard', 'RG ...   Nitin Menon   \n",
       "\n",
       "           Umpire2  \n",
       "485   K Srinivasan  \n",
       "487  C Shamshuddin  \n",
       "310    VA Kulkarni  \n",
       "801      M Erasmus  \n",
       "329      CK Nandan  "
      ]
     },
     "execution_count": 36,
     "metadata": {},
     "output_type": "execute_result"
    }
   ],
   "source": [
    "# sample\n",
    "ipl.sample(5)"
   ]
  },
  {
   "cell_type": "markdown",
   "metadata": {},
   "source": [
    "#### info()"
   ]
  },
  {
   "cell_type": "code",
   "execution_count": 37,
   "metadata": {
    "colab": {
     "base_uri": "https://localhost:8080/"
    },
    "executionInfo": {
     "elapsed": 3,
     "status": "ok",
     "timestamp": 1671029552781,
     "user": {
      "displayName": "CampusX",
      "userId": "17274569631252575216"
     },
     "user_tz": -330
    },
    "id": "rKJeok4Qvaig",
    "outputId": "2afd9b94-65e0-42eb-fa4d-07ff6eecb8e2"
   },
   "outputs": [
    {
     "name": "stdout",
     "output_type": "stream",
     "text": [
      "<class 'pandas.core.frame.DataFrame'>\n",
      "RangeIndex: 1629 entries, 0 to 1628\n",
      "Data columns (total 18 columns):\n",
      " #   Column            Non-Null Count  Dtype  \n",
      "---  ------            --------------  -----  \n",
      " 0   title_x           1629 non-null   object \n",
      " 1   imdb_id           1629 non-null   object \n",
      " 2   poster_path       1526 non-null   object \n",
      " 3   wiki_link         1629 non-null   object \n",
      " 4   title_y           1629 non-null   object \n",
      " 5   original_title    1629 non-null   object \n",
      " 6   is_adult          1629 non-null   int64  \n",
      " 7   year_of_release   1629 non-null   int64  \n",
      " 8   runtime           1629 non-null   object \n",
      " 9   genres            1629 non-null   object \n",
      " 10  imdb_rating       1629 non-null   float64\n",
      " 11  imdb_votes        1629 non-null   int64  \n",
      " 12  story             1609 non-null   object \n",
      " 13  summary           1629 non-null   object \n",
      " 14  tagline           557 non-null    object \n",
      " 15  actors            1624 non-null   object \n",
      " 16  wins_nominations  707 non-null    object \n",
      " 17  release_date      1522 non-null   object \n",
      "dtypes: float64(1), int64(3), object(14)\n",
      "memory usage: 229.2+ KB\n"
     ]
    }
   ],
   "source": [
    "# info\n",
    "movies.info()"
   ]
  },
  {
   "cell_type": "code",
   "execution_count": 38,
   "metadata": {
    "colab": {
     "base_uri": "https://localhost:8080/"
    },
    "executionInfo": {
     "elapsed": 8,
     "status": "ok",
     "timestamp": 1671029650950,
     "user": {
      "displayName": "CampusX",
      "userId": "17274569631252575216"
     },
     "user_tz": -330
    },
    "id": "ETfjOEfIINwA",
    "outputId": "d8010ea1-d515-4872-f55d-5ab05ac77359"
   },
   "outputs": [
    {
     "name": "stdout",
     "output_type": "stream",
     "text": [
      "<class 'pandas.core.frame.DataFrame'>\n",
      "RangeIndex: 950 entries, 0 to 949\n",
      "Data columns (total 20 columns):\n",
      " #   Column           Non-Null Count  Dtype  \n",
      "---  ------           --------------  -----  \n",
      " 0   ID               950 non-null    int64  \n",
      " 1   City             899 non-null    object \n",
      " 2   Date             950 non-null    object \n",
      " 3   Season           950 non-null    object \n",
      " 4   MatchNumber      950 non-null    object \n",
      " 5   Team1            950 non-null    object \n",
      " 6   Team2            950 non-null    object \n",
      " 7   Venue            950 non-null    object \n",
      " 8   TossWinner       950 non-null    object \n",
      " 9   TossDecision     950 non-null    object \n",
      " 10  SuperOver        946 non-null    object \n",
      " 11  WinningTeam      946 non-null    object \n",
      " 12  WonBy            950 non-null    object \n",
      " 13  Margin           932 non-null    float64\n",
      " 14  method           19 non-null     object \n",
      " 15  Player_of_Match  946 non-null    object \n",
      " 16  Team1Players     950 non-null    object \n",
      " 17  Team2Players     950 non-null    object \n",
      " 18  Umpire1          950 non-null    object \n",
      " 19  Umpire2          950 non-null    object \n",
      "dtypes: float64(1), int64(1), object(18)\n",
      "memory usage: 148.6+ KB\n"
     ]
    }
   ],
   "source": [
    "ipl.info()"
   ]
  },
  {
   "cell_type": "markdown",
   "metadata": {},
   "source": [
    "#### describe()"
   ]
  },
  {
   "cell_type": "code",
   "execution_count": 39,
   "metadata": {
    "colab": {
     "base_uri": "https://localhost:8080/",
     "height": 300
    },
    "executionInfo": {
     "elapsed": 35,
     "status": "ok",
     "timestamp": 1671029727408,
     "user": {
      "displayName": "CampusX",
      "userId": "17274569631252575216"
     },
     "user_tz": -330
    },
    "id": "OikkCRPevgK5",
    "outputId": "619a60a9-1ea8-4744-bf0f-d9db2161d233"
   },
   "outputs": [
    {
     "data": {
      "text/html": [
       "<div>\n",
       "<style scoped>\n",
       "    .dataframe tbody tr th:only-of-type {\n",
       "        vertical-align: middle;\n",
       "    }\n",
       "\n",
       "    .dataframe tbody tr th {\n",
       "        vertical-align: top;\n",
       "    }\n",
       "\n",
       "    .dataframe thead th {\n",
       "        text-align: right;\n",
       "    }\n",
       "</style>\n",
       "<table border=\"1\" class=\"dataframe\">\n",
       "  <thead>\n",
       "    <tr style=\"text-align: right;\">\n",
       "      <th></th>\n",
       "      <th>is_adult</th>\n",
       "      <th>year_of_release</th>\n",
       "      <th>imdb_rating</th>\n",
       "      <th>imdb_votes</th>\n",
       "    </tr>\n",
       "  </thead>\n",
       "  <tbody>\n",
       "    <tr>\n",
       "      <th>count</th>\n",
       "      <td>1629.0</td>\n",
       "      <td>1629.000000</td>\n",
       "      <td>1629.000000</td>\n",
       "      <td>1629.000000</td>\n",
       "    </tr>\n",
       "    <tr>\n",
       "      <th>mean</th>\n",
       "      <td>0.0</td>\n",
       "      <td>2010.263966</td>\n",
       "      <td>5.557459</td>\n",
       "      <td>5384.263352</td>\n",
       "    </tr>\n",
       "    <tr>\n",
       "      <th>std</th>\n",
       "      <td>0.0</td>\n",
       "      <td>5.381542</td>\n",
       "      <td>1.567609</td>\n",
       "      <td>14552.103231</td>\n",
       "    </tr>\n",
       "    <tr>\n",
       "      <th>min</th>\n",
       "      <td>0.0</td>\n",
       "      <td>2001.000000</td>\n",
       "      <td>0.000000</td>\n",
       "      <td>0.000000</td>\n",
       "    </tr>\n",
       "    <tr>\n",
       "      <th>25%</th>\n",
       "      <td>0.0</td>\n",
       "      <td>2005.000000</td>\n",
       "      <td>4.400000</td>\n",
       "      <td>233.000000</td>\n",
       "    </tr>\n",
       "    <tr>\n",
       "      <th>50%</th>\n",
       "      <td>0.0</td>\n",
       "      <td>2011.000000</td>\n",
       "      <td>5.600000</td>\n",
       "      <td>1000.000000</td>\n",
       "    </tr>\n",
       "    <tr>\n",
       "      <th>75%</th>\n",
       "      <td>0.0</td>\n",
       "      <td>2015.000000</td>\n",
       "      <td>6.800000</td>\n",
       "      <td>4287.000000</td>\n",
       "    </tr>\n",
       "    <tr>\n",
       "      <th>max</th>\n",
       "      <td>0.0</td>\n",
       "      <td>2019.000000</td>\n",
       "      <td>9.400000</td>\n",
       "      <td>310481.000000</td>\n",
       "    </tr>\n",
       "  </tbody>\n",
       "</table>\n",
       "</div>"
      ],
      "text/plain": [
       "       is_adult  year_of_release  imdb_rating     imdb_votes\n",
       "count    1629.0      1629.000000  1629.000000    1629.000000\n",
       "mean        0.0      2010.263966     5.557459    5384.263352\n",
       "std         0.0         5.381542     1.567609   14552.103231\n",
       "min         0.0      2001.000000     0.000000       0.000000\n",
       "25%         0.0      2005.000000     4.400000     233.000000\n",
       "50%         0.0      2011.000000     5.600000    1000.000000\n",
       "75%         0.0      2015.000000     6.800000    4287.000000\n",
       "max         0.0      2019.000000     9.400000  310481.000000"
      ]
     },
     "execution_count": 39,
     "metadata": {},
     "output_type": "execute_result"
    }
   ],
   "source": [
    "# describe\n",
    "movies.describe()"
   ]
  },
  {
   "cell_type": "code",
   "execution_count": 40,
   "metadata": {
    "colab": {
     "base_uri": "https://localhost:8080/",
     "height": 300
    },
    "executionInfo": {
     "elapsed": 4,
     "status": "ok",
     "timestamp": 1671029846827,
     "user": {
      "displayName": "CampusX",
      "userId": "17274569631252575216"
     },
     "user_tz": -330
    },
    "id": "tuxfdf8tI9Z2",
    "outputId": "c546a524-e9b1-4e64-cfee-2e622361536b"
   },
   "outputs": [
    {
     "data": {
      "text/html": [
       "<div>\n",
       "<style scoped>\n",
       "    .dataframe tbody tr th:only-of-type {\n",
       "        vertical-align: middle;\n",
       "    }\n",
       "\n",
       "    .dataframe tbody tr th {\n",
       "        vertical-align: top;\n",
       "    }\n",
       "\n",
       "    .dataframe thead th {\n",
       "        text-align: right;\n",
       "    }\n",
       "</style>\n",
       "<table border=\"1\" class=\"dataframe\">\n",
       "  <thead>\n",
       "    <tr style=\"text-align: right;\">\n",
       "      <th></th>\n",
       "      <th>ID</th>\n",
       "      <th>Margin</th>\n",
       "    </tr>\n",
       "  </thead>\n",
       "  <tbody>\n",
       "    <tr>\n",
       "      <th>count</th>\n",
       "      <td>9.500000e+02</td>\n",
       "      <td>932.000000</td>\n",
       "    </tr>\n",
       "    <tr>\n",
       "      <th>mean</th>\n",
       "      <td>8.304852e+05</td>\n",
       "      <td>17.056867</td>\n",
       "    </tr>\n",
       "    <tr>\n",
       "      <th>std</th>\n",
       "      <td>3.375678e+05</td>\n",
       "      <td>21.633109</td>\n",
       "    </tr>\n",
       "    <tr>\n",
       "      <th>min</th>\n",
       "      <td>3.359820e+05</td>\n",
       "      <td>1.000000</td>\n",
       "    </tr>\n",
       "    <tr>\n",
       "      <th>25%</th>\n",
       "      <td>5.012612e+05</td>\n",
       "      <td>6.000000</td>\n",
       "    </tr>\n",
       "    <tr>\n",
       "      <th>50%</th>\n",
       "      <td>8.297380e+05</td>\n",
       "      <td>8.000000</td>\n",
       "    </tr>\n",
       "    <tr>\n",
       "      <th>75%</th>\n",
       "      <td>1.175372e+06</td>\n",
       "      <td>19.000000</td>\n",
       "    </tr>\n",
       "    <tr>\n",
       "      <th>max</th>\n",
       "      <td>1.312200e+06</td>\n",
       "      <td>146.000000</td>\n",
       "    </tr>\n",
       "  </tbody>\n",
       "</table>\n",
       "</div>"
      ],
      "text/plain": [
       "                 ID      Margin\n",
       "count  9.500000e+02  932.000000\n",
       "mean   8.304852e+05   17.056867\n",
       "std    3.375678e+05   21.633109\n",
       "min    3.359820e+05    1.000000\n",
       "25%    5.012612e+05    6.000000\n",
       "50%    8.297380e+05    8.000000\n",
       "75%    1.175372e+06   19.000000\n",
       "max    1.312200e+06  146.000000"
      ]
     },
     "execution_count": 40,
     "metadata": {},
     "output_type": "execute_result"
    }
   ],
   "source": [
    "ipl.describe()"
   ]
  },
  {
   "cell_type": "markdown",
   "metadata": {},
   "source": [
    "#### isnull()"
   ]
  },
  {
   "cell_type": "code",
   "execution_count": 41,
   "metadata": {
    "colab": {
     "base_uri": "https://localhost:8080/"
    },
    "executionInfo": {
     "elapsed": 405,
     "status": "ok",
     "timestamp": 1671029927437,
     "user": {
      "displayName": "CampusX",
      "userId": "17274569631252575216"
     },
     "user_tz": -330
    },
    "id": "cffM8jnww3GV",
    "outputId": "c8ebd656-b4e8-4b2b-9416-368564a940ef"
   },
   "outputs": [
    {
     "data": {
      "text/plain": [
       "title_x                0\n",
       "imdb_id                0\n",
       "poster_path          103\n",
       "wiki_link              0\n",
       "title_y                0\n",
       "original_title         0\n",
       "is_adult               0\n",
       "year_of_release        0\n",
       "runtime                0\n",
       "genres                 0\n",
       "imdb_rating            0\n",
       "imdb_votes             0\n",
       "story                 20\n",
       "summary                0\n",
       "tagline             1072\n",
       "actors                 5\n",
       "wins_nominations     922\n",
       "release_date         107\n",
       "dtype: int64"
      ]
     },
     "execution_count": 41,
     "metadata": {},
     "output_type": "execute_result"
    }
   ],
   "source": [
    "# isnull\n",
    "movies.isnull().sum()"
   ]
  },
  {
   "cell_type": "markdown",
   "metadata": {},
   "source": [
    "#### duplicated()"
   ]
  },
  {
   "cell_type": "code",
   "execution_count": 42,
   "metadata": {
    "colab": {
     "base_uri": "https://localhost:8080/"
    },
    "executionInfo": {
     "elapsed": 4,
     "status": "ok",
     "timestamp": 1671030044486,
     "user": {
      "displayName": "CampusX",
      "userId": "17274569631252575216"
     },
     "user_tz": -330
    },
    "id": "vGdYd3F8w4Kl",
    "outputId": "196e32c0-636b-401a-e91c-86494a833403"
   },
   "outputs": [
    {
     "data": {
      "text/plain": [
       "np.int64(0)"
      ]
     },
     "execution_count": 42,
     "metadata": {},
     "output_type": "execute_result"
    }
   ],
   "source": [
    "# duplicated\n",
    "movies.duplicated().sum()"
   ]
  },
  {
   "cell_type": "code",
   "execution_count": 43,
   "metadata": {
    "colab": {
     "base_uri": "https://localhost:8080/"
    },
    "executionInfo": {
     "elapsed": 3,
     "status": "ok",
     "timestamp": 1671030126052,
     "user": {
      "displayName": "CampusX",
      "userId": "17274569631252575216"
     },
     "user_tz": -330
    },
    "id": "gabFmEQaJ9Ns",
    "outputId": "9ad8cf45-f24d-4e89-b522-7a562cdc6052"
   },
   "outputs": [
    {
     "data": {
      "text/plain": [
       "np.int64(1)"
      ]
     },
     "execution_count": 43,
     "metadata": {},
     "output_type": "execute_result"
    }
   ],
   "source": [
    "students.duplicated().sum()"
   ]
  },
  {
   "cell_type": "markdown",
   "metadata": {},
   "source": [
    "#### rename()"
   ]
  },
  {
   "cell_type": "code",
   "execution_count": 44,
   "metadata": {
    "colab": {
     "base_uri": "https://localhost:8080/",
     "height": 238
    },
    "executionInfo": {
     "elapsed": 596,
     "status": "ok",
     "timestamp": 1671030233233,
     "user": {
      "displayName": "CampusX",
      "userId": "17274569631252575216"
     },
     "user_tz": -330
    },
    "id": "2Qpru22QFYrI",
    "outputId": "2f4694e9-7e2c-4d67-e268-dc4863811beb"
   },
   "outputs": [
    {
     "data": {
      "text/html": [
       "<div>\n",
       "<style scoped>\n",
       "    .dataframe tbody tr th:only-of-type {\n",
       "        vertical-align: middle;\n",
       "    }\n",
       "\n",
       "    .dataframe tbody tr th {\n",
       "        vertical-align: top;\n",
       "    }\n",
       "\n",
       "    .dataframe thead th {\n",
       "        text-align: right;\n",
       "    }\n",
       "</style>\n",
       "<table border=\"1\" class=\"dataframe\">\n",
       "  <thead>\n",
       "    <tr style=\"text-align: right;\">\n",
       "      <th></th>\n",
       "      <th>iq</th>\n",
       "      <th>marks</th>\n",
       "      <th>package</th>\n",
       "    </tr>\n",
       "    <tr>\n",
       "      <th>name</th>\n",
       "      <th></th>\n",
       "      <th></th>\n",
       "      <th></th>\n",
       "    </tr>\n",
       "  </thead>\n",
       "  <tbody>\n",
       "    <tr>\n",
       "      <th>nitish</th>\n",
       "      <td>100</td>\n",
       "      <td>80</td>\n",
       "      <td>10</td>\n",
       "    </tr>\n",
       "    <tr>\n",
       "      <th>ankit</th>\n",
       "      <td>90</td>\n",
       "      <td>70</td>\n",
       "      <td>7</td>\n",
       "    </tr>\n",
       "    <tr>\n",
       "      <th>rupesh</th>\n",
       "      <td>120</td>\n",
       "      <td>100</td>\n",
       "      <td>14</td>\n",
       "    </tr>\n",
       "    <tr>\n",
       "      <th>rishabh</th>\n",
       "      <td>80</td>\n",
       "      <td>50</td>\n",
       "      <td>2</td>\n",
       "    </tr>\n",
       "    <tr>\n",
       "      <th>amit</th>\n",
       "      <td>0</td>\n",
       "      <td>0</td>\n",
       "      <td>0</td>\n",
       "    </tr>\n",
       "    <tr>\n",
       "      <th>ankita</th>\n",
       "      <td>0</td>\n",
       "      <td>0</td>\n",
       "      <td>0</td>\n",
       "    </tr>\n",
       "  </tbody>\n",
       "</table>\n",
       "</div>"
      ],
      "text/plain": [
       "          iq  marks  package\n",
       "name                        \n",
       "nitish   100     80       10\n",
       "ankit     90     70        7\n",
       "rupesh   120    100       14\n",
       "rishabh   80     50        2\n",
       "amit       0      0        0\n",
       "ankita     0      0        0"
      ]
     },
     "execution_count": 44,
     "metadata": {},
     "output_type": "execute_result"
    }
   ],
   "source": [
    "# rename\n",
    "students"
   ]
  },
  {
   "cell_type": "code",
   "execution_count": 45,
   "metadata": {
    "id": "uEnGueRIKOLh"
   },
   "outputs": [],
   "source": [
    "students.rename(columns={'marks':'percent','package':'lpa'},inplace=True)"
   ]
  },
  {
   "cell_type": "markdown",
   "metadata": {
    "id": "OQ-A3XU-06KG"
   },
   "source": [
    "### Math Methods"
   ]
  },
  {
   "cell_type": "markdown",
   "metadata": {},
   "source": [
    "#### sum(axis)"
   ]
  },
  {
   "cell_type": "code",
   "execution_count": 46,
   "metadata": {
    "colab": {
     "base_uri": "https://localhost:8080/"
    },
    "executionInfo": {
     "elapsed": 2,
     "status": "ok",
     "timestamp": 1671030716390,
     "user": {
      "displayName": "CampusX",
      "userId": "17274569631252575216"
     },
     "user_tz": -330
    },
    "id": "9agZIP-z0lc9",
    "outputId": "6f4ca547-c59f-437e-d6c3-7d523df4a2a0"
   },
   "outputs": [
    {
     "data": {
      "text/plain": [
       "iq         390\n",
       "percent    300\n",
       "lpa         33\n",
       "dtype: int64"
      ]
     },
     "execution_count": 46,
     "metadata": {},
     "output_type": "execute_result"
    }
   ],
   "source": [
    "# sum -> axis argument\n",
    "students.sum(axis=0)"
   ]
  },
  {
   "cell_type": "markdown",
   "metadata": {},
   "source": [
    "#### mean()"
   ]
  },
  {
   "cell_type": "code",
   "execution_count": 47,
   "metadata": {
    "colab": {
     "base_uri": "https://localhost:8080/"
    },
    "executionInfo": {
     "elapsed": 8,
     "status": "ok",
     "timestamp": 1671030734018,
     "user": {
      "displayName": "CampusX",
      "userId": "17274569631252575216"
     },
     "user_tz": -330
    },
    "id": "bPN2x2-xLitU",
    "outputId": "f6dab3eb-ac81-47fd-8ad2-fd35c4cc6b42"
   },
   "outputs": [
    {
     "data": {
      "text/plain": [
       "name\n",
       "nitish     63.333333\n",
       "ankit      55.666667\n",
       "rupesh     78.000000\n",
       "rishabh    44.000000\n",
       "amit        0.000000\n",
       "ankita      0.000000\n",
       "dtype: float64"
      ]
     },
     "execution_count": 47,
     "metadata": {},
     "output_type": "execute_result"
    }
   ],
   "source": [
    "students.mean(axis=1)"
   ]
  },
  {
   "cell_type": "markdown",
   "metadata": {},
   "source": [
    "#### var()"
   ]
  },
  {
   "cell_type": "code",
   "execution_count": 48,
   "metadata": {
    "colab": {
     "base_uri": "https://localhost:8080/"
    },
    "executionInfo": {
     "elapsed": 3,
     "status": "ok",
     "timestamp": 1671030776436,
     "user": {
      "displayName": "CampusX",
      "userId": "17274569631252575216"
     },
     "user_tz": -330
    },
    "id": "AEWWvGRCLi8-",
    "outputId": "3e6ceb29-4e5d-4674-d331-0592ec83105c"
   },
   "outputs": [
    {
     "data": {
      "text/plain": [
       "iq         2710.0\n",
       "percent    1760.0\n",
       "lpa          33.5\n",
       "dtype: float64"
      ]
     },
     "execution_count": 48,
     "metadata": {},
     "output_type": "execute_result"
    }
   ],
   "source": [
    "students.var()"
   ]
  },
  {
   "cell_type": "markdown",
   "metadata": {},
   "source": [
    "### Selecting & Filtering & Editing"
   ]
  },
  {
   "cell_type": "markdown",
   "metadata": {
    "id": "PaOsDoR01EVm"
   },
   "source": [
    "#### Selecting cols from a DataFrame"
   ]
  },
  {
   "cell_type": "markdown",
   "metadata": {},
   "source": [
    "##### Single Column"
   ]
  },
  {
   "cell_type": "code",
   "execution_count": 85,
   "metadata": {
    "colab": {
     "base_uri": "https://localhost:8080/"
    },
    "executionInfo": {
     "elapsed": 4,
     "status": "ok",
     "timestamp": 1671030951578,
     "user": {
      "displayName": "CampusX",
      "userId": "17274569631252575216"
     },
     "user_tz": -330
    },
    "id": "GFYaWcxk1H3H",
    "outputId": "d049cd3e-9cc0-4952-88fb-009598f8bd5f"
   },
   "outputs": [
    {
     "data": {
      "text/plain": [
       "11                    Gully Boy\n",
       "34                Yeh Hai India\n",
       "37            Article 15 (film)\n",
       "87                      Aiyaary\n",
       "96             Raid (2018 film)\n",
       "                 ...           \n",
       "1600                     Kasoor\n",
       "1601           Maya (2001 film)\n",
       "1607    Nayak (2001 Hindi film)\n",
       "1621                    Tum Bin\n",
       "1623                   Zubeidaa\n",
       "Name: title_x, Length: 298, dtype: object"
      ]
     },
     "execution_count": 85,
     "metadata": {},
     "output_type": "execute_result"
    }
   ],
   "source": [
    "# single cols\n",
    "movies['title_x']"
   ]
  },
  {
   "cell_type": "code",
   "execution_count": 86,
   "metadata": {
    "colab": {
     "base_uri": "https://localhost:8080/"
    },
    "executionInfo": {
     "elapsed": 3,
     "status": "ok",
     "timestamp": 1671030982569,
     "user": {
      "displayName": "CampusX",
      "userId": "17274569631252575216"
     },
     "user_tz": -330
    },
    "id": "4hePxZN6NNrc",
    "outputId": "a8c80192-3601-4384-f10a-4bf50656efbe"
   },
   "outputs": [
    {
     "data": {
      "text/plain": [
       "0                Narendra Modi Stadium, Ahmedabad\n",
       "1                Narendra Modi Stadium, Ahmedabad\n",
       "2                           Eden Gardens, Kolkata\n",
       "3                           Eden Gardens, Kolkata\n",
       "4                        Wankhede Stadium, Mumbai\n",
       "                          ...                    \n",
       "945                                  Eden Gardens\n",
       "946                              Wankhede Stadium\n",
       "947                              Feroz Shah Kotla\n",
       "948    Punjab Cricket Association Stadium, Mohali\n",
       "949                         M Chinnaswamy Stadium\n",
       "Name: Venue, Length: 950, dtype: object"
      ]
     },
     "execution_count": 86,
     "metadata": {},
     "output_type": "execute_result"
    }
   ],
   "source": [
    "ipl['Venue']"
   ]
  },
  {
   "cell_type": "markdown",
   "metadata": {},
   "source": [
    "##### Multiple Columns"
   ]
  },
  {
   "cell_type": "code",
   "execution_count": 87,
   "metadata": {
    "colab": {
     "base_uri": "https://localhost:8080/",
     "height": 424
    },
    "executionInfo": {
     "elapsed": 5,
     "status": "ok",
     "timestamp": 1671031136823,
     "user": {
      "displayName": "CampusX",
      "userId": "17274569631252575216"
     },
     "user_tz": -330
    },
    "id": "fBmf-wef1KsY",
    "outputId": "f2fd08f5-6265-40ff-95cb-d565acafa802"
   },
   "outputs": [
    {
     "data": {
      "text/html": [
       "<div>\n",
       "<style scoped>\n",
       "    .dataframe tbody tr th:only-of-type {\n",
       "        vertical-align: middle;\n",
       "    }\n",
       "\n",
       "    .dataframe tbody tr th {\n",
       "        vertical-align: top;\n",
       "    }\n",
       "\n",
       "    .dataframe thead th {\n",
       "        text-align: right;\n",
       "    }\n",
       "</style>\n",
       "<table border=\"1\" class=\"dataframe\">\n",
       "  <thead>\n",
       "    <tr style=\"text-align: right;\">\n",
       "      <th></th>\n",
       "      <th>year_of_release</th>\n",
       "      <th>actors</th>\n",
       "      <th>title_x</th>\n",
       "    </tr>\n",
       "  </thead>\n",
       "  <tbody>\n",
       "    <tr>\n",
       "      <th>11</th>\n",
       "      <td>2019</td>\n",
       "      <td>Ranveer Singh|Alia Bhatt|Siddhant Chaturvedi|V...</td>\n",
       "      <td>Gully Boy</td>\n",
       "    </tr>\n",
       "    <tr>\n",
       "      <th>34</th>\n",
       "      <td>2017</td>\n",
       "      <td>Gavie Chahal|Mohan Agashe|Mohan Joshi|Lom Harsh|</td>\n",
       "      <td>Yeh Hai India</td>\n",
       "    </tr>\n",
       "    <tr>\n",
       "      <th>37</th>\n",
       "      <td>2019</td>\n",
       "      <td>Ayushmann Khurrana|Nassar|Manoj Pahwa|Kumud Mi...</td>\n",
       "      <td>Article 15 (film)</td>\n",
       "    </tr>\n",
       "    <tr>\n",
       "      <th>87</th>\n",
       "      <td>2018</td>\n",
       "      <td>Sidharth Malhotra|Manoj Bajpayee|Rakul Preet S...</td>\n",
       "      <td>Aiyaary</td>\n",
       "    </tr>\n",
       "    <tr>\n",
       "      <th>96</th>\n",
       "      <td>2018</td>\n",
       "      <td>Ajay Devgn|Saurabh Shukla|Ileana D'Cruz|Amit S...</td>\n",
       "      <td>Raid (2018 film)</td>\n",
       "    </tr>\n",
       "    <tr>\n",
       "      <th>...</th>\n",
       "      <td>...</td>\n",
       "      <td>...</td>\n",
       "      <td>...</td>\n",
       "    </tr>\n",
       "    <tr>\n",
       "      <th>1600</th>\n",
       "      <td>2001</td>\n",
       "      <td>Divya Dutta|Sucheta Paushe|Lisa Ray|Apoorva Ag...</td>\n",
       "      <td>Kasoor</td>\n",
       "    </tr>\n",
       "    <tr>\n",
       "      <th>1601</th>\n",
       "      <td>2001</td>\n",
       "      <td>Anant Nag|Mita Vasisht|Nitya Shetty|Nikhil Yad...</td>\n",
       "      <td>Maya (2001 film)</td>\n",
       "    </tr>\n",
       "    <tr>\n",
       "      <th>1607</th>\n",
       "      <td>2001</td>\n",
       "      <td>Anil Kapoor|Rani Mukerji|Amrish Puri|Johnny Le...</td>\n",
       "      <td>Nayak (2001 Hindi film)</td>\n",
       "    </tr>\n",
       "    <tr>\n",
       "      <th>1621</th>\n",
       "      <td>2001</td>\n",
       "      <td>Priyanshu Chatterjee|Himanshu Malik|Sandali Si...</td>\n",
       "      <td>Tum Bin</td>\n",
       "    </tr>\n",
       "    <tr>\n",
       "      <th>1623</th>\n",
       "      <td>2001</td>\n",
       "      <td>Karisma Kapoor|Rekha|Manoj Bajpayee|Rajit Kapo...</td>\n",
       "      <td>Zubeidaa</td>\n",
       "    </tr>\n",
       "  </tbody>\n",
       "</table>\n",
       "<p>298 rows × 3 columns</p>\n",
       "</div>"
      ],
      "text/plain": [
       "      year_of_release                                             actors  \\\n",
       "11               2019  Ranveer Singh|Alia Bhatt|Siddhant Chaturvedi|V...   \n",
       "34               2017   Gavie Chahal|Mohan Agashe|Mohan Joshi|Lom Harsh|   \n",
       "37               2019  Ayushmann Khurrana|Nassar|Manoj Pahwa|Kumud Mi...   \n",
       "87               2018  Sidharth Malhotra|Manoj Bajpayee|Rakul Preet S...   \n",
       "96               2018  Ajay Devgn|Saurabh Shukla|Ileana D'Cruz|Amit S...   \n",
       "...               ...                                                ...   \n",
       "1600             2001  Divya Dutta|Sucheta Paushe|Lisa Ray|Apoorva Ag...   \n",
       "1601             2001  Anant Nag|Mita Vasisht|Nitya Shetty|Nikhil Yad...   \n",
       "1607             2001  Anil Kapoor|Rani Mukerji|Amrish Puri|Johnny Le...   \n",
       "1621             2001  Priyanshu Chatterjee|Himanshu Malik|Sandali Si...   \n",
       "1623             2001  Karisma Kapoor|Rekha|Manoj Bajpayee|Rajit Kapo...   \n",
       "\n",
       "                      title_x  \n",
       "11                  Gully Boy  \n",
       "34              Yeh Hai India  \n",
       "37          Article 15 (film)  \n",
       "87                    Aiyaary  \n",
       "96           Raid (2018 film)  \n",
       "...                       ...  \n",
       "1600                   Kasoor  \n",
       "1601         Maya (2001 film)  \n",
       "1607  Nayak (2001 Hindi film)  \n",
       "1621                  Tum Bin  \n",
       "1623                 Zubeidaa  \n",
       "\n",
       "[298 rows x 3 columns]"
      ]
     },
     "execution_count": 87,
     "metadata": {},
     "output_type": "execute_result"
    }
   ],
   "source": [
    "# multiple cols\n",
    "movies[['year_of_release','actors','title_x']]"
   ]
  },
  {
   "cell_type": "code",
   "execution_count": 88,
   "metadata": {
    "colab": {
     "base_uri": "https://localhost:8080/",
     "height": 424
    },
    "executionInfo": {
     "elapsed": 448,
     "status": "ok",
     "timestamp": 1671031186986,
     "user": {
      "displayName": "CampusX",
      "userId": "17274569631252575216"
     },
     "user_tz": -330
    },
    "id": "s3mf9nuYN-J6",
    "outputId": "630ec525-28a1-434c-cb99-784f82980bd3"
   },
   "outputs": [
    {
     "data": {
      "text/html": [
       "<div>\n",
       "<style scoped>\n",
       "    .dataframe tbody tr th:only-of-type {\n",
       "        vertical-align: middle;\n",
       "    }\n",
       "\n",
       "    .dataframe tbody tr th {\n",
       "        vertical-align: top;\n",
       "    }\n",
       "\n",
       "    .dataframe thead th {\n",
       "        text-align: right;\n",
       "    }\n",
       "</style>\n",
       "<table border=\"1\" class=\"dataframe\">\n",
       "  <thead>\n",
       "    <tr style=\"text-align: right;\">\n",
       "      <th></th>\n",
       "      <th>Team1</th>\n",
       "      <th>Team2</th>\n",
       "      <th>WinningTeam</th>\n",
       "    </tr>\n",
       "  </thead>\n",
       "  <tbody>\n",
       "    <tr>\n",
       "      <th>0</th>\n",
       "      <td>Rajasthan Royals</td>\n",
       "      <td>Gujarat Titans</td>\n",
       "      <td>Gujarat Titans</td>\n",
       "    </tr>\n",
       "    <tr>\n",
       "      <th>1</th>\n",
       "      <td>Royal Challengers Bangalore</td>\n",
       "      <td>Rajasthan Royals</td>\n",
       "      <td>Rajasthan Royals</td>\n",
       "    </tr>\n",
       "    <tr>\n",
       "      <th>2</th>\n",
       "      <td>Royal Challengers Bangalore</td>\n",
       "      <td>Lucknow Super Giants</td>\n",
       "      <td>Royal Challengers Bangalore</td>\n",
       "    </tr>\n",
       "    <tr>\n",
       "      <th>3</th>\n",
       "      <td>Rajasthan Royals</td>\n",
       "      <td>Gujarat Titans</td>\n",
       "      <td>Gujarat Titans</td>\n",
       "    </tr>\n",
       "    <tr>\n",
       "      <th>4</th>\n",
       "      <td>Sunrisers Hyderabad</td>\n",
       "      <td>Punjab Kings</td>\n",
       "      <td>Punjab Kings</td>\n",
       "    </tr>\n",
       "    <tr>\n",
       "      <th>...</th>\n",
       "      <td>...</td>\n",
       "      <td>...</td>\n",
       "      <td>...</td>\n",
       "    </tr>\n",
       "    <tr>\n",
       "      <th>945</th>\n",
       "      <td>Kolkata Knight Riders</td>\n",
       "      <td>Deccan Chargers</td>\n",
       "      <td>Kolkata Knight Riders</td>\n",
       "    </tr>\n",
       "    <tr>\n",
       "      <th>946</th>\n",
       "      <td>Mumbai Indians</td>\n",
       "      <td>Royal Challengers Bangalore</td>\n",
       "      <td>Royal Challengers Bangalore</td>\n",
       "    </tr>\n",
       "    <tr>\n",
       "      <th>947</th>\n",
       "      <td>Delhi Daredevils</td>\n",
       "      <td>Rajasthan Royals</td>\n",
       "      <td>Delhi Daredevils</td>\n",
       "    </tr>\n",
       "    <tr>\n",
       "      <th>948</th>\n",
       "      <td>Kings XI Punjab</td>\n",
       "      <td>Chennai Super Kings</td>\n",
       "      <td>Chennai Super Kings</td>\n",
       "    </tr>\n",
       "    <tr>\n",
       "      <th>949</th>\n",
       "      <td>Royal Challengers Bangalore</td>\n",
       "      <td>Kolkata Knight Riders</td>\n",
       "      <td>Kolkata Knight Riders</td>\n",
       "    </tr>\n",
       "  </tbody>\n",
       "</table>\n",
       "<p>950 rows × 3 columns</p>\n",
       "</div>"
      ],
      "text/plain": [
       "                           Team1                        Team2  \\\n",
       "0               Rajasthan Royals               Gujarat Titans   \n",
       "1    Royal Challengers Bangalore             Rajasthan Royals   \n",
       "2    Royal Challengers Bangalore         Lucknow Super Giants   \n",
       "3               Rajasthan Royals               Gujarat Titans   \n",
       "4            Sunrisers Hyderabad                 Punjab Kings   \n",
       "..                           ...                          ...   \n",
       "945        Kolkata Knight Riders              Deccan Chargers   \n",
       "946               Mumbai Indians  Royal Challengers Bangalore   \n",
       "947             Delhi Daredevils             Rajasthan Royals   \n",
       "948              Kings XI Punjab          Chennai Super Kings   \n",
       "949  Royal Challengers Bangalore        Kolkata Knight Riders   \n",
       "\n",
       "                     WinningTeam  \n",
       "0                 Gujarat Titans  \n",
       "1               Rajasthan Royals  \n",
       "2    Royal Challengers Bangalore  \n",
       "3                 Gujarat Titans  \n",
       "4                   Punjab Kings  \n",
       "..                           ...  \n",
       "945        Kolkata Knight Riders  \n",
       "946  Royal Challengers Bangalore  \n",
       "947             Delhi Daredevils  \n",
       "948          Chennai Super Kings  \n",
       "949        Kolkata Knight Riders  \n",
       "\n",
       "[950 rows x 3 columns]"
      ]
     },
     "execution_count": 88,
     "metadata": {},
     "output_type": "execute_result"
    }
   ],
   "source": [
    "ipl[['Team1','Team2','WinningTeam']]"
   ]
  },
  {
   "cell_type": "markdown",
   "metadata": {
    "id": "Xfe-uRHn2fnK"
   },
   "source": [
    "#### Selecting rows from a DataFrame\n",
    "\n",
    "- **iloc** - searches using index positions\n",
    "- **loc** - searches using index labels"
   ]
  },
  {
   "cell_type": "markdown",
   "metadata": {},
   "source": [
    "##### iloc[] : Search using index potions"
   ]
  },
  {
   "cell_type": "code",
   "execution_count": 89,
   "metadata": {
    "colab": {
     "base_uri": "https://localhost:8080/"
    },
    "executionInfo": {
     "elapsed": 3,
     "status": "ok",
     "timestamp": 1671031541456,
     "user": {
      "displayName": "CampusX",
      "userId": "17274569631252575216"
     },
     "user_tz": -330
    },
    "id": "jEpLIQ8o1Lqe",
    "outputId": "5af38c28-7870-4251-f39b-c700931ee2bb"
   },
   "outputs": [
    {
     "data": {
      "text/plain": [
       "title_x                                                      Baaghi 2\n",
       "imdb_id                                                     tt6843812\n",
       "poster_path         https://upload.wikimedia.org/wikipedia/en/thum...\n",
       "wiki_link                      https://en.wikipedia.org/wiki/Baaghi_2\n",
       "title_y                                                      Baaghi 2\n",
       "original_title                                               Baaghi 2\n",
       "is_adult                                                            0\n",
       "year_of_release                                                  2018\n",
       "runtime                                                           137\n",
       "genres                                                Action|Thriller\n",
       "imdb_rating                                                       5.0\n",
       "imdb_votes                                                       7657\n",
       "story               Ronnie is serving in the Indian army.He gets a...\n",
       "summary             A battle-hardened army officer squares off aga...\n",
       "tagline                                                Rebel for love\n",
       "actors              Tiger Shroff|Disha Patani|Manoj Bajpayee|Rande...\n",
       "wins_nominations                                3 wins & 1 nomination\n",
       "release_date                                      30 March 2018 (USA)\n",
       "Country                                                         India\n",
       "lead actor                                               Tiger Shroff\n",
       "Name: 99, dtype: object"
      ]
     },
     "execution_count": 89,
     "metadata": {},
     "output_type": "execute_result"
    }
   ],
   "source": [
    "# single row\n",
    "movies.iloc[5]"
   ]
  },
  {
   "cell_type": "code",
   "execution_count": 111,
   "metadata": {},
   "outputs": [
    {
     "data": {
      "text/plain": [
       "batter         A Badoni\n",
       "batsman_run         161\n",
       "Name: 1, dtype: object"
      ]
     },
     "execution_count": 111,
     "metadata": {},
     "output_type": "execute_result"
    }
   ],
   "source": [
    "batsman.iloc[1]"
   ]
  },
  {
   "cell_type": "code",
   "execution_count": 112,
   "metadata": {},
   "outputs": [
    {
     "data": {
      "text/html": [
       "<div>\n",
       "<style scoped>\n",
       "    .dataframe tbody tr th:only-of-type {\n",
       "        vertical-align: middle;\n",
       "    }\n",
       "\n",
       "    .dataframe tbody tr th {\n",
       "        vertical-align: top;\n",
       "    }\n",
       "\n",
       "    .dataframe thead th {\n",
       "        text-align: right;\n",
       "    }\n",
       "</style>\n",
       "<table border=\"1\" class=\"dataframe\">\n",
       "  <thead>\n",
       "    <tr style=\"text-align: right;\">\n",
       "      <th></th>\n",
       "      <th>batter</th>\n",
       "      <th>batsman_run</th>\n",
       "    </tr>\n",
       "  </thead>\n",
       "  <tbody>\n",
       "    <tr>\n",
       "      <th>0</th>\n",
       "      <td>A Ashish Reddy</td>\n",
       "      <td>280</td>\n",
       "    </tr>\n",
       "    <tr>\n",
       "      <th>1</th>\n",
       "      <td>A Badoni</td>\n",
       "      <td>161</td>\n",
       "    </tr>\n",
       "    <tr>\n",
       "      <th>2</th>\n",
       "      <td>A Chandila</td>\n",
       "      <td>4</td>\n",
       "    </tr>\n",
       "  </tbody>\n",
       "</table>\n",
       "</div>"
      ],
      "text/plain": [
       "           batter  batsman_run\n",
       "0  A Ashish Reddy          280\n",
       "1        A Badoni          161\n",
       "2      A Chandila            4"
      ]
     },
     "execution_count": 112,
     "metadata": {},
     "output_type": "execute_result"
    }
   ],
   "source": [
    "batsman.iloc[:3]"
   ]
  },
  {
   "cell_type": "code",
   "execution_count": 90,
   "metadata": {
    "colab": {
     "base_uri": "https://localhost:8080/",
     "height": 635
    },
    "executionInfo": {
     "elapsed": 6,
     "status": "ok",
     "timestamp": 1671031638193,
     "user": {
      "displayName": "CampusX",
      "userId": "17274569631252575216"
     },
     "user_tz": -330
    },
    "id": "sZ-9vwck2kWx",
    "outputId": "fca0ca53-62e9-486e-c544-e324463ffb62"
   },
   "outputs": [
    {
     "data": {
      "text/html": [
       "<div>\n",
       "<style scoped>\n",
       "    .dataframe tbody tr th:only-of-type {\n",
       "        vertical-align: middle;\n",
       "    }\n",
       "\n",
       "    .dataframe tbody tr th {\n",
       "        vertical-align: top;\n",
       "    }\n",
       "\n",
       "    .dataframe thead th {\n",
       "        text-align: right;\n",
       "    }\n",
       "</style>\n",
       "<table border=\"1\" class=\"dataframe\">\n",
       "  <thead>\n",
       "    <tr style=\"text-align: right;\">\n",
       "      <th></th>\n",
       "      <th>title_x</th>\n",
       "      <th>imdb_id</th>\n",
       "      <th>poster_path</th>\n",
       "      <th>wiki_link</th>\n",
       "      <th>title_y</th>\n",
       "      <th>original_title</th>\n",
       "      <th>is_adult</th>\n",
       "      <th>year_of_release</th>\n",
       "      <th>runtime</th>\n",
       "      <th>genres</th>\n",
       "      <th>imdb_rating</th>\n",
       "      <th>imdb_votes</th>\n",
       "      <th>story</th>\n",
       "      <th>summary</th>\n",
       "      <th>tagline</th>\n",
       "      <th>actors</th>\n",
       "      <th>wins_nominations</th>\n",
       "      <th>release_date</th>\n",
       "      <th>Country</th>\n",
       "      <th>lead actor</th>\n",
       "    </tr>\n",
       "  </thead>\n",
       "  <tbody>\n",
       "    <tr>\n",
       "      <th>11</th>\n",
       "      <td>Gully Boy</td>\n",
       "      <td>tt2395469</td>\n",
       "      <td>https://upload.wikimedia.org/wikipedia/en/thum...</td>\n",
       "      <td>https://en.wikipedia.org/wiki/Gully_Boy</td>\n",
       "      <td>Gully Boy</td>\n",
       "      <td>Gully Boy</td>\n",
       "      <td>0</td>\n",
       "      <td>2019</td>\n",
       "      <td>153</td>\n",
       "      <td>Drama|Music</td>\n",
       "      <td>8.2</td>\n",
       "      <td>22440</td>\n",
       "      <td>Gully Boy is a film about a 22-year-old boy \"M...</td>\n",
       "      <td>A coming-of-age story based on the lives of st...</td>\n",
       "      <td>Apna Time Aayega!</td>\n",
       "      <td>Ranveer Singh|Alia Bhatt|Siddhant Chaturvedi|V...</td>\n",
       "      <td>6 wins &amp; 3 nominations</td>\n",
       "      <td>14 February 2019 (USA)</td>\n",
       "      <td>India</td>\n",
       "      <td>Ranveer Singh</td>\n",
       "    </tr>\n",
       "    <tr>\n",
       "      <th>34</th>\n",
       "      <td>Yeh Hai India</td>\n",
       "      <td>tt5525846</td>\n",
       "      <td>https://upload.wikimedia.org/wikipedia/en/thum...</td>\n",
       "      <td>https://en.wikipedia.org/wiki/Yeh_Hai_India</td>\n",
       "      <td>Yeh Hai India</td>\n",
       "      <td>Yeh Hai India</td>\n",
       "      <td>0</td>\n",
       "      <td>2017</td>\n",
       "      <td>128</td>\n",
       "      <td>Action|Adventure|Drama</td>\n",
       "      <td>5.7</td>\n",
       "      <td>169</td>\n",
       "      <td>Yeh Hai India  follows the story of a 25 years...</td>\n",
       "      <td>Yeh Hai India  follows the story of a 25 years...</td>\n",
       "      <td>A Film for Every Indian</td>\n",
       "      <td>Gavie Chahal|Mohan Agashe|Mohan Joshi|Lom Harsh|</td>\n",
       "      <td>2 wins &amp; 1 nomination</td>\n",
       "      <td>24 May 2019 (India)</td>\n",
       "      <td>India</td>\n",
       "      <td>Gavie Chahal</td>\n",
       "    </tr>\n",
       "    <tr>\n",
       "      <th>37</th>\n",
       "      <td>Article 15 (film)</td>\n",
       "      <td>tt10324144</td>\n",
       "      <td>https://upload.wikimedia.org/wikipedia/en/thum...</td>\n",
       "      <td>https://en.wikipedia.org/wiki/Article_15_(film)</td>\n",
       "      <td>Article 15</td>\n",
       "      <td>Article 15</td>\n",
       "      <td>0</td>\n",
       "      <td>2019</td>\n",
       "      <td>130</td>\n",
       "      <td>Crime|Drama</td>\n",
       "      <td>8.3</td>\n",
       "      <td>13417</td>\n",
       "      <td>In the rural heartlands of India  an upright p...</td>\n",
       "      <td>In the rural heartlands of India  an upright p...</td>\n",
       "      <td>Farq Bahut Kar Liya| Ab Farq Laayenge.</td>\n",
       "      <td>Ayushmann Khurrana|Nassar|Manoj Pahwa|Kumud Mi...</td>\n",
       "      <td>1 win</td>\n",
       "      <td>28 June 2019 (USA)</td>\n",
       "      <td>India</td>\n",
       "      <td>Ayushmann Khurrana</td>\n",
       "    </tr>\n",
       "    <tr>\n",
       "      <th>87</th>\n",
       "      <td>Aiyaary</td>\n",
       "      <td>tt6774212</td>\n",
       "      <td>https://upload.wikimedia.org/wikipedia/en/thum...</td>\n",
       "      <td>https://en.wikipedia.org/wiki/Aiyaary</td>\n",
       "      <td>Aiyaary</td>\n",
       "      <td>Aiyaary</td>\n",
       "      <td>0</td>\n",
       "      <td>2018</td>\n",
       "      <td>157</td>\n",
       "      <td>Action|Thriller</td>\n",
       "      <td>5.2</td>\n",
       "      <td>3538</td>\n",
       "      <td>General Gurinder Singh comes with a proposal t...</td>\n",
       "      <td>After finding out about an illegal arms deal  ...</td>\n",
       "      <td>The Ultimate Trickery</td>\n",
       "      <td>Sidharth Malhotra|Manoj Bajpayee|Rakul Preet S...</td>\n",
       "      <td>1 nomination</td>\n",
       "      <td>16 February 2018 (USA)</td>\n",
       "      <td>India</td>\n",
       "      <td>Sidharth Malhotra</td>\n",
       "    </tr>\n",
       "    <tr>\n",
       "      <th>96</th>\n",
       "      <td>Raid (2018 film)</td>\n",
       "      <td>tt7363076</td>\n",
       "      <td>https://upload.wikimedia.org/wikipedia/en/thum...</td>\n",
       "      <td>https://en.wikipedia.org/wiki/Raid_(2018_film)</td>\n",
       "      <td>Raid</td>\n",
       "      <td>Raid</td>\n",
       "      <td>0</td>\n",
       "      <td>2018</td>\n",
       "      <td>122</td>\n",
       "      <td>Action|Crime|Drama</td>\n",
       "      <td>7.4</td>\n",
       "      <td>13159</td>\n",
       "      <td>Set in the 80s in Uttar Pradesh  India  Raid i...</td>\n",
       "      <td>A fearless income tax officer raids the mansio...</td>\n",
       "      <td>Heroes don't always come in uniform</td>\n",
       "      <td>Ajay Devgn|Saurabh Shukla|Ileana D'Cruz|Amit S...</td>\n",
       "      <td>2 wins &amp; 3 nominations</td>\n",
       "      <td>16 March 2018 (India)</td>\n",
       "      <td>India</td>\n",
       "      <td>Ajay Devgn</td>\n",
       "    </tr>\n",
       "  </tbody>\n",
       "</table>\n",
       "</div>"
      ],
      "text/plain": [
       "              title_x     imdb_id  \\\n",
       "11          Gully Boy   tt2395469   \n",
       "34      Yeh Hai India   tt5525846   \n",
       "37  Article 15 (film)  tt10324144   \n",
       "87            Aiyaary   tt6774212   \n",
       "96   Raid (2018 film)   tt7363076   \n",
       "\n",
       "                                          poster_path  \\\n",
       "11  https://upload.wikimedia.org/wikipedia/en/thum...   \n",
       "34  https://upload.wikimedia.org/wikipedia/en/thum...   \n",
       "37  https://upload.wikimedia.org/wikipedia/en/thum...   \n",
       "87  https://upload.wikimedia.org/wikipedia/en/thum...   \n",
       "96  https://upload.wikimedia.org/wikipedia/en/thum...   \n",
       "\n",
       "                                          wiki_link        title_y  \\\n",
       "11          https://en.wikipedia.org/wiki/Gully_Boy      Gully Boy   \n",
       "34      https://en.wikipedia.org/wiki/Yeh_Hai_India  Yeh Hai India   \n",
       "37  https://en.wikipedia.org/wiki/Article_15_(film)     Article 15   \n",
       "87            https://en.wikipedia.org/wiki/Aiyaary        Aiyaary   \n",
       "96   https://en.wikipedia.org/wiki/Raid_(2018_film)           Raid   \n",
       "\n",
       "   original_title  is_adult  year_of_release runtime                  genres  \\\n",
       "11      Gully Boy         0             2019     153             Drama|Music   \n",
       "34  Yeh Hai India         0             2017     128  Action|Adventure|Drama   \n",
       "37     Article 15         0             2019     130             Crime|Drama   \n",
       "87        Aiyaary         0             2018     157         Action|Thriller   \n",
       "96           Raid         0             2018     122      Action|Crime|Drama   \n",
       "\n",
       "    imdb_rating  imdb_votes  \\\n",
       "11          8.2       22440   \n",
       "34          5.7         169   \n",
       "37          8.3       13417   \n",
       "87          5.2        3538   \n",
       "96          7.4       13159   \n",
       "\n",
       "                                                story  \\\n",
       "11  Gully Boy is a film about a 22-year-old boy \"M...   \n",
       "34  Yeh Hai India  follows the story of a 25 years...   \n",
       "37  In the rural heartlands of India  an upright p...   \n",
       "87  General Gurinder Singh comes with a proposal t...   \n",
       "96  Set in the 80s in Uttar Pradesh  India  Raid i...   \n",
       "\n",
       "                                              summary  \\\n",
       "11  A coming-of-age story based on the lives of st...   \n",
       "34  Yeh Hai India  follows the story of a 25 years...   \n",
       "37  In the rural heartlands of India  an upright p...   \n",
       "87  After finding out about an illegal arms deal  ...   \n",
       "96  A fearless income tax officer raids the mansio...   \n",
       "\n",
       "                                   tagline  \\\n",
       "11                       Apna Time Aayega!   \n",
       "34                 A Film for Every Indian   \n",
       "37  Farq Bahut Kar Liya| Ab Farq Laayenge.   \n",
       "87                   The Ultimate Trickery   \n",
       "96     Heroes don't always come in uniform   \n",
       "\n",
       "                                               actors        wins_nominations  \\\n",
       "11  Ranveer Singh|Alia Bhatt|Siddhant Chaturvedi|V...  6 wins & 3 nominations   \n",
       "34   Gavie Chahal|Mohan Agashe|Mohan Joshi|Lom Harsh|   2 wins & 1 nomination   \n",
       "37  Ayushmann Khurrana|Nassar|Manoj Pahwa|Kumud Mi...                   1 win   \n",
       "87  Sidharth Malhotra|Manoj Bajpayee|Rakul Preet S...            1 nomination   \n",
       "96  Ajay Devgn|Saurabh Shukla|Ileana D'Cruz|Amit S...  2 wins & 3 nominations   \n",
       "\n",
       "              release_date Country          lead actor  \n",
       "11  14 February 2019 (USA)   India       Ranveer Singh  \n",
       "34     24 May 2019 (India)   India        Gavie Chahal  \n",
       "37      28 June 2019 (USA)   India  Ayushmann Khurrana  \n",
       "87  16 February 2018 (USA)   India   Sidharth Malhotra  \n",
       "96   16 March 2018 (India)   India          Ajay Devgn  "
      ]
     },
     "execution_count": 90,
     "metadata": {},
     "output_type": "execute_result"
    }
   ],
   "source": [
    "# multiple row\n",
    "movies.iloc[:5]"
   ]
  },
  {
   "cell_type": "markdown",
   "metadata": {},
   "source": [
    "##### Fancy Indexing"
   ]
  },
  {
   "cell_type": "code",
   "execution_count": 115,
   "metadata": {},
   "outputs": [
    {
     "data": {
      "text/plain": [
       "(605, 2)"
      ]
     },
     "execution_count": 115,
     "metadata": {},
     "output_type": "execute_result"
    }
   ],
   "source": [
    "batsman.shape"
   ]
  },
  {
   "cell_type": "code",
   "execution_count": 116,
   "metadata": {},
   "outputs": [
    {
     "data": {
      "text/html": [
       "<div>\n",
       "<style scoped>\n",
       "    .dataframe tbody tr th:only-of-type {\n",
       "        vertical-align: middle;\n",
       "    }\n",
       "\n",
       "    .dataframe tbody tr th {\n",
       "        vertical-align: top;\n",
       "    }\n",
       "\n",
       "    .dataframe thead th {\n",
       "        text-align: right;\n",
       "    }\n",
       "</style>\n",
       "<table border=\"1\" class=\"dataframe\">\n",
       "  <thead>\n",
       "    <tr style=\"text-align: right;\">\n",
       "      <th></th>\n",
       "      <th>batter</th>\n",
       "      <th>batsman_run</th>\n",
       "    </tr>\n",
       "  </thead>\n",
       "  <tbody>\n",
       "    <tr>\n",
       "      <th>1</th>\n",
       "      <td>A Badoni</td>\n",
       "      <td>161</td>\n",
       "    </tr>\n",
       "    <tr>\n",
       "      <th>33</th>\n",
       "      <td>AD Mascarenhas</td>\n",
       "      <td>79</td>\n",
       "    </tr>\n",
       "    <tr>\n",
       "      <th>45</th>\n",
       "      <td>AM Nayar</td>\n",
       "      <td>672</td>\n",
       "    </tr>\n",
       "  </tbody>\n",
       "</table>\n",
       "</div>"
      ],
      "text/plain": [
       "            batter  batsman_run\n",
       "1         A Badoni          161\n",
       "33  AD Mascarenhas           79\n",
       "45        AM Nayar          672"
      ]
     },
     "execution_count": 116,
     "metadata": {},
     "output_type": "execute_result"
    }
   ],
   "source": [
    "batsman.iloc[[1, 33, 45]]"
   ]
  },
  {
   "cell_type": "code",
   "execution_count": 91,
   "metadata": {
    "colab": {
     "base_uri": "https://localhost:8080/",
     "height": 503
    },
    "executionInfo": {
     "elapsed": 4,
     "status": "ok",
     "timestamp": 1671031675694,
     "user": {
      "displayName": "CampusX",
      "userId": "17274569631252575216"
     },
     "user_tz": -330
    },
    "id": "jsdmIdyBlFg8",
    "outputId": "cb603511-7e16-4f78-a331-ce6ca3c90918"
   },
   "outputs": [
    {
     "data": {
      "text/html": [
       "<div>\n",
       "<style scoped>\n",
       "    .dataframe tbody tr th:only-of-type {\n",
       "        vertical-align: middle;\n",
       "    }\n",
       "\n",
       "    .dataframe tbody tr th {\n",
       "        vertical-align: top;\n",
       "    }\n",
       "\n",
       "    .dataframe thead th {\n",
       "        text-align: right;\n",
       "    }\n",
       "</style>\n",
       "<table border=\"1\" class=\"dataframe\">\n",
       "  <thead>\n",
       "    <tr style=\"text-align: right;\">\n",
       "      <th></th>\n",
       "      <th>title_x</th>\n",
       "      <th>imdb_id</th>\n",
       "      <th>poster_path</th>\n",
       "      <th>wiki_link</th>\n",
       "      <th>title_y</th>\n",
       "      <th>original_title</th>\n",
       "      <th>is_adult</th>\n",
       "      <th>year_of_release</th>\n",
       "      <th>runtime</th>\n",
       "      <th>genres</th>\n",
       "      <th>imdb_rating</th>\n",
       "      <th>imdb_votes</th>\n",
       "      <th>story</th>\n",
       "      <th>summary</th>\n",
       "      <th>tagline</th>\n",
       "      <th>actors</th>\n",
       "      <th>wins_nominations</th>\n",
       "      <th>release_date</th>\n",
       "      <th>Country</th>\n",
       "      <th>lead actor</th>\n",
       "    </tr>\n",
       "  </thead>\n",
       "  <tbody>\n",
       "    <tr>\n",
       "      <th>11</th>\n",
       "      <td>Gully Boy</td>\n",
       "      <td>tt2395469</td>\n",
       "      <td>https://upload.wikimedia.org/wikipedia/en/thum...</td>\n",
       "      <td>https://en.wikipedia.org/wiki/Gully_Boy</td>\n",
       "      <td>Gully Boy</td>\n",
       "      <td>Gully Boy</td>\n",
       "      <td>0</td>\n",
       "      <td>2019</td>\n",
       "      <td>153</td>\n",
       "      <td>Drama|Music</td>\n",
       "      <td>8.2</td>\n",
       "      <td>22440</td>\n",
       "      <td>Gully Boy is a film about a 22-year-old boy \"M...</td>\n",
       "      <td>A coming-of-age story based on the lives of st...</td>\n",
       "      <td>Apna Time Aayega!</td>\n",
       "      <td>Ranveer Singh|Alia Bhatt|Siddhant Chaturvedi|V...</td>\n",
       "      <td>6 wins &amp; 3 nominations</td>\n",
       "      <td>14 February 2019 (USA)</td>\n",
       "      <td>India</td>\n",
       "      <td>Ranveer Singh</td>\n",
       "    </tr>\n",
       "    <tr>\n",
       "      <th>96</th>\n",
       "      <td>Raid (2018 film)</td>\n",
       "      <td>tt7363076</td>\n",
       "      <td>https://upload.wikimedia.org/wikipedia/en/thum...</td>\n",
       "      <td>https://en.wikipedia.org/wiki/Raid_(2018_film)</td>\n",
       "      <td>Raid</td>\n",
       "      <td>Raid</td>\n",
       "      <td>0</td>\n",
       "      <td>2018</td>\n",
       "      <td>122</td>\n",
       "      <td>Action|Crime|Drama</td>\n",
       "      <td>7.4</td>\n",
       "      <td>13159</td>\n",
       "      <td>Set in the 80s in Uttar Pradesh  India  Raid i...</td>\n",
       "      <td>A fearless income tax officer raids the mansio...</td>\n",
       "      <td>Heroes don't always come in uniform</td>\n",
       "      <td>Ajay Devgn|Saurabh Shukla|Ileana D'Cruz|Amit S...</td>\n",
       "      <td>2 wins &amp; 3 nominations</td>\n",
       "      <td>16 March 2018 (India)</td>\n",
       "      <td>India</td>\n",
       "      <td>Ajay Devgn</td>\n",
       "    </tr>\n",
       "    <tr>\n",
       "      <th>99</th>\n",
       "      <td>Baaghi 2</td>\n",
       "      <td>tt6843812</td>\n",
       "      <td>https://upload.wikimedia.org/wikipedia/en/thum...</td>\n",
       "      <td>https://en.wikipedia.org/wiki/Baaghi_2</td>\n",
       "      <td>Baaghi 2</td>\n",
       "      <td>Baaghi 2</td>\n",
       "      <td>0</td>\n",
       "      <td>2018</td>\n",
       "      <td>137</td>\n",
       "      <td>Action|Thriller</td>\n",
       "      <td>5.0</td>\n",
       "      <td>7657</td>\n",
       "      <td>Ronnie is serving in the Indian army.He gets a...</td>\n",
       "      <td>A battle-hardened army officer squares off aga...</td>\n",
       "      <td>Rebel for love</td>\n",
       "      <td>Tiger Shroff|Disha Patani|Manoj Bajpayee|Rande...</td>\n",
       "      <td>3 wins &amp; 1 nomination</td>\n",
       "      <td>30 March 2018 (USA)</td>\n",
       "      <td>India</td>\n",
       "      <td>Tiger Shroff</td>\n",
       "    </tr>\n",
       "  </tbody>\n",
       "</table>\n",
       "</div>"
      ],
      "text/plain": [
       "             title_x    imdb_id  \\\n",
       "11         Gully Boy  tt2395469   \n",
       "96  Raid (2018 film)  tt7363076   \n",
       "99          Baaghi 2  tt6843812   \n",
       "\n",
       "                                          poster_path  \\\n",
       "11  https://upload.wikimedia.org/wikipedia/en/thum...   \n",
       "96  https://upload.wikimedia.org/wikipedia/en/thum...   \n",
       "99  https://upload.wikimedia.org/wikipedia/en/thum...   \n",
       "\n",
       "                                         wiki_link    title_y original_title  \\\n",
       "11         https://en.wikipedia.org/wiki/Gully_Boy  Gully Boy      Gully Boy   \n",
       "96  https://en.wikipedia.org/wiki/Raid_(2018_film)       Raid           Raid   \n",
       "99          https://en.wikipedia.org/wiki/Baaghi_2   Baaghi 2       Baaghi 2   \n",
       "\n",
       "    is_adult  year_of_release runtime              genres  imdb_rating  \\\n",
       "11         0             2019     153         Drama|Music          8.2   \n",
       "96         0             2018     122  Action|Crime|Drama          7.4   \n",
       "99         0             2018     137     Action|Thriller          5.0   \n",
       "\n",
       "    imdb_votes                                              story  \\\n",
       "11       22440  Gully Boy is a film about a 22-year-old boy \"M...   \n",
       "96       13159  Set in the 80s in Uttar Pradesh  India  Raid i...   \n",
       "99        7657  Ronnie is serving in the Indian army.He gets a...   \n",
       "\n",
       "                                              summary  \\\n",
       "11  A coming-of-age story based on the lives of st...   \n",
       "96  A fearless income tax officer raids the mansio...   \n",
       "99  A battle-hardened army officer squares off aga...   \n",
       "\n",
       "                                tagline  \\\n",
       "11                    Apna Time Aayega!   \n",
       "96  Heroes don't always come in uniform   \n",
       "99                       Rebel for love   \n",
       "\n",
       "                                               actors        wins_nominations  \\\n",
       "11  Ranveer Singh|Alia Bhatt|Siddhant Chaturvedi|V...  6 wins & 3 nominations   \n",
       "96  Ajay Devgn|Saurabh Shukla|Ileana D'Cruz|Amit S...  2 wins & 3 nominations   \n",
       "99  Tiger Shroff|Disha Patani|Manoj Bajpayee|Rande...   3 wins & 1 nomination   \n",
       "\n",
       "              release_date Country     lead actor  \n",
       "11  14 February 2019 (USA)   India  Ranveer Singh  \n",
       "96   16 March 2018 (India)   India     Ajay Devgn  \n",
       "99     30 March 2018 (USA)   India   Tiger Shroff  "
      ]
     },
     "execution_count": 91,
     "metadata": {},
     "output_type": "execute_result"
    }
   ],
   "source": [
    "# fancy indexing\n",
    "movies.iloc[[0,4,5]]"
   ]
  },
  {
   "cell_type": "markdown",
   "metadata": {},
   "source": [
    "##### loc[] : Search using label "
   ]
  },
  {
   "cell_type": "code",
   "execution_count": 117,
   "metadata": {
    "colab": {
     "base_uri": "https://localhost:8080/",
     "height": 269
    },
    "executionInfo": {
     "elapsed": 4,
     "status": "ok",
     "timestamp": 1671031715558,
     "user": {
      "displayName": "CampusX",
      "userId": "17274569631252575216"
     },
     "user_tz": -330
    },
    "id": "tzKNGsmAjhpv",
    "outputId": "7411c7c4-c94c-4269-8b18-a8b8715059f0"
   },
   "outputs": [
    {
     "data": {
      "text/html": [
       "<div>\n",
       "<style scoped>\n",
       "    .dataframe tbody tr th:only-of-type {\n",
       "        vertical-align: middle;\n",
       "    }\n",
       "\n",
       "    .dataframe tbody tr th {\n",
       "        vertical-align: top;\n",
       "    }\n",
       "\n",
       "    .dataframe thead th {\n",
       "        text-align: right;\n",
       "    }\n",
       "</style>\n",
       "<table border=\"1\" class=\"dataframe\">\n",
       "  <thead>\n",
       "    <tr style=\"text-align: right;\">\n",
       "      <th></th>\n",
       "      <th>iq</th>\n",
       "      <th>percent</th>\n",
       "      <th>lpa</th>\n",
       "    </tr>\n",
       "    <tr>\n",
       "      <th>name</th>\n",
       "      <th></th>\n",
       "      <th></th>\n",
       "      <th></th>\n",
       "    </tr>\n",
       "  </thead>\n",
       "  <tbody>\n",
       "    <tr>\n",
       "      <th>nitish</th>\n",
       "      <td>100</td>\n",
       "      <td>80</td>\n",
       "      <td>10</td>\n",
       "    </tr>\n",
       "    <tr>\n",
       "      <th>ankit</th>\n",
       "      <td>90</td>\n",
       "      <td>70</td>\n",
       "      <td>7</td>\n",
       "    </tr>\n",
       "    <tr>\n",
       "      <th>rupesh</th>\n",
       "      <td>120</td>\n",
       "      <td>100</td>\n",
       "      <td>14</td>\n",
       "    </tr>\n",
       "    <tr>\n",
       "      <th>rishabh</th>\n",
       "      <td>80</td>\n",
       "      <td>50</td>\n",
       "      <td>2</td>\n",
       "    </tr>\n",
       "    <tr>\n",
       "      <th>amit</th>\n",
       "      <td>0</td>\n",
       "      <td>0</td>\n",
       "      <td>0</td>\n",
       "    </tr>\n",
       "    <tr>\n",
       "      <th>ankita</th>\n",
       "      <td>0</td>\n",
       "      <td>0</td>\n",
       "      <td>0</td>\n",
       "    </tr>\n",
       "  </tbody>\n",
       "</table>\n",
       "</div>"
      ],
      "text/plain": [
       "          iq  percent  lpa\n",
       "name                      \n",
       "nitish   100       80   10\n",
       "ankit     90       70    7\n",
       "rupesh   120      100   14\n",
       "rishabh   80       50    2\n",
       "amit       0        0    0\n",
       "ankita     0        0    0"
      ]
     },
     "execution_count": 117,
     "metadata": {},
     "output_type": "execute_result"
    }
   ],
   "source": [
    "# loc\n",
    "students"
   ]
  },
  {
   "cell_type": "code",
   "execution_count": 93,
   "metadata": {
    "colab": {
     "base_uri": "https://localhost:8080/"
    },
    "executionInfo": {
     "elapsed": 407,
     "status": "ok",
     "timestamp": 1671031740261,
     "user": {
      "displayName": "CampusX",
      "userId": "17274569631252575216"
     },
     "user_tz": -330
    },
    "id": "hyOae7adjh2d",
    "outputId": "e1a31fc3-f7d9-4238-cf9a-fdf0143a1087"
   },
   "outputs": [
    {
     "data": {
      "text/plain": [
       "iq         100\n",
       "percent     80\n",
       "lpa         10\n",
       "Name: nitish, dtype: int64"
      ]
     },
     "execution_count": 93,
     "metadata": {},
     "output_type": "execute_result"
    }
   ],
   "source": [
    "students.loc['nitish']"
   ]
  },
  {
   "cell_type": "code",
   "execution_count": 94,
   "metadata": {
    "colab": {
     "base_uri": "https://localhost:8080/",
     "height": 143
    },
    "executionInfo": {
     "elapsed": 5,
     "status": "ok",
     "timestamp": 1671031797813,
     "user": {
      "displayName": "CampusX",
      "userId": "17274569631252575216"
     },
     "user_tz": -330
    },
    "id": "tboUtK1djiGQ",
    "outputId": "bf9ecde4-a5bd-425e-eeb9-9509be7e7b79"
   },
   "outputs": [
    {
     "data": {
      "text/html": [
       "<div>\n",
       "<style scoped>\n",
       "    .dataframe tbody tr th:only-of-type {\n",
       "        vertical-align: middle;\n",
       "    }\n",
       "\n",
       "    .dataframe tbody tr th {\n",
       "        vertical-align: top;\n",
       "    }\n",
       "\n",
       "    .dataframe thead th {\n",
       "        text-align: right;\n",
       "    }\n",
       "</style>\n",
       "<table border=\"1\" class=\"dataframe\">\n",
       "  <thead>\n",
       "    <tr style=\"text-align: right;\">\n",
       "      <th></th>\n",
       "      <th>iq</th>\n",
       "      <th>percent</th>\n",
       "      <th>lpa</th>\n",
       "    </tr>\n",
       "    <tr>\n",
       "      <th>name</th>\n",
       "      <th></th>\n",
       "      <th></th>\n",
       "      <th></th>\n",
       "    </tr>\n",
       "  </thead>\n",
       "  <tbody>\n",
       "    <tr>\n",
       "      <th>nitish</th>\n",
       "      <td>100</td>\n",
       "      <td>80</td>\n",
       "      <td>10</td>\n",
       "    </tr>\n",
       "    <tr>\n",
       "      <th>rupesh</th>\n",
       "      <td>120</td>\n",
       "      <td>100</td>\n",
       "      <td>14</td>\n",
       "    </tr>\n",
       "  </tbody>\n",
       "</table>\n",
       "</div>"
      ],
      "text/plain": [
       "         iq  percent  lpa\n",
       "name                     \n",
       "nitish  100       80   10\n",
       "rupesh  120      100   14"
      ]
     },
     "execution_count": 94,
     "metadata": {},
     "output_type": "execute_result"
    }
   ],
   "source": [
    "students.loc['nitish':'rishabh':2]"
   ]
  },
  {
   "cell_type": "code",
   "execution_count": 95,
   "metadata": {
    "colab": {
     "base_uri": "https://localhost:8080/",
     "height": 175
    },
    "executionInfo": {
     "elapsed": 5,
     "status": "ok",
     "timestamp": 1671031826550,
     "user": {
      "displayName": "CampusX",
      "userId": "17274569631252575216"
     },
     "user_tz": -330
    },
    "id": "WOWnPNp6jiUK",
    "outputId": "b603b597-9bf1-40dc-c51b-c990cc7dc0d1"
   },
   "outputs": [
    {
     "data": {
      "text/html": [
       "<div>\n",
       "<style scoped>\n",
       "    .dataframe tbody tr th:only-of-type {\n",
       "        vertical-align: middle;\n",
       "    }\n",
       "\n",
       "    .dataframe tbody tr th {\n",
       "        vertical-align: top;\n",
       "    }\n",
       "\n",
       "    .dataframe thead th {\n",
       "        text-align: right;\n",
       "    }\n",
       "</style>\n",
       "<table border=\"1\" class=\"dataframe\">\n",
       "  <thead>\n",
       "    <tr style=\"text-align: right;\">\n",
       "      <th></th>\n",
       "      <th>iq</th>\n",
       "      <th>percent</th>\n",
       "      <th>lpa</th>\n",
       "    </tr>\n",
       "    <tr>\n",
       "      <th>name</th>\n",
       "      <th></th>\n",
       "      <th></th>\n",
       "      <th></th>\n",
       "    </tr>\n",
       "  </thead>\n",
       "  <tbody>\n",
       "    <tr>\n",
       "      <th>nitish</th>\n",
       "      <td>100</td>\n",
       "      <td>80</td>\n",
       "      <td>10</td>\n",
       "    </tr>\n",
       "    <tr>\n",
       "      <th>ankita</th>\n",
       "      <td>0</td>\n",
       "      <td>0</td>\n",
       "      <td>0</td>\n",
       "    </tr>\n",
       "    <tr>\n",
       "      <th>rupesh</th>\n",
       "      <td>120</td>\n",
       "      <td>100</td>\n",
       "      <td>14</td>\n",
       "    </tr>\n",
       "  </tbody>\n",
       "</table>\n",
       "</div>"
      ],
      "text/plain": [
       "         iq  percent  lpa\n",
       "name                     \n",
       "nitish  100       80   10\n",
       "ankita    0        0    0\n",
       "rupesh  120      100   14"
      ]
     },
     "execution_count": 95,
     "metadata": {},
     "output_type": "execute_result"
    }
   ],
   "source": [
    "students.loc[['nitish','ankita','rupesh']]"
   ]
  },
  {
   "cell_type": "code",
   "execution_count": 96,
   "metadata": {
    "colab": {
     "base_uri": "https://localhost:8080/",
     "height": 175
    },
    "executionInfo": {
     "elapsed": 4,
     "status": "ok",
     "timestamp": 1671031902713,
     "user": {
      "displayName": "CampusX",
      "userId": "17274569631252575216"
     },
     "user_tz": -330
    },
    "id": "bEvsiB5wQoqC",
    "outputId": "0d6945ef-d7b0-4f84-cf9d-50e47fb7912e"
   },
   "outputs": [
    {
     "data": {
      "text/html": [
       "<div>\n",
       "<style scoped>\n",
       "    .dataframe tbody tr th:only-of-type {\n",
       "        vertical-align: middle;\n",
       "    }\n",
       "\n",
       "    .dataframe tbody tr th {\n",
       "        vertical-align: top;\n",
       "    }\n",
       "\n",
       "    .dataframe thead th {\n",
       "        text-align: right;\n",
       "    }\n",
       "</style>\n",
       "<table border=\"1\" class=\"dataframe\">\n",
       "  <thead>\n",
       "    <tr style=\"text-align: right;\">\n",
       "      <th></th>\n",
       "      <th>iq</th>\n",
       "      <th>percent</th>\n",
       "      <th>lpa</th>\n",
       "    </tr>\n",
       "    <tr>\n",
       "      <th>name</th>\n",
       "      <th></th>\n",
       "      <th></th>\n",
       "      <th></th>\n",
       "    </tr>\n",
       "  </thead>\n",
       "  <tbody>\n",
       "    <tr>\n",
       "      <th>nitish</th>\n",
       "      <td>100</td>\n",
       "      <td>80</td>\n",
       "      <td>10</td>\n",
       "    </tr>\n",
       "    <tr>\n",
       "      <th>rishabh</th>\n",
       "      <td>80</td>\n",
       "      <td>50</td>\n",
       "      <td>2</td>\n",
       "    </tr>\n",
       "    <tr>\n",
       "      <th>amit</th>\n",
       "      <td>0</td>\n",
       "      <td>0</td>\n",
       "      <td>0</td>\n",
       "    </tr>\n",
       "  </tbody>\n",
       "</table>\n",
       "</div>"
      ],
      "text/plain": [
       "          iq  percent  lpa\n",
       "name                      \n",
       "nitish   100       80   10\n",
       "rishabh   80       50    2\n",
       "amit       0        0    0"
      ]
     },
     "execution_count": 96,
     "metadata": {},
     "output_type": "execute_result"
    }
   ],
   "source": [
    "students.iloc[[0,3,4]]"
   ]
  },
  {
   "cell_type": "markdown",
   "metadata": {
    "id": "OP8KFcBiaZt-"
   },
   "source": [
    "#### Selecting both rows and cols"
   ]
  },
  {
   "cell_type": "code",
   "execution_count": 120,
   "metadata": {},
   "outputs": [
    {
     "data": {
      "text/plain": [
       "Index(['title_x', 'imdb_id', 'poster_path', 'wiki_link', 'title_y',\n",
       "       'original_title', 'is_adult', 'year_of_release', 'runtime', 'genres',\n",
       "       'imdb_rating', 'imdb_votes', 'story', 'summary', 'tagline', 'actors',\n",
       "       'wins_nominations', 'release_date', 'Country', 'lead actor'],\n",
       "      dtype='object')"
      ]
     },
     "execution_count": 120,
     "metadata": {},
     "output_type": "execute_result"
    }
   ],
   "source": [
    "movies.columns"
   ]
  },
  {
   "cell_type": "code",
   "execution_count": 123,
   "metadata": {},
   "outputs": [
    {
     "data": {
      "text/plain": [
       "'Gully Boy'"
      ]
     },
     "execution_count": 123,
     "metadata": {},
     "output_type": "execute_result"
    }
   ],
   "source": [
    "movies.loc[11].title_x"
   ]
  },
  {
   "cell_type": "code",
   "execution_count": 97,
   "metadata": {
    "colab": {
     "base_uri": "https://localhost:8080/",
     "height": 143
    },
    "executionInfo": {
     "elapsed": 697,
     "status": "ok",
     "timestamp": 1671032099408,
     "user": {
      "displayName": "CampusX",
      "userId": "17274569631252575216"
     },
     "user_tz": -330
    },
    "id": "6QUgIi7kad1X",
    "outputId": "c29e9437-37a0-4258-e706-2d6f19aaa80f"
   },
   "outputs": [
    {
     "data": {
      "text/html": [
       "<div>\n",
       "<style scoped>\n",
       "    .dataframe tbody tr th:only-of-type {\n",
       "        vertical-align: middle;\n",
       "    }\n",
       "\n",
       "    .dataframe tbody tr th {\n",
       "        vertical-align: top;\n",
       "    }\n",
       "\n",
       "    .dataframe thead th {\n",
       "        text-align: right;\n",
       "    }\n",
       "</style>\n",
       "<table border=\"1\" class=\"dataframe\">\n",
       "  <thead>\n",
       "    <tr style=\"text-align: right;\">\n",
       "      <th></th>\n",
       "      <th>title_x</th>\n",
       "      <th>imdb_id</th>\n",
       "      <th>poster_path</th>\n",
       "    </tr>\n",
       "  </thead>\n",
       "  <tbody>\n",
       "    <tr>\n",
       "      <th>11</th>\n",
       "      <td>Gully Boy</td>\n",
       "      <td>tt2395469</td>\n",
       "      <td>https://upload.wikimedia.org/wikipedia/en/thum...</td>\n",
       "    </tr>\n",
       "    <tr>\n",
       "      <th>34</th>\n",
       "      <td>Yeh Hai India</td>\n",
       "      <td>tt5525846</td>\n",
       "      <td>https://upload.wikimedia.org/wikipedia/en/thum...</td>\n",
       "    </tr>\n",
       "    <tr>\n",
       "      <th>37</th>\n",
       "      <td>Article 15 (film)</td>\n",
       "      <td>tt10324144</td>\n",
       "      <td>https://upload.wikimedia.org/wikipedia/en/thum...</td>\n",
       "    </tr>\n",
       "  </tbody>\n",
       "</table>\n",
       "</div>"
      ],
      "text/plain": [
       "              title_x     imdb_id  \\\n",
       "11          Gully Boy   tt2395469   \n",
       "34      Yeh Hai India   tt5525846   \n",
       "37  Article 15 (film)  tt10324144   \n",
       "\n",
       "                                          poster_path  \n",
       "11  https://upload.wikimedia.org/wikipedia/en/thum...  \n",
       "34  https://upload.wikimedia.org/wikipedia/en/thum...  \n",
       "37  https://upload.wikimedia.org/wikipedia/en/thum...  "
      ]
     },
     "execution_count": 97,
     "metadata": {},
     "output_type": "execute_result"
    }
   ],
   "source": [
    "movies.iloc[0:3,0:3]"
   ]
  },
  {
   "cell_type": "code",
   "execution_count": 132,
   "metadata": {
    "colab": {
     "base_uri": "https://localhost:8080/",
     "height": 143
    },
    "executionInfo": {
     "elapsed": 602,
     "status": "ok",
     "timestamp": 1671032150480,
     "user": {
      "displayName": "CampusX",
      "userId": "17274569631252575216"
     },
     "user_tz": -330
    },
    "id": "LGrzybQ6ad_d",
    "outputId": "75901163-a67b-4a6e-9ec8-88312a35a65e"
   },
   "outputs": [],
   "source": [
    "# movies.loc[12:20, 'title_x':'poster_path']"
   ]
  },
  {
   "cell_type": "code",
   "execution_count": 133,
   "metadata": {},
   "outputs": [
    {
     "data": {
      "text/html": [
       "<div>\n",
       "<style scoped>\n",
       "    .dataframe tbody tr th:only-of-type {\n",
       "        vertical-align: middle;\n",
       "    }\n",
       "\n",
       "    .dataframe tbody tr th {\n",
       "        vertical-align: top;\n",
       "    }\n",
       "\n",
       "    .dataframe thead th {\n",
       "        text-align: right;\n",
       "    }\n",
       "</style>\n",
       "<table border=\"1\" class=\"dataframe\">\n",
       "  <thead>\n",
       "    <tr style=\"text-align: right;\">\n",
       "      <th></th>\n",
       "      <th>title_x</th>\n",
       "      <th>poster_path</th>\n",
       "      <th>title_y</th>\n",
       "    </tr>\n",
       "  </thead>\n",
       "  <tbody>\n",
       "    <tr>\n",
       "      <th>11</th>\n",
       "      <td>Gully Boy</td>\n",
       "      <td>https://upload.wikimedia.org/wikipedia/en/thum...</td>\n",
       "      <td>Gully Boy</td>\n",
       "    </tr>\n",
       "    <tr>\n",
       "      <th>34</th>\n",
       "      <td>Yeh Hai India</td>\n",
       "      <td>https://upload.wikimedia.org/wikipedia/en/thum...</td>\n",
       "      <td>Yeh Hai India</td>\n",
       "    </tr>\n",
       "    <tr>\n",
       "      <th>37</th>\n",
       "      <td>Article 15 (film)</td>\n",
       "      <td>https://upload.wikimedia.org/wikipedia/en/thum...</td>\n",
       "      <td>Article 15</td>\n",
       "    </tr>\n",
       "    <tr>\n",
       "      <th>87</th>\n",
       "      <td>Aiyaary</td>\n",
       "      <td>https://upload.wikimedia.org/wikipedia/en/thum...</td>\n",
       "      <td>Aiyaary</td>\n",
       "    </tr>\n",
       "    <tr>\n",
       "      <th>96</th>\n",
       "      <td>Raid (2018 film)</td>\n",
       "      <td>https://upload.wikimedia.org/wikipedia/en/thum...</td>\n",
       "      <td>Raid</td>\n",
       "    </tr>\n",
       "    <tr>\n",
       "      <th>99</th>\n",
       "      <td>Baaghi 2</td>\n",
       "      <td>https://upload.wikimedia.org/wikipedia/en/thum...</td>\n",
       "      <td>Baaghi 2</td>\n",
       "    </tr>\n",
       "    <tr>\n",
       "      <th>100</th>\n",
       "      <td>October (2018 film)</td>\n",
       "      <td>https://upload.wikimedia.org/wikipedia/en/thum...</td>\n",
       "      <td>October</td>\n",
       "    </tr>\n",
       "    <tr>\n",
       "      <th>105</th>\n",
       "      <td>Omerta (film)</td>\n",
       "      <td>https://upload.wikimedia.org/wikipedia/en/thum...</td>\n",
       "      <td>Omerta</td>\n",
       "    </tr>\n",
       "    <tr>\n",
       "      <th>106</th>\n",
       "      <td>Raazi</td>\n",
       "      <td>https://upload.wikimedia.org/wikipedia/en/thum...</td>\n",
       "      <td>Raazi</td>\n",
       "    </tr>\n",
       "    <tr>\n",
       "      <th>112</th>\n",
       "      <td>Bhavesh Joshi Superhero</td>\n",
       "      <td>https://upload.wikimedia.org/wikipedia/en/thum...</td>\n",
       "      <td>Bhavesh Joshi Superhero</td>\n",
       "    </tr>\n",
       "    <tr>\n",
       "      <th>116</th>\n",
       "      <td>Sanju</td>\n",
       "      <td>https://upload.wikimedia.org/wikipedia/en/thum...</td>\n",
       "      <td>Sanju</td>\n",
       "    </tr>\n",
       "    <tr>\n",
       "      <th>123</th>\n",
       "      <td>Satyameva Jayate (2018 film)</td>\n",
       "      <td>https://upload.wikimedia.org/wikipedia/en/thum...</td>\n",
       "      <td>Satyameva Jayate</td>\n",
       "    </tr>\n",
       "  </tbody>\n",
       "</table>\n",
       "</div>"
      ],
      "text/plain": [
       "                          title_x  \\\n",
       "11                      Gully Boy   \n",
       "34                  Yeh Hai India   \n",
       "37              Article 15 (film)   \n",
       "87                        Aiyaary   \n",
       "96               Raid (2018 film)   \n",
       "99                       Baaghi 2   \n",
       "100           October (2018 film)   \n",
       "105                 Omerta (film)   \n",
       "106                         Raazi   \n",
       "112       Bhavesh Joshi Superhero   \n",
       "116                         Sanju   \n",
       "123  Satyameva Jayate (2018 film)   \n",
       "\n",
       "                                           poster_path  \\\n",
       "11   https://upload.wikimedia.org/wikipedia/en/thum...   \n",
       "34   https://upload.wikimedia.org/wikipedia/en/thum...   \n",
       "37   https://upload.wikimedia.org/wikipedia/en/thum...   \n",
       "87   https://upload.wikimedia.org/wikipedia/en/thum...   \n",
       "96   https://upload.wikimedia.org/wikipedia/en/thum...   \n",
       "99   https://upload.wikimedia.org/wikipedia/en/thum...   \n",
       "100  https://upload.wikimedia.org/wikipedia/en/thum...   \n",
       "105  https://upload.wikimedia.org/wikipedia/en/thum...   \n",
       "106  https://upload.wikimedia.org/wikipedia/en/thum...   \n",
       "112  https://upload.wikimedia.org/wikipedia/en/thum...   \n",
       "116  https://upload.wikimedia.org/wikipedia/en/thum...   \n",
       "123  https://upload.wikimedia.org/wikipedia/en/thum...   \n",
       "\n",
       "                     title_y  \n",
       "11                 Gully Boy  \n",
       "34             Yeh Hai India  \n",
       "37                Article 15  \n",
       "87                   Aiyaary  \n",
       "96                      Raid  \n",
       "99                  Baaghi 2  \n",
       "100                  October  \n",
       "105                   Omerta  \n",
       "106                    Raazi  \n",
       "112  Bhavesh Joshi Superhero  \n",
       "116                    Sanju  \n",
       "123         Satyameva Jayate  "
      ]
     },
     "execution_count": 133,
     "metadata": {},
     "output_type": "execute_result"
    }
   ],
   "source": [
    "# fancy indexing\n",
    "movies.iloc[0:12, [0, 2, 4]]"
   ]
  },
  {
   "cell_type": "markdown",
   "metadata": {
    "id": "VRAEYkfSNf9Z"
   },
   "source": [
    "#### Filtering a DataFrame"
   ]
  },
  {
   "cell_type": "markdown",
   "metadata": {},
   "source": [
    "##### finding the wining team"
   ]
  },
  {
   "cell_type": "code",
   "execution_count": 136,
   "metadata": {},
   "outputs": [
    {
     "data": {
      "text/plain": [
       "Index(['ID', 'City', 'Date', 'Season', 'MatchNumber', 'Team1', 'Team2',\n",
       "       'Venue', 'TossWinner', 'TossDecision', 'SuperOver', 'WinningTeam',\n",
       "       'WonBy', 'Margin', 'method', 'Player_of_Match', 'Team1Players',\n",
       "       'Team2Players', 'Umpire1', 'Umpire2'],\n",
       "      dtype='object')"
      ]
     },
     "execution_count": 136,
     "metadata": {},
     "output_type": "execute_result"
    }
   ],
   "source": [
    "ipl.columns"
   ]
  },
  {
   "cell_type": "code",
   "execution_count": 153,
   "metadata": {
    "colab": {
     "base_uri": "https://localhost:8080/",
     "height": 298
    },
    "executionInfo": {
     "elapsed": 7,
     "status": "ok",
     "timestamp": 1671032413668,
     "user": {
      "displayName": "CampusX",
      "userId": "17274569631252575216"
     },
     "user_tz": -330
    },
    "id": "xLlq8bktvi63",
    "outputId": "e0eb75d4-56ca-4a26-88bd-c111beb56f56"
   },
   "outputs": [
    {
     "data": {
      "text/html": [
       "<div>\n",
       "<style scoped>\n",
       "    .dataframe tbody tr th:only-of-type {\n",
       "        vertical-align: middle;\n",
       "    }\n",
       "\n",
       "    .dataframe tbody tr th {\n",
       "        vertical-align: top;\n",
       "    }\n",
       "\n",
       "    .dataframe thead th {\n",
       "        text-align: right;\n",
       "    }\n",
       "</style>\n",
       "<table border=\"1\" class=\"dataframe\">\n",
       "  <thead>\n",
       "    <tr style=\"text-align: right;\">\n",
       "      <th></th>\n",
       "      <th>MatchNumber</th>\n",
       "      <th>WinningTeam</th>\n",
       "    </tr>\n",
       "  </thead>\n",
       "  <tbody>\n",
       "    <tr>\n",
       "      <th>49</th>\n",
       "      <td>25</td>\n",
       "      <td>Sunrisers Hyderabad</td>\n",
       "    </tr>\n",
       "    <tr>\n",
       "      <th>357</th>\n",
       "      <td>16</td>\n",
       "      <td>Mumbai Indians</td>\n",
       "    </tr>\n",
       "    <tr>\n",
       "      <th>176</th>\n",
       "      <td>18</td>\n",
       "      <td>Chennai Super Kings</td>\n",
       "    </tr>\n",
       "    <tr>\n",
       "      <th>882</th>\n",
       "      <td>11</td>\n",
       "      <td>Kings XI Punjab</td>\n",
       "    </tr>\n",
       "    <tr>\n",
       "      <th>714</th>\n",
       "      <td>62</td>\n",
       "      <td>Deccan Chargers</td>\n",
       "    </tr>\n",
       "    <tr>\n",
       "      <th>373</th>\n",
       "      <td>Final</td>\n",
       "      <td>Sunrisers Hyderabad</td>\n",
       "    </tr>\n",
       "    <tr>\n",
       "      <th>627</th>\n",
       "      <td>1</td>\n",
       "      <td>Kolkata Knight Riders</td>\n",
       "    </tr>\n",
       "    <tr>\n",
       "      <th>773</th>\n",
       "      <td>2</td>\n",
       "      <td>Rajasthan Royals</td>\n",
       "    </tr>\n",
       "    <tr>\n",
       "      <th>946</th>\n",
       "      <td>5</td>\n",
       "      <td>Royal Challengers Bangalore</td>\n",
       "    </tr>\n",
       "    <tr>\n",
       "      <th>221</th>\n",
       "      <td>33</td>\n",
       "      <td>Sunrisers Hyderabad</td>\n",
       "    </tr>\n",
       "    <tr>\n",
       "      <th>199</th>\n",
       "      <td>56</td>\n",
       "      <td>Mumbai Indians</td>\n",
       "    </tr>\n",
       "    <tr>\n",
       "      <th>913</th>\n",
       "      <td>37</td>\n",
       "      <td>Delhi Daredevils</td>\n",
       "    </tr>\n",
       "  </tbody>\n",
       "</table>\n",
       "</div>"
      ],
      "text/plain": [
       "    MatchNumber                  WinningTeam\n",
       "49           25          Sunrisers Hyderabad\n",
       "357          16               Mumbai Indians\n",
       "176          18          Chennai Super Kings\n",
       "882          11              Kings XI Punjab\n",
       "714          62              Deccan Chargers\n",
       "373       Final          Sunrisers Hyderabad\n",
       "627           1        Kolkata Knight Riders\n",
       "773           2             Rajasthan Royals\n",
       "946           5  Royal Challengers Bangalore\n",
       "221          33          Sunrisers Hyderabad\n",
       "199          56               Mumbai Indians\n",
       "913          37             Delhi Daredevils"
      ]
     },
     "execution_count": 153,
     "metadata": {},
     "output_type": "execute_result"
    }
   ],
   "source": [
    "# fetch only relevant columns\n",
    "ipl[['MatchNumber', 'WinningTeam']].sample(12)"
   ]
  },
  {
   "cell_type": "code",
   "execution_count": 155,
   "metadata": {},
   "outputs": [
    {
     "data": {
      "text/plain": [
       "MatchNumber\n",
       "False    935\n",
       "True      15\n",
       "Name: count, dtype: int64"
      ]
     },
     "execution_count": 155,
     "metadata": {},
     "output_type": "execute_result"
    }
   ],
   "source": [
    "# check the final match\n",
    "mask = ipl['MatchNumber'] == 'Final'\n",
    "mask.value_counts()"
   ]
  },
  {
   "cell_type": "code",
   "execution_count": 156,
   "metadata": {},
   "outputs": [
    {
     "data": {
      "text/html": [
       "<div>\n",
       "<style scoped>\n",
       "    .dataframe tbody tr th:only-of-type {\n",
       "        vertical-align: middle;\n",
       "    }\n",
       "\n",
       "    .dataframe tbody tr th {\n",
       "        vertical-align: top;\n",
       "    }\n",
       "\n",
       "    .dataframe thead th {\n",
       "        text-align: right;\n",
       "    }\n",
       "</style>\n",
       "<table border=\"1\" class=\"dataframe\">\n",
       "  <thead>\n",
       "    <tr style=\"text-align: right;\">\n",
       "      <th></th>\n",
       "      <th>ID</th>\n",
       "      <th>City</th>\n",
       "      <th>Date</th>\n",
       "      <th>Season</th>\n",
       "      <th>MatchNumber</th>\n",
       "      <th>Team1</th>\n",
       "      <th>Team2</th>\n",
       "      <th>Venue</th>\n",
       "      <th>TossWinner</th>\n",
       "      <th>TossDecision</th>\n",
       "      <th>SuperOver</th>\n",
       "      <th>WinningTeam</th>\n",
       "      <th>WonBy</th>\n",
       "      <th>Margin</th>\n",
       "      <th>method</th>\n",
       "      <th>Player_of_Match</th>\n",
       "      <th>Team1Players</th>\n",
       "      <th>Team2Players</th>\n",
       "      <th>Umpire1</th>\n",
       "      <th>Umpire2</th>\n",
       "    </tr>\n",
       "  </thead>\n",
       "  <tbody>\n",
       "    <tr>\n",
       "      <th>0</th>\n",
       "      <td>1312200</td>\n",
       "      <td>Ahmedabad</td>\n",
       "      <td>2022-05-29</td>\n",
       "      <td>2022</td>\n",
       "      <td>Final</td>\n",
       "      <td>Rajasthan Royals</td>\n",
       "      <td>Gujarat Titans</td>\n",
       "      <td>Narendra Modi Stadium, Ahmedabad</td>\n",
       "      <td>Rajasthan Royals</td>\n",
       "      <td>bat</td>\n",
       "      <td>N</td>\n",
       "      <td>Gujarat Titans</td>\n",
       "      <td>Wickets</td>\n",
       "      <td>7.0</td>\n",
       "      <td>NaN</td>\n",
       "      <td>HH Pandya</td>\n",
       "      <td>['YBK Jaiswal', 'JC Buttler', 'SV Samson', 'D ...</td>\n",
       "      <td>['WP Saha', 'Shubman Gill', 'MS Wade', 'HH Pan...</td>\n",
       "      <td>CB Gaffaney</td>\n",
       "      <td>Nitin Menon</td>\n",
       "    </tr>\n",
       "    <tr>\n",
       "      <th>74</th>\n",
       "      <td>1254117</td>\n",
       "      <td>Dubai</td>\n",
       "      <td>2021-10-15</td>\n",
       "      <td>2021</td>\n",
       "      <td>Final</td>\n",
       "      <td>Chennai Super Kings</td>\n",
       "      <td>Kolkata Knight Riders</td>\n",
       "      <td>Dubai International Cricket Stadium</td>\n",
       "      <td>Kolkata Knight Riders</td>\n",
       "      <td>field</td>\n",
       "      <td>N</td>\n",
       "      <td>Chennai Super Kings</td>\n",
       "      <td>Runs</td>\n",
       "      <td>27.0</td>\n",
       "      <td>NaN</td>\n",
       "      <td>F du Plessis</td>\n",
       "      <td>['RD Gaikwad', 'F du Plessis', 'RV Uthappa', '...</td>\n",
       "      <td>['Shubman Gill', 'VR Iyer', 'N Rana', 'SP Nari...</td>\n",
       "      <td>Nitin Menon</td>\n",
       "      <td>RK Illingworth</td>\n",
       "    </tr>\n",
       "    <tr>\n",
       "      <th>134</th>\n",
       "      <td>1237181</td>\n",
       "      <td>NaN</td>\n",
       "      <td>2020-11-10</td>\n",
       "      <td>2020/21</td>\n",
       "      <td>Final</td>\n",
       "      <td>Delhi Capitals</td>\n",
       "      <td>Mumbai Indians</td>\n",
       "      <td>Dubai International Cricket Stadium</td>\n",
       "      <td>Delhi Capitals</td>\n",
       "      <td>bat</td>\n",
       "      <td>N</td>\n",
       "      <td>Mumbai Indians</td>\n",
       "      <td>Wickets</td>\n",
       "      <td>5.0</td>\n",
       "      <td>NaN</td>\n",
       "      <td>TA Boult</td>\n",
       "      <td>['MP Stoinis', 'S Dhawan', 'AM Rahane', 'SS Iy...</td>\n",
       "      <td>['RG Sharma', 'Q de Kock', 'SA Yadav', 'Ishan ...</td>\n",
       "      <td>CB Gaffaney</td>\n",
       "      <td>Nitin Menon</td>\n",
       "    </tr>\n",
       "    <tr>\n",
       "      <th>194</th>\n",
       "      <td>1181768</td>\n",
       "      <td>Hyderabad</td>\n",
       "      <td>2019-05-12</td>\n",
       "      <td>2019</td>\n",
       "      <td>Final</td>\n",
       "      <td>Mumbai Indians</td>\n",
       "      <td>Chennai Super Kings</td>\n",
       "      <td>Rajiv Gandhi International Stadium</td>\n",
       "      <td>Mumbai Indians</td>\n",
       "      <td>bat</td>\n",
       "      <td>N</td>\n",
       "      <td>Mumbai Indians</td>\n",
       "      <td>Runs</td>\n",
       "      <td>1.0</td>\n",
       "      <td>NaN</td>\n",
       "      <td>JJ Bumrah</td>\n",
       "      <td>['Q de Kock', 'RG Sharma', 'SA Yadav', 'Ishan ...</td>\n",
       "      <td>['F du Plessis', 'SR Watson', 'SK Raina', 'AT ...</td>\n",
       "      <td>IJ Gould</td>\n",
       "      <td>Nitin Menon</td>\n",
       "    </tr>\n",
       "    <tr>\n",
       "      <th>254</th>\n",
       "      <td>1136620</td>\n",
       "      <td>Mumbai</td>\n",
       "      <td>2018-05-27</td>\n",
       "      <td>2018</td>\n",
       "      <td>Final</td>\n",
       "      <td>Sunrisers Hyderabad</td>\n",
       "      <td>Chennai Super Kings</td>\n",
       "      <td>Wankhede Stadium</td>\n",
       "      <td>Chennai Super Kings</td>\n",
       "      <td>field</td>\n",
       "      <td>N</td>\n",
       "      <td>Chennai Super Kings</td>\n",
       "      <td>Wickets</td>\n",
       "      <td>8.0</td>\n",
       "      <td>NaN</td>\n",
       "      <td>SR Watson</td>\n",
       "      <td>['SP Goswami', 'S Dhawan', 'KS Williamson', 'S...</td>\n",
       "      <td>['SR Watson', 'F du Plessis', 'SK Raina', 'AT ...</td>\n",
       "      <td>M Erasmus</td>\n",
       "      <td>S Ravi</td>\n",
       "    </tr>\n",
       "    <tr>\n",
       "      <th>314</th>\n",
       "      <td>1082650</td>\n",
       "      <td>Hyderabad</td>\n",
       "      <td>2017-05-21</td>\n",
       "      <td>2017</td>\n",
       "      <td>Final</td>\n",
       "      <td>Mumbai Indians</td>\n",
       "      <td>Rising Pune Supergiant</td>\n",
       "      <td>Rajiv Gandhi International Stadium, Uppal</td>\n",
       "      <td>Mumbai Indians</td>\n",
       "      <td>bat</td>\n",
       "      <td>N</td>\n",
       "      <td>Mumbai Indians</td>\n",
       "      <td>Runs</td>\n",
       "      <td>1.0</td>\n",
       "      <td>NaN</td>\n",
       "      <td>KH Pandya</td>\n",
       "      <td>['LMP Simmons', 'PA Patel', 'AT Rayudu', 'RG S...</td>\n",
       "      <td>['AM Rahane', 'RA Tripathi', 'SPD Smith', 'MS ...</td>\n",
       "      <td>NJ Llong</td>\n",
       "      <td>S Ravi</td>\n",
       "    </tr>\n",
       "    <tr>\n",
       "      <th>373</th>\n",
       "      <td>981019</td>\n",
       "      <td>Bangalore</td>\n",
       "      <td>2016-05-29</td>\n",
       "      <td>2016</td>\n",
       "      <td>Final</td>\n",
       "      <td>Royal Challengers Bangalore</td>\n",
       "      <td>Sunrisers Hyderabad</td>\n",
       "      <td>M Chinnaswamy Stadium</td>\n",
       "      <td>Sunrisers Hyderabad</td>\n",
       "      <td>bat</td>\n",
       "      <td>N</td>\n",
       "      <td>Sunrisers Hyderabad</td>\n",
       "      <td>Runs</td>\n",
       "      <td>8.0</td>\n",
       "      <td>NaN</td>\n",
       "      <td>BCJ Cutting</td>\n",
       "      <td>['CH Gayle', 'V Kohli', 'AB de Villiers', 'KL ...</td>\n",
       "      <td>['DA Warner', 'S Dhawan', 'MC Henriques', 'Yuv...</td>\n",
       "      <td>HDPK Dharmasena</td>\n",
       "      <td>BNJ Oxenford</td>\n",
       "    </tr>\n",
       "    <tr>\n",
       "      <th>433</th>\n",
       "      <td>829823</td>\n",
       "      <td>Kolkata</td>\n",
       "      <td>2015-05-24</td>\n",
       "      <td>2015</td>\n",
       "      <td>Final</td>\n",
       "      <td>Mumbai Indians</td>\n",
       "      <td>Chennai Super Kings</td>\n",
       "      <td>Eden Gardens</td>\n",
       "      <td>Chennai Super Kings</td>\n",
       "      <td>field</td>\n",
       "      <td>N</td>\n",
       "      <td>Mumbai Indians</td>\n",
       "      <td>Runs</td>\n",
       "      <td>41.0</td>\n",
       "      <td>NaN</td>\n",
       "      <td>RG Sharma</td>\n",
       "      <td>['LMP Simmons', 'PA Patel', 'RG Sharma', 'KA P...</td>\n",
       "      <td>['DR Smith', 'MEK Hussey', 'SK Raina', 'MS Dho...</td>\n",
       "      <td>HDPK Dharmasena</td>\n",
       "      <td>RK Illingworth</td>\n",
       "    </tr>\n",
       "    <tr>\n",
       "      <th>492</th>\n",
       "      <td>734049</td>\n",
       "      <td>Bangalore</td>\n",
       "      <td>2014-06-01</td>\n",
       "      <td>2014</td>\n",
       "      <td>Final</td>\n",
       "      <td>Kolkata Knight Riders</td>\n",
       "      <td>Kings XI Punjab</td>\n",
       "      <td>M Chinnaswamy Stadium</td>\n",
       "      <td>Kolkata Knight Riders</td>\n",
       "      <td>field</td>\n",
       "      <td>N</td>\n",
       "      <td>Kolkata Knight Riders</td>\n",
       "      <td>Wickets</td>\n",
       "      <td>3.0</td>\n",
       "      <td>NaN</td>\n",
       "      <td>MK Pandey</td>\n",
       "      <td>['RV Uthappa', 'G Gambhir', 'MK Pandey', 'YK P...</td>\n",
       "      <td>['V Sehwag', 'M Vohra', 'GJ Bailey', 'WP Saha'...</td>\n",
       "      <td>HDPK Dharmasena</td>\n",
       "      <td>BNJ Oxenford</td>\n",
       "    </tr>\n",
       "    <tr>\n",
       "      <th>552</th>\n",
       "      <td>598073</td>\n",
       "      <td>Kolkata</td>\n",
       "      <td>2013-05-26</td>\n",
       "      <td>2013</td>\n",
       "      <td>Final</td>\n",
       "      <td>Chennai Super Kings</td>\n",
       "      <td>Mumbai Indians</td>\n",
       "      <td>Eden Gardens</td>\n",
       "      <td>Mumbai Indians</td>\n",
       "      <td>bat</td>\n",
       "      <td>N</td>\n",
       "      <td>Mumbai Indians</td>\n",
       "      <td>Runs</td>\n",
       "      <td>23.0</td>\n",
       "      <td>NaN</td>\n",
       "      <td>KA Pollard</td>\n",
       "      <td>['MEK Hussey', 'M Vijay', 'SK Raina', 'S Badri...</td>\n",
       "      <td>['DR Smith', 'AP Tare', 'KD Karthik', 'RG Shar...</td>\n",
       "      <td>HDPK Dharmasena</td>\n",
       "      <td>SJA Taufel</td>\n",
       "    </tr>\n",
       "    <tr>\n",
       "      <th>628</th>\n",
       "      <td>548381</td>\n",
       "      <td>Chennai</td>\n",
       "      <td>2012-05-27</td>\n",
       "      <td>2012</td>\n",
       "      <td>Final</td>\n",
       "      <td>Kolkata Knight Riders</td>\n",
       "      <td>Chennai Super Kings</td>\n",
       "      <td>MA Chidambaram Stadium, Chepauk</td>\n",
       "      <td>Chennai Super Kings</td>\n",
       "      <td>bat</td>\n",
       "      <td>N</td>\n",
       "      <td>Kolkata Knight Riders</td>\n",
       "      <td>Wickets</td>\n",
       "      <td>5.0</td>\n",
       "      <td>NaN</td>\n",
       "      <td>MS Bisla</td>\n",
       "      <td>['MS Bisla', 'G Gambhir', 'JH Kallis', 'LR Shu...</td>\n",
       "      <td>['MEK Hussey', 'M Vijay', 'SK Raina', 'MS Dhon...</td>\n",
       "      <td>BF Bowden</td>\n",
       "      <td>SJA Taufel</td>\n",
       "    </tr>\n",
       "    <tr>\n",
       "      <th>702</th>\n",
       "      <td>501271</td>\n",
       "      <td>Chennai</td>\n",
       "      <td>2011-05-28</td>\n",
       "      <td>2011</td>\n",
       "      <td>Final</td>\n",
       "      <td>Chennai Super Kings</td>\n",
       "      <td>Royal Challengers Bangalore</td>\n",
       "      <td>MA Chidambaram Stadium, Chepauk</td>\n",
       "      <td>Chennai Super Kings</td>\n",
       "      <td>bat</td>\n",
       "      <td>N</td>\n",
       "      <td>Chennai Super Kings</td>\n",
       "      <td>Runs</td>\n",
       "      <td>58.0</td>\n",
       "      <td>NaN</td>\n",
       "      <td>M Vijay</td>\n",
       "      <td>['MEK Hussey', 'M Vijay', 'MS Dhoni', 'SK Rain...</td>\n",
       "      <td>['MA Agarwal', 'CH Gayle', 'V Kohli', 'AB de V...</td>\n",
       "      <td>Asad Rauf</td>\n",
       "      <td>SJA Taufel</td>\n",
       "    </tr>\n",
       "    <tr>\n",
       "      <th>775</th>\n",
       "      <td>419165</td>\n",
       "      <td>Mumbai</td>\n",
       "      <td>2010-04-25</td>\n",
       "      <td>2009/10</td>\n",
       "      <td>Final</td>\n",
       "      <td>Chennai Super Kings</td>\n",
       "      <td>Mumbai Indians</td>\n",
       "      <td>Dr DY Patil Sports Academy</td>\n",
       "      <td>Chennai Super Kings</td>\n",
       "      <td>bat</td>\n",
       "      <td>N</td>\n",
       "      <td>Chennai Super Kings</td>\n",
       "      <td>Runs</td>\n",
       "      <td>22.0</td>\n",
       "      <td>NaN</td>\n",
       "      <td>SK Raina</td>\n",
       "      <td>['M Vijay', 'ML Hayden', 'SK Raina', 'S Badrin...</td>\n",
       "      <td>['S Dhawan', 'SR Tendulkar', 'AM Nayar', 'Harb...</td>\n",
       "      <td>RE Koertzen</td>\n",
       "      <td>SJA Taufel</td>\n",
       "    </tr>\n",
       "    <tr>\n",
       "      <th>835</th>\n",
       "      <td>392239</td>\n",
       "      <td>Johannesburg</td>\n",
       "      <td>2009-05-24</td>\n",
       "      <td>2009</td>\n",
       "      <td>Final</td>\n",
       "      <td>Royal Challengers Bangalore</td>\n",
       "      <td>Deccan Chargers</td>\n",
       "      <td>New Wanderers Stadium</td>\n",
       "      <td>Royal Challengers Bangalore</td>\n",
       "      <td>field</td>\n",
       "      <td>N</td>\n",
       "      <td>Deccan Chargers</td>\n",
       "      <td>Runs</td>\n",
       "      <td>6.0</td>\n",
       "      <td>NaN</td>\n",
       "      <td>A Kumble</td>\n",
       "      <td>['JH Kallis', 'MK Pandey', 'RE van der Merwe',...</td>\n",
       "      <td>['AC Gilchrist', 'HH Gibbs', 'TL Suman', 'A Sy...</td>\n",
       "      <td>RE Koertzen</td>\n",
       "      <td>SJA Taufel</td>\n",
       "    </tr>\n",
       "    <tr>\n",
       "      <th>892</th>\n",
       "      <td>336040</td>\n",
       "      <td>Mumbai</td>\n",
       "      <td>2008-06-01</td>\n",
       "      <td>2007/08</td>\n",
       "      <td>Final</td>\n",
       "      <td>Chennai Super Kings</td>\n",
       "      <td>Rajasthan Royals</td>\n",
       "      <td>Dr DY Patil Sports Academy</td>\n",
       "      <td>Rajasthan Royals</td>\n",
       "      <td>field</td>\n",
       "      <td>N</td>\n",
       "      <td>Rajasthan Royals</td>\n",
       "      <td>Wickets</td>\n",
       "      <td>3.0</td>\n",
       "      <td>NaN</td>\n",
       "      <td>YK Pathan</td>\n",
       "      <td>['PA Patel', 'S Vidyut', 'SK Raina', 'JA Morke...</td>\n",
       "      <td>['NK Patel', 'SA Asnodkar', 'Kamran Akmal', 'S...</td>\n",
       "      <td>BF Bowden</td>\n",
       "      <td>RE Koertzen</td>\n",
       "    </tr>\n",
       "  </tbody>\n",
       "</table>\n",
       "</div>"
      ],
      "text/plain": [
       "          ID          City        Date   Season MatchNumber  \\\n",
       "0    1312200     Ahmedabad  2022-05-29     2022       Final   \n",
       "74   1254117         Dubai  2021-10-15     2021       Final   \n",
       "134  1237181           NaN  2020-11-10  2020/21       Final   \n",
       "194  1181768     Hyderabad  2019-05-12     2019       Final   \n",
       "254  1136620        Mumbai  2018-05-27     2018       Final   \n",
       "314  1082650     Hyderabad  2017-05-21     2017       Final   \n",
       "373   981019     Bangalore  2016-05-29     2016       Final   \n",
       "433   829823       Kolkata  2015-05-24     2015       Final   \n",
       "492   734049     Bangalore  2014-06-01     2014       Final   \n",
       "552   598073       Kolkata  2013-05-26     2013       Final   \n",
       "628   548381       Chennai  2012-05-27     2012       Final   \n",
       "702   501271       Chennai  2011-05-28     2011       Final   \n",
       "775   419165        Mumbai  2010-04-25  2009/10       Final   \n",
       "835   392239  Johannesburg  2009-05-24     2009       Final   \n",
       "892   336040        Mumbai  2008-06-01  2007/08       Final   \n",
       "\n",
       "                           Team1                        Team2  \\\n",
       "0               Rajasthan Royals               Gujarat Titans   \n",
       "74           Chennai Super Kings        Kolkata Knight Riders   \n",
       "134               Delhi Capitals               Mumbai Indians   \n",
       "194               Mumbai Indians          Chennai Super Kings   \n",
       "254          Sunrisers Hyderabad          Chennai Super Kings   \n",
       "314               Mumbai Indians       Rising Pune Supergiant   \n",
       "373  Royal Challengers Bangalore          Sunrisers Hyderabad   \n",
       "433               Mumbai Indians          Chennai Super Kings   \n",
       "492        Kolkata Knight Riders              Kings XI Punjab   \n",
       "552          Chennai Super Kings               Mumbai Indians   \n",
       "628        Kolkata Knight Riders          Chennai Super Kings   \n",
       "702          Chennai Super Kings  Royal Challengers Bangalore   \n",
       "775          Chennai Super Kings               Mumbai Indians   \n",
       "835  Royal Challengers Bangalore              Deccan Chargers   \n",
       "892          Chennai Super Kings             Rajasthan Royals   \n",
       "\n",
       "                                         Venue                   TossWinner  \\\n",
       "0             Narendra Modi Stadium, Ahmedabad             Rajasthan Royals   \n",
       "74         Dubai International Cricket Stadium        Kolkata Knight Riders   \n",
       "134        Dubai International Cricket Stadium               Delhi Capitals   \n",
       "194         Rajiv Gandhi International Stadium               Mumbai Indians   \n",
       "254                           Wankhede Stadium          Chennai Super Kings   \n",
       "314  Rajiv Gandhi International Stadium, Uppal               Mumbai Indians   \n",
       "373                      M Chinnaswamy Stadium          Sunrisers Hyderabad   \n",
       "433                               Eden Gardens          Chennai Super Kings   \n",
       "492                      M Chinnaswamy Stadium        Kolkata Knight Riders   \n",
       "552                               Eden Gardens               Mumbai Indians   \n",
       "628            MA Chidambaram Stadium, Chepauk          Chennai Super Kings   \n",
       "702            MA Chidambaram Stadium, Chepauk          Chennai Super Kings   \n",
       "775                 Dr DY Patil Sports Academy          Chennai Super Kings   \n",
       "835                      New Wanderers Stadium  Royal Challengers Bangalore   \n",
       "892                 Dr DY Patil Sports Academy             Rajasthan Royals   \n",
       "\n",
       "    TossDecision SuperOver            WinningTeam    WonBy  Margin method  \\\n",
       "0            bat         N         Gujarat Titans  Wickets     7.0    NaN   \n",
       "74         field         N    Chennai Super Kings     Runs    27.0    NaN   \n",
       "134          bat         N         Mumbai Indians  Wickets     5.0    NaN   \n",
       "194          bat         N         Mumbai Indians     Runs     1.0    NaN   \n",
       "254        field         N    Chennai Super Kings  Wickets     8.0    NaN   \n",
       "314          bat         N         Mumbai Indians     Runs     1.0    NaN   \n",
       "373          bat         N    Sunrisers Hyderabad     Runs     8.0    NaN   \n",
       "433        field         N         Mumbai Indians     Runs    41.0    NaN   \n",
       "492        field         N  Kolkata Knight Riders  Wickets     3.0    NaN   \n",
       "552          bat         N         Mumbai Indians     Runs    23.0    NaN   \n",
       "628          bat         N  Kolkata Knight Riders  Wickets     5.0    NaN   \n",
       "702          bat         N    Chennai Super Kings     Runs    58.0    NaN   \n",
       "775          bat         N    Chennai Super Kings     Runs    22.0    NaN   \n",
       "835        field         N        Deccan Chargers     Runs     6.0    NaN   \n",
       "892        field         N       Rajasthan Royals  Wickets     3.0    NaN   \n",
       "\n",
       "    Player_of_Match                                       Team1Players  \\\n",
       "0         HH Pandya  ['YBK Jaiswal', 'JC Buttler', 'SV Samson', 'D ...   \n",
       "74     F du Plessis  ['RD Gaikwad', 'F du Plessis', 'RV Uthappa', '...   \n",
       "134        TA Boult  ['MP Stoinis', 'S Dhawan', 'AM Rahane', 'SS Iy...   \n",
       "194       JJ Bumrah  ['Q de Kock', 'RG Sharma', 'SA Yadav', 'Ishan ...   \n",
       "254       SR Watson  ['SP Goswami', 'S Dhawan', 'KS Williamson', 'S...   \n",
       "314       KH Pandya  ['LMP Simmons', 'PA Patel', 'AT Rayudu', 'RG S...   \n",
       "373     BCJ Cutting  ['CH Gayle', 'V Kohli', 'AB de Villiers', 'KL ...   \n",
       "433       RG Sharma  ['LMP Simmons', 'PA Patel', 'RG Sharma', 'KA P...   \n",
       "492       MK Pandey  ['RV Uthappa', 'G Gambhir', 'MK Pandey', 'YK P...   \n",
       "552      KA Pollard  ['MEK Hussey', 'M Vijay', 'SK Raina', 'S Badri...   \n",
       "628        MS Bisla  ['MS Bisla', 'G Gambhir', 'JH Kallis', 'LR Shu...   \n",
       "702         M Vijay  ['MEK Hussey', 'M Vijay', 'MS Dhoni', 'SK Rain...   \n",
       "775        SK Raina  ['M Vijay', 'ML Hayden', 'SK Raina', 'S Badrin...   \n",
       "835        A Kumble  ['JH Kallis', 'MK Pandey', 'RE van der Merwe',...   \n",
       "892       YK Pathan  ['PA Patel', 'S Vidyut', 'SK Raina', 'JA Morke...   \n",
       "\n",
       "                                          Team2Players          Umpire1  \\\n",
       "0    ['WP Saha', 'Shubman Gill', 'MS Wade', 'HH Pan...      CB Gaffaney   \n",
       "74   ['Shubman Gill', 'VR Iyer', 'N Rana', 'SP Nari...      Nitin Menon   \n",
       "134  ['RG Sharma', 'Q de Kock', 'SA Yadav', 'Ishan ...      CB Gaffaney   \n",
       "194  ['F du Plessis', 'SR Watson', 'SK Raina', 'AT ...         IJ Gould   \n",
       "254  ['SR Watson', 'F du Plessis', 'SK Raina', 'AT ...        M Erasmus   \n",
       "314  ['AM Rahane', 'RA Tripathi', 'SPD Smith', 'MS ...         NJ Llong   \n",
       "373  ['DA Warner', 'S Dhawan', 'MC Henriques', 'Yuv...  HDPK Dharmasena   \n",
       "433  ['DR Smith', 'MEK Hussey', 'SK Raina', 'MS Dho...  HDPK Dharmasena   \n",
       "492  ['V Sehwag', 'M Vohra', 'GJ Bailey', 'WP Saha'...  HDPK Dharmasena   \n",
       "552  ['DR Smith', 'AP Tare', 'KD Karthik', 'RG Shar...  HDPK Dharmasena   \n",
       "628  ['MEK Hussey', 'M Vijay', 'SK Raina', 'MS Dhon...        BF Bowden   \n",
       "702  ['MA Agarwal', 'CH Gayle', 'V Kohli', 'AB de V...        Asad Rauf   \n",
       "775  ['S Dhawan', 'SR Tendulkar', 'AM Nayar', 'Harb...      RE Koertzen   \n",
       "835  ['AC Gilchrist', 'HH Gibbs', 'TL Suman', 'A Sy...      RE Koertzen   \n",
       "892  ['NK Patel', 'SA Asnodkar', 'Kamran Akmal', 'S...        BF Bowden   \n",
       "\n",
       "            Umpire2  \n",
       "0       Nitin Menon  \n",
       "74   RK Illingworth  \n",
       "134     Nitin Menon  \n",
       "194     Nitin Menon  \n",
       "254          S Ravi  \n",
       "314          S Ravi  \n",
       "373    BNJ Oxenford  \n",
       "433  RK Illingworth  \n",
       "492    BNJ Oxenford  \n",
       "552      SJA Taufel  \n",
       "628      SJA Taufel  \n",
       "702      SJA Taufel  \n",
       "775      SJA Taufel  \n",
       "835      SJA Taufel  \n",
       "892     RE Koertzen  "
      ]
     },
     "execution_count": 156,
     "metadata": {},
     "output_type": "execute_result"
    }
   ],
   "source": [
    "ipl[mask]"
   ]
  },
  {
   "cell_type": "code",
   "execution_count": 160,
   "metadata": {},
   "outputs": [
    {
     "data": {
      "text/html": [
       "<div>\n",
       "<style scoped>\n",
       "    .dataframe tbody tr th:only-of-type {\n",
       "        vertical-align: middle;\n",
       "    }\n",
       "\n",
       "    .dataframe tbody tr th {\n",
       "        vertical-align: top;\n",
       "    }\n",
       "\n",
       "    .dataframe thead th {\n",
       "        text-align: right;\n",
       "    }\n",
       "</style>\n",
       "<table border=\"1\" class=\"dataframe\">\n",
       "  <thead>\n",
       "    <tr style=\"text-align: right;\">\n",
       "      <th></th>\n",
       "      <th>MatchNumber</th>\n",
       "      <th>WinningTeam</th>\n",
       "    </tr>\n",
       "  </thead>\n",
       "  <tbody>\n",
       "    <tr>\n",
       "      <th>0</th>\n",
       "      <td>Final</td>\n",
       "      <td>Gujarat Titans</td>\n",
       "    </tr>\n",
       "    <tr>\n",
       "      <th>74</th>\n",
       "      <td>Final</td>\n",
       "      <td>Chennai Super Kings</td>\n",
       "    </tr>\n",
       "    <tr>\n",
       "      <th>134</th>\n",
       "      <td>Final</td>\n",
       "      <td>Mumbai Indians</td>\n",
       "    </tr>\n",
       "    <tr>\n",
       "      <th>194</th>\n",
       "      <td>Final</td>\n",
       "      <td>Mumbai Indians</td>\n",
       "    </tr>\n",
       "    <tr>\n",
       "      <th>254</th>\n",
       "      <td>Final</td>\n",
       "      <td>Chennai Super Kings</td>\n",
       "    </tr>\n",
       "    <tr>\n",
       "      <th>314</th>\n",
       "      <td>Final</td>\n",
       "      <td>Mumbai Indians</td>\n",
       "    </tr>\n",
       "    <tr>\n",
       "      <th>373</th>\n",
       "      <td>Final</td>\n",
       "      <td>Sunrisers Hyderabad</td>\n",
       "    </tr>\n",
       "    <tr>\n",
       "      <th>433</th>\n",
       "      <td>Final</td>\n",
       "      <td>Mumbai Indians</td>\n",
       "    </tr>\n",
       "    <tr>\n",
       "      <th>492</th>\n",
       "      <td>Final</td>\n",
       "      <td>Kolkata Knight Riders</td>\n",
       "    </tr>\n",
       "    <tr>\n",
       "      <th>552</th>\n",
       "      <td>Final</td>\n",
       "      <td>Mumbai Indians</td>\n",
       "    </tr>\n",
       "    <tr>\n",
       "      <th>628</th>\n",
       "      <td>Final</td>\n",
       "      <td>Kolkata Knight Riders</td>\n",
       "    </tr>\n",
       "    <tr>\n",
       "      <th>702</th>\n",
       "      <td>Final</td>\n",
       "      <td>Chennai Super Kings</td>\n",
       "    </tr>\n",
       "    <tr>\n",
       "      <th>775</th>\n",
       "      <td>Final</td>\n",
       "      <td>Chennai Super Kings</td>\n",
       "    </tr>\n",
       "    <tr>\n",
       "      <th>835</th>\n",
       "      <td>Final</td>\n",
       "      <td>Deccan Chargers</td>\n",
       "    </tr>\n",
       "    <tr>\n",
       "      <th>892</th>\n",
       "      <td>Final</td>\n",
       "      <td>Rajasthan Royals</td>\n",
       "    </tr>\n",
       "  </tbody>\n",
       "</table>\n",
       "</div>"
      ],
      "text/plain": [
       "    MatchNumber            WinningTeam\n",
       "0         Final         Gujarat Titans\n",
       "74        Final    Chennai Super Kings\n",
       "134       Final         Mumbai Indians\n",
       "194       Final         Mumbai Indians\n",
       "254       Final    Chennai Super Kings\n",
       "314       Final         Mumbai Indians\n",
       "373       Final    Sunrisers Hyderabad\n",
       "433       Final         Mumbai Indians\n",
       "492       Final  Kolkata Knight Riders\n",
       "552       Final         Mumbai Indians\n",
       "628       Final  Kolkata Knight Riders\n",
       "702       Final    Chennai Super Kings\n",
       "775       Final    Chennai Super Kings\n",
       "835       Final        Deccan Chargers\n",
       "892       Final       Rajasthan Royals"
      ]
     },
     "execution_count": 160,
     "metadata": {},
     "output_type": "execute_result"
    }
   ],
   "source": [
    "# one line code is\n",
    "ipl[ipl['MatchNumber'] == 'Final'][['MatchNumber', 'WinningTeam']]"
   ]
  },
  {
   "cell_type": "markdown",
   "metadata": {},
   "source": [
    "##### how many super over finishes have occurred"
   ]
  },
  {
   "cell_type": "code",
   "execution_count": 168,
   "metadata": {},
   "outputs": [
    {
     "data": {
      "text/plain": [
       "14"
      ]
     },
     "execution_count": 168,
     "metadata": {},
     "output_type": "execute_result"
    }
   ],
   "source": [
    "ipl[ipl['SuperOver'] == 'Y'].shape[0]"
   ]
  },
  {
   "cell_type": "markdown",
   "metadata": {},
   "source": [
    "##### How many matches has csk won in kolkata"
   ]
  },
  {
   "cell_type": "code",
   "execution_count": 170,
   "metadata": {},
   "outputs": [
    {
     "data": {
      "text/plain": [
       "Index(['ID', 'City', 'Date', 'Season', 'MatchNumber', 'Team1', 'Team2',\n",
       "       'Venue', 'TossWinner', 'TossDecision', 'SuperOver', 'WinningTeam',\n",
       "       'WonBy', 'Margin', 'method', 'Player_of_Match', 'Team1Players',\n",
       "       'Team2Players', 'Umpire1', 'Umpire2'],\n",
       "      dtype='object')"
      ]
     },
     "execution_count": 170,
     "metadata": {},
     "output_type": "execute_result"
    }
   ],
   "source": [
    "ipl.columns"
   ]
  },
  {
   "cell_type": "code",
   "execution_count": null,
   "metadata": {},
   "outputs": [
    {
     "data": {
      "text/plain": [
       "0       Ahmedabad\n",
       "1       Ahmedabad\n",
       "2         Kolkata\n",
       "3         Kolkata\n",
       "4          Mumbai\n",
       "          ...    \n",
       "945       Kolkata\n",
       "946        Mumbai\n",
       "947         Delhi\n",
       "948    Chandigarh\n",
       "949     Bangalore\n",
       "Name: City, Length: 950, dtype: object"
      ]
     },
     "execution_count": 175,
     "metadata": {},
     "output_type": "execute_result"
    }
   ],
   "source": [
    "ipl['City'] == 'Kolkata'"
   ]
  },
  {
   "cell_type": "code",
   "execution_count": 174,
   "metadata": {},
   "outputs": [
    {
     "data": {
      "text/plain": [
       "0      False\n",
       "1      False\n",
       "2      False\n",
       "3      False\n",
       "4      False\n",
       "       ...  \n",
       "945    False\n",
       "946    False\n",
       "947    False\n",
       "948     True\n",
       "949    False\n",
       "Name: WinningTeam, Length: 950, dtype: bool"
      ]
     },
     "execution_count": 174,
     "metadata": {},
     "output_type": "execute_result"
    }
   ],
   "source": [
    "# search relevant columns\n",
    "ipl['WinningTeam'] == 'Chennai Super Kings'"
   ]
  },
  {
   "cell_type": "code",
   "execution_count": 180,
   "metadata": {},
   "outputs": [
    {
     "data": {
      "text/plain": [
       "5"
      ]
     },
     "execution_count": 180,
     "metadata": {},
     "output_type": "execute_result"
    }
   ],
   "source": [
    "ipl[ (ipl['City'] == 'Kolkata') & (ipl['WinningTeam'] == 'Chennai Super Kings') ].shape[0]"
   ]
  },
  {
   "cell_type": "markdown",
   "metadata": {
    "colab": {
     "base_uri": "https://localhost:8080/"
    },
    "executionInfo": {
     "elapsed": 2,
     "status": "ok",
     "timestamp": 1671033360801,
     "user": {
      "displayName": "CampusX",
      "userId": "17274569631252575216"
     },
     "user_tz": -330
    },
    "id": "S00UZa5KYBMM",
    "outputId": "c333a177-40a8-442d-c6bc-58e16f23e48f"
   },
   "source": [
    "##### toss winner is match winner in percentage\n"
   ]
  },
  {
   "cell_type": "code",
   "execution_count": 187,
   "metadata": {},
   "outputs": [
    {
     "data": {
      "text/plain": [
       "51.473684210526315"
      ]
     },
     "execution_count": 187,
     "metadata": {},
     "output_type": "execute_result"
    }
   ],
   "source": [
    "(ipl[ipl['TossWinner'] == ipl['WinningTeam']].shape[0]) / (ipl.shape[0]) * 100"
   ]
  },
  {
   "cell_type": "markdown",
   "metadata": {},
   "source": [
    "##### movies with rating higher than 8 and votes>10000\n"
   ]
  },
  {
   "cell_type": "code",
   "execution_count": 190,
   "metadata": {},
   "outputs": [
    {
     "data": {
      "text/html": [
       "<div>\n",
       "<style scoped>\n",
       "    .dataframe tbody tr th:only-of-type {\n",
       "        vertical-align: middle;\n",
       "    }\n",
       "\n",
       "    .dataframe tbody tr th {\n",
       "        vertical-align: top;\n",
       "    }\n",
       "\n",
       "    .dataframe thead th {\n",
       "        text-align: right;\n",
       "    }\n",
       "</style>\n",
       "<table border=\"1\" class=\"dataframe\">\n",
       "  <thead>\n",
       "    <tr style=\"text-align: right;\">\n",
       "      <th></th>\n",
       "      <th>imdb_rating</th>\n",
       "      <th>imdb_votes</th>\n",
       "    </tr>\n",
       "  </thead>\n",
       "  <tbody>\n",
       "    <tr>\n",
       "      <th>11</th>\n",
       "      <td>8.2</td>\n",
       "      <td>22440</td>\n",
       "    </tr>\n",
       "    <tr>\n",
       "      <th>34</th>\n",
       "      <td>5.7</td>\n",
       "      <td>169</td>\n",
       "    </tr>\n",
       "    <tr>\n",
       "      <th>37</th>\n",
       "      <td>8.3</td>\n",
       "      <td>13417</td>\n",
       "    </tr>\n",
       "    <tr>\n",
       "      <th>87</th>\n",
       "      <td>5.2</td>\n",
       "      <td>3538</td>\n",
       "    </tr>\n",
       "    <tr>\n",
       "      <th>96</th>\n",
       "      <td>7.4</td>\n",
       "      <td>13159</td>\n",
       "    </tr>\n",
       "    <tr>\n",
       "      <th>...</th>\n",
       "      <td>...</td>\n",
       "      <td>...</td>\n",
       "    </tr>\n",
       "    <tr>\n",
       "      <th>1600</th>\n",
       "      <td>6.0</td>\n",
       "      <td>801</td>\n",
       "    </tr>\n",
       "    <tr>\n",
       "      <th>1601</th>\n",
       "      <td>7.0</td>\n",
       "      <td>277</td>\n",
       "    </tr>\n",
       "    <tr>\n",
       "      <th>1607</th>\n",
       "      <td>7.8</td>\n",
       "      <td>12522</td>\n",
       "    </tr>\n",
       "    <tr>\n",
       "      <th>1621</th>\n",
       "      <td>7.5</td>\n",
       "      <td>2879</td>\n",
       "    </tr>\n",
       "    <tr>\n",
       "      <th>1623</th>\n",
       "      <td>6.2</td>\n",
       "      <td>1384</td>\n",
       "    </tr>\n",
       "  </tbody>\n",
       "</table>\n",
       "<p>298 rows × 2 columns</p>\n",
       "</div>"
      ],
      "text/plain": [
       "      imdb_rating  imdb_votes\n",
       "11            8.2       22440\n",
       "34            5.7         169\n",
       "37            8.3       13417\n",
       "87            5.2        3538\n",
       "96            7.4       13159\n",
       "...           ...         ...\n",
       "1600          6.0         801\n",
       "1601          7.0         277\n",
       "1607          7.8       12522\n",
       "1621          7.5        2879\n",
       "1623          6.2        1384\n",
       "\n",
       "[298 rows x 2 columns]"
      ]
     },
     "execution_count": 190,
     "metadata": {},
     "output_type": "execute_result"
    }
   ],
   "source": [
    "movies[['imdb_rating', 'imdb_votes']]"
   ]
  },
  {
   "cell_type": "code",
   "execution_count": 192,
   "metadata": {},
   "outputs": [
    {
     "data": {
      "text/plain": [
       "108"
      ]
     },
     "execution_count": 192,
     "metadata": {},
     "output_type": "execute_result"
    }
   ],
   "source": [
    "movies[(movies['imdb_rating'] > 0.8 ) & (movies['imdb_votes'] > 10_000)].shape[0]"
   ]
  },
  {
   "cell_type": "markdown",
   "metadata": {
    "colab": {
     "base_uri": "https://localhost:8080/",
     "height": 1000
    },
    "executionInfo": {
     "elapsed": 713,
     "status": "ok",
     "timestamp": 1671034150489,
     "user": {
      "displayName": "CampusX",
      "userId": "17274569631252575216"
     },
     "user_tz": -330
    },
    "id": "AfoJr1wKNjzw",
    "outputId": "c4fefbdd-5c3a-464a-a1cc-fa54a3cacad1"
   },
   "source": [
    "##### Action movies with rating higher than 7.5\n"
   ]
  },
  {
   "cell_type": "code",
   "execution_count": 193,
   "metadata": {},
   "outputs": [
    {
     "data": {
      "text/plain": [
       "Index(['title_x', 'imdb_id', 'poster_path', 'wiki_link', 'title_y',\n",
       "       'original_title', 'is_adult', 'year_of_release', 'runtime', 'genres',\n",
       "       'imdb_rating', 'imdb_votes', 'story', 'summary', 'tagline', 'actors',\n",
       "       'wins_nominations', 'release_date', 'Country', 'lead actor'],\n",
       "      dtype='object')"
      ]
     },
     "execution_count": 193,
     "metadata": {},
     "output_type": "execute_result"
    }
   ],
   "source": [
    "movies.columns"
   ]
  },
  {
   "cell_type": "code",
   "execution_count": 195,
   "metadata": {},
   "outputs": [
    {
     "data": {
      "text/plain": [
       "11      False\n",
       "34       True\n",
       "37      False\n",
       "87       True\n",
       "96       True\n",
       "        ...  \n",
       "1600    False\n",
       "1601    False\n",
       "1607     True\n",
       "1621    False\n",
       "1623    False\n",
       "Name: genres, Length: 298, dtype: bool"
      ]
     },
     "execution_count": 195,
     "metadata": {},
     "output_type": "execute_result"
    }
   ],
   "source": [
    "# we need genres and rating column\n",
    "movies['genres'].str.contains('Action')"
   ]
  },
  {
   "cell_type": "code",
   "execution_count": 200,
   "metadata": {},
   "outputs": [
    {
     "data": {
      "text/html": [
       "<div>\n",
       "<style scoped>\n",
       "    .dataframe tbody tr th:only-of-type {\n",
       "        vertical-align: middle;\n",
       "    }\n",
       "\n",
       "    .dataframe tbody tr th {\n",
       "        vertical-align: top;\n",
       "    }\n",
       "\n",
       "    .dataframe thead th {\n",
       "        text-align: right;\n",
       "    }\n",
       "</style>\n",
       "<table border=\"1\" class=\"dataframe\">\n",
       "  <thead>\n",
       "    <tr style=\"text-align: right;\">\n",
       "      <th></th>\n",
       "      <th>title_x</th>\n",
       "      <th>genres</th>\n",
       "      <th>imdb_rating</th>\n",
       "    </tr>\n",
       "  </thead>\n",
       "  <tbody>\n",
       "    <tr>\n",
       "      <th>106</th>\n",
       "      <td>Raazi</td>\n",
       "      <td>Action|Drama|Thriller</td>\n",
       "      <td>7.8</td>\n",
       "    </tr>\n",
       "    <tr>\n",
       "      <th>112</th>\n",
       "      <td>Bhavesh Joshi Superhero</td>\n",
       "      <td>Action|Drama</td>\n",
       "      <td>7.6</td>\n",
       "    </tr>\n",
       "    <tr>\n",
       "      <th>169</th>\n",
       "      <td>The Ghazi Attack</td>\n",
       "      <td>Action|Thriller|War</td>\n",
       "      <td>7.6</td>\n",
       "    </tr>\n",
       "    <tr>\n",
       "      <th>354</th>\n",
       "      <td>Dangal (film)</td>\n",
       "      <td>Action|Biography|Drama</td>\n",
       "      <td>8.4</td>\n",
       "    </tr>\n",
       "    <tr>\n",
       "      <th>365</th>\n",
       "      <td>Baby (2015 Hindi film)</td>\n",
       "      <td>Action|Thriller</td>\n",
       "      <td>8.0</td>\n",
       "    </tr>\n",
       "    <tr>\n",
       "      <th>449</th>\n",
       "      <td>Titli (2014 film)</td>\n",
       "      <td>Action|Drama|Thriller</td>\n",
       "      <td>7.6</td>\n",
       "    </tr>\n",
       "    <tr>\n",
       "      <th>1039</th>\n",
       "      <td>1971 (2007 film)</td>\n",
       "      <td>Action|Drama|War</td>\n",
       "      <td>7.9</td>\n",
       "    </tr>\n",
       "    <tr>\n",
       "      <th>1058</th>\n",
       "      <td>Black Friday (2007 film)</td>\n",
       "      <td>Action|Crime|Drama</td>\n",
       "      <td>8.5</td>\n",
       "    </tr>\n",
       "    <tr>\n",
       "      <th>1293</th>\n",
       "      <td>Sarkar (2005 film)</td>\n",
       "      <td>Action|Crime|Drama</td>\n",
       "      <td>7.6</td>\n",
       "    </tr>\n",
       "    <tr>\n",
       "      <th>1361</th>\n",
       "      <td>Lakshya (film)</td>\n",
       "      <td>Action|Drama|Romance</td>\n",
       "      <td>7.9</td>\n",
       "    </tr>\n",
       "    <tr>\n",
       "      <th>1495</th>\n",
       "      <td>Company (film)</td>\n",
       "      <td>Action|Crime|Drama</td>\n",
       "      <td>8.0</td>\n",
       "    </tr>\n",
       "    <tr>\n",
       "      <th>1607</th>\n",
       "      <td>Nayak (2001 Hindi film)</td>\n",
       "      <td>Action|Drama|Thriller</td>\n",
       "      <td>7.8</td>\n",
       "    </tr>\n",
       "  </tbody>\n",
       "</table>\n",
       "</div>"
      ],
      "text/plain": [
       "                       title_x                  genres  imdb_rating\n",
       "106                      Raazi   Action|Drama|Thriller          7.8\n",
       "112    Bhavesh Joshi Superhero            Action|Drama          7.6\n",
       "169           The Ghazi Attack     Action|Thriller|War          7.6\n",
       "354              Dangal (film)  Action|Biography|Drama          8.4\n",
       "365     Baby (2015 Hindi film)         Action|Thriller          8.0\n",
       "449          Titli (2014 film)   Action|Drama|Thriller          7.6\n",
       "1039          1971 (2007 film)        Action|Drama|War          7.9\n",
       "1058  Black Friday (2007 film)      Action|Crime|Drama          8.5\n",
       "1293        Sarkar (2005 film)      Action|Crime|Drama          7.6\n",
       "1361            Lakshya (film)    Action|Drama|Romance          7.9\n",
       "1495            Company (film)      Action|Crime|Drama          8.0\n",
       "1607   Nayak (2001 Hindi film)   Action|Drama|Thriller          7.8"
      ]
     },
     "execution_count": 200,
     "metadata": {},
     "output_type": "execute_result"
    }
   ],
   "source": [
    "movies[(movies['genres'].str.contains(\"Action\")) & (movies['imdb_rating'] > 7.5)][['title_x', 'genres', 'imdb_rating']]"
   ]
  },
  {
   "cell_type": "markdown",
   "metadata": {
    "id": "eO5DEaswWEi_"
   },
   "source": [
    "##### write a function that can return the track record of 2 teams against each other"
   ]
  },
  {
   "cell_type": "markdown",
   "metadata": {
    "id": "Kqf3EdS0229S"
   },
   "source": [
    "#### Adding new cols"
   ]
  },
  {
   "cell_type": "code",
   "execution_count": 107,
   "metadata": {
    "colab": {
     "base_uri": "https://localhost:8080/",
     "height": 635
    },
    "executionInfo": {
     "elapsed": 4,
     "status": "ok",
     "timestamp": 1671034306146,
     "user": {
      "displayName": "CampusX",
      "userId": "17274569631252575216"
     },
     "user_tz": -330
    },
    "id": "t7GmI1tn24Ge",
    "outputId": "a27a5542-6add-4e36-a7a7-865cf4e2e1e2"
   },
   "outputs": [
    {
     "data": {
      "text/html": [
       "<div>\n",
       "<style scoped>\n",
       "    .dataframe tbody tr th:only-of-type {\n",
       "        vertical-align: middle;\n",
       "    }\n",
       "\n",
       "    .dataframe tbody tr th {\n",
       "        vertical-align: top;\n",
       "    }\n",
       "\n",
       "    .dataframe thead th {\n",
       "        text-align: right;\n",
       "    }\n",
       "</style>\n",
       "<table border=\"1\" class=\"dataframe\">\n",
       "  <thead>\n",
       "    <tr style=\"text-align: right;\">\n",
       "      <th></th>\n",
       "      <th>title_x</th>\n",
       "      <th>imdb_id</th>\n",
       "      <th>poster_path</th>\n",
       "      <th>wiki_link</th>\n",
       "      <th>title_y</th>\n",
       "      <th>original_title</th>\n",
       "      <th>is_adult</th>\n",
       "      <th>year_of_release</th>\n",
       "      <th>runtime</th>\n",
       "      <th>genres</th>\n",
       "      <th>imdb_rating</th>\n",
       "      <th>imdb_votes</th>\n",
       "      <th>story</th>\n",
       "      <th>summary</th>\n",
       "      <th>tagline</th>\n",
       "      <th>actors</th>\n",
       "      <th>wins_nominations</th>\n",
       "      <th>release_date</th>\n",
       "      <th>Country</th>\n",
       "      <th>lead actor</th>\n",
       "    </tr>\n",
       "  </thead>\n",
       "  <tbody>\n",
       "    <tr>\n",
       "      <th>11</th>\n",
       "      <td>Gully Boy</td>\n",
       "      <td>tt2395469</td>\n",
       "      <td>https://upload.wikimedia.org/wikipedia/en/thum...</td>\n",
       "      <td>https://en.wikipedia.org/wiki/Gully_Boy</td>\n",
       "      <td>Gully Boy</td>\n",
       "      <td>Gully Boy</td>\n",
       "      <td>0</td>\n",
       "      <td>2019</td>\n",
       "      <td>153</td>\n",
       "      <td>Drama|Music</td>\n",
       "      <td>8.2</td>\n",
       "      <td>22440</td>\n",
       "      <td>Gully Boy is a film about a 22-year-old boy \"M...</td>\n",
       "      <td>A coming-of-age story based on the lives of st...</td>\n",
       "      <td>Apna Time Aayega!</td>\n",
       "      <td>Ranveer Singh|Alia Bhatt|Siddhant Chaturvedi|V...</td>\n",
       "      <td>6 wins &amp; 3 nominations</td>\n",
       "      <td>14 February 2019 (USA)</td>\n",
       "      <td>India</td>\n",
       "      <td>Ranveer Singh</td>\n",
       "    </tr>\n",
       "    <tr>\n",
       "      <th>34</th>\n",
       "      <td>Yeh Hai India</td>\n",
       "      <td>tt5525846</td>\n",
       "      <td>https://upload.wikimedia.org/wikipedia/en/thum...</td>\n",
       "      <td>https://en.wikipedia.org/wiki/Yeh_Hai_India</td>\n",
       "      <td>Yeh Hai India</td>\n",
       "      <td>Yeh Hai India</td>\n",
       "      <td>0</td>\n",
       "      <td>2017</td>\n",
       "      <td>128</td>\n",
       "      <td>Action|Adventure|Drama</td>\n",
       "      <td>5.7</td>\n",
       "      <td>169</td>\n",
       "      <td>Yeh Hai India  follows the story of a 25 years...</td>\n",
       "      <td>Yeh Hai India  follows the story of a 25 years...</td>\n",
       "      <td>A Film for Every Indian</td>\n",
       "      <td>Gavie Chahal|Mohan Agashe|Mohan Joshi|Lom Harsh|</td>\n",
       "      <td>2 wins &amp; 1 nomination</td>\n",
       "      <td>24 May 2019 (India)</td>\n",
       "      <td>India</td>\n",
       "      <td>Gavie Chahal</td>\n",
       "    </tr>\n",
       "    <tr>\n",
       "      <th>37</th>\n",
       "      <td>Article 15 (film)</td>\n",
       "      <td>tt10324144</td>\n",
       "      <td>https://upload.wikimedia.org/wikipedia/en/thum...</td>\n",
       "      <td>https://en.wikipedia.org/wiki/Article_15_(film)</td>\n",
       "      <td>Article 15</td>\n",
       "      <td>Article 15</td>\n",
       "      <td>0</td>\n",
       "      <td>2019</td>\n",
       "      <td>130</td>\n",
       "      <td>Crime|Drama</td>\n",
       "      <td>8.3</td>\n",
       "      <td>13417</td>\n",
       "      <td>In the rural heartlands of India  an upright p...</td>\n",
       "      <td>In the rural heartlands of India  an upright p...</td>\n",
       "      <td>Farq Bahut Kar Liya| Ab Farq Laayenge.</td>\n",
       "      <td>Ayushmann Khurrana|Nassar|Manoj Pahwa|Kumud Mi...</td>\n",
       "      <td>1 win</td>\n",
       "      <td>28 June 2019 (USA)</td>\n",
       "      <td>India</td>\n",
       "      <td>Ayushmann Khurrana</td>\n",
       "    </tr>\n",
       "    <tr>\n",
       "      <th>87</th>\n",
       "      <td>Aiyaary</td>\n",
       "      <td>tt6774212</td>\n",
       "      <td>https://upload.wikimedia.org/wikipedia/en/thum...</td>\n",
       "      <td>https://en.wikipedia.org/wiki/Aiyaary</td>\n",
       "      <td>Aiyaary</td>\n",
       "      <td>Aiyaary</td>\n",
       "      <td>0</td>\n",
       "      <td>2018</td>\n",
       "      <td>157</td>\n",
       "      <td>Action|Thriller</td>\n",
       "      <td>5.2</td>\n",
       "      <td>3538</td>\n",
       "      <td>General Gurinder Singh comes with a proposal t...</td>\n",
       "      <td>After finding out about an illegal arms deal  ...</td>\n",
       "      <td>The Ultimate Trickery</td>\n",
       "      <td>Sidharth Malhotra|Manoj Bajpayee|Rakul Preet S...</td>\n",
       "      <td>1 nomination</td>\n",
       "      <td>16 February 2018 (USA)</td>\n",
       "      <td>India</td>\n",
       "      <td>Sidharth Malhotra</td>\n",
       "    </tr>\n",
       "    <tr>\n",
       "      <th>96</th>\n",
       "      <td>Raid (2018 film)</td>\n",
       "      <td>tt7363076</td>\n",
       "      <td>https://upload.wikimedia.org/wikipedia/en/thum...</td>\n",
       "      <td>https://en.wikipedia.org/wiki/Raid_(2018_film)</td>\n",
       "      <td>Raid</td>\n",
       "      <td>Raid</td>\n",
       "      <td>0</td>\n",
       "      <td>2018</td>\n",
       "      <td>122</td>\n",
       "      <td>Action|Crime|Drama</td>\n",
       "      <td>7.4</td>\n",
       "      <td>13159</td>\n",
       "      <td>Set in the 80s in Uttar Pradesh  India  Raid i...</td>\n",
       "      <td>A fearless income tax officer raids the mansio...</td>\n",
       "      <td>Heroes don't always come in uniform</td>\n",
       "      <td>Ajay Devgn|Saurabh Shukla|Ileana D'Cruz|Amit S...</td>\n",
       "      <td>2 wins &amp; 3 nominations</td>\n",
       "      <td>16 March 2018 (India)</td>\n",
       "      <td>India</td>\n",
       "      <td>Ajay Devgn</td>\n",
       "    </tr>\n",
       "  </tbody>\n",
       "</table>\n",
       "</div>"
      ],
      "text/plain": [
       "              title_x     imdb_id  \\\n",
       "11          Gully Boy   tt2395469   \n",
       "34      Yeh Hai India   tt5525846   \n",
       "37  Article 15 (film)  tt10324144   \n",
       "87            Aiyaary   tt6774212   \n",
       "96   Raid (2018 film)   tt7363076   \n",
       "\n",
       "                                          poster_path  \\\n",
       "11  https://upload.wikimedia.org/wikipedia/en/thum...   \n",
       "34  https://upload.wikimedia.org/wikipedia/en/thum...   \n",
       "37  https://upload.wikimedia.org/wikipedia/en/thum...   \n",
       "87  https://upload.wikimedia.org/wikipedia/en/thum...   \n",
       "96  https://upload.wikimedia.org/wikipedia/en/thum...   \n",
       "\n",
       "                                          wiki_link        title_y  \\\n",
       "11          https://en.wikipedia.org/wiki/Gully_Boy      Gully Boy   \n",
       "34      https://en.wikipedia.org/wiki/Yeh_Hai_India  Yeh Hai India   \n",
       "37  https://en.wikipedia.org/wiki/Article_15_(film)     Article 15   \n",
       "87            https://en.wikipedia.org/wiki/Aiyaary        Aiyaary   \n",
       "96   https://en.wikipedia.org/wiki/Raid_(2018_film)           Raid   \n",
       "\n",
       "   original_title  is_adult  year_of_release runtime                  genres  \\\n",
       "11      Gully Boy         0             2019     153             Drama|Music   \n",
       "34  Yeh Hai India         0             2017     128  Action|Adventure|Drama   \n",
       "37     Article 15         0             2019     130             Crime|Drama   \n",
       "87        Aiyaary         0             2018     157         Action|Thriller   \n",
       "96           Raid         0             2018     122      Action|Crime|Drama   \n",
       "\n",
       "    imdb_rating  imdb_votes  \\\n",
       "11          8.2       22440   \n",
       "34          5.7         169   \n",
       "37          8.3       13417   \n",
       "87          5.2        3538   \n",
       "96          7.4       13159   \n",
       "\n",
       "                                                story  \\\n",
       "11  Gully Boy is a film about a 22-year-old boy \"M...   \n",
       "34  Yeh Hai India  follows the story of a 25 years...   \n",
       "37  In the rural heartlands of India  an upright p...   \n",
       "87  General Gurinder Singh comes with a proposal t...   \n",
       "96  Set in the 80s in Uttar Pradesh  India  Raid i...   \n",
       "\n",
       "                                              summary  \\\n",
       "11  A coming-of-age story based on the lives of st...   \n",
       "34  Yeh Hai India  follows the story of a 25 years...   \n",
       "37  In the rural heartlands of India  an upright p...   \n",
       "87  After finding out about an illegal arms deal  ...   \n",
       "96  A fearless income tax officer raids the mansio...   \n",
       "\n",
       "                                   tagline  \\\n",
       "11                       Apna Time Aayega!   \n",
       "34                 A Film for Every Indian   \n",
       "37  Farq Bahut Kar Liya| Ab Farq Laayenge.   \n",
       "87                   The Ultimate Trickery   \n",
       "96     Heroes don't always come in uniform   \n",
       "\n",
       "                                               actors        wins_nominations  \\\n",
       "11  Ranveer Singh|Alia Bhatt|Siddhant Chaturvedi|V...  6 wins & 3 nominations   \n",
       "34   Gavie Chahal|Mohan Agashe|Mohan Joshi|Lom Harsh|   2 wins & 1 nomination   \n",
       "37  Ayushmann Khurrana|Nassar|Manoj Pahwa|Kumud Mi...                   1 win   \n",
       "87  Sidharth Malhotra|Manoj Bajpayee|Rakul Preet S...            1 nomination   \n",
       "96  Ajay Devgn|Saurabh Shukla|Ileana D'Cruz|Amit S...  2 wins & 3 nominations   \n",
       "\n",
       "              release_date Country          lead actor  \n",
       "11  14 February 2019 (USA)   India       Ranveer Singh  \n",
       "34     24 May 2019 (India)   India        Gavie Chahal  \n",
       "37      28 June 2019 (USA)   India  Ayushmann Khurrana  \n",
       "87  16 February 2018 (USA)   India   Sidharth Malhotra  \n",
       "96   16 March 2018 (India)   India          Ajay Devgn  "
      ]
     },
     "execution_count": 107,
     "metadata": {},
     "output_type": "execute_result"
    }
   ],
   "source": [
    "# completely new\n",
    "movies['Country'] = 'India'\n",
    "movies.head()"
   ]
  },
  {
   "cell_type": "code",
   "execution_count": 108,
   "metadata": {
    "id": "__bvr_sX25qI"
   },
   "outputs": [],
   "source": [
    "# from existing ones\n",
    "movies.dropna(inplace=True)"
   ]
  },
  {
   "cell_type": "code",
   "execution_count": 203,
   "metadata": {
    "colab": {
     "base_uri": "https://localhost:8080/",
     "height": 739
    },
    "executionInfo": {
     "elapsed": 5,
     "status": "ok",
     "timestamp": 1671034629468,
     "user": {
      "displayName": "CampusX",
      "userId": "17274569631252575216"
     },
     "user_tz": -330
    },
    "id": "ge6LfvI7bBR9",
    "outputId": "645ae722-53a5-4e1e-c146-45d0fe1edd47"
   },
   "outputs": [
    {
     "data": {
      "text/html": [
       "<div>\n",
       "<style scoped>\n",
       "    .dataframe tbody tr th:only-of-type {\n",
       "        vertical-align: middle;\n",
       "    }\n",
       "\n",
       "    .dataframe tbody tr th {\n",
       "        vertical-align: top;\n",
       "    }\n",
       "\n",
       "    .dataframe thead th {\n",
       "        text-align: right;\n",
       "    }\n",
       "</style>\n",
       "<table border=\"1\" class=\"dataframe\">\n",
       "  <thead>\n",
       "    <tr style=\"text-align: right;\">\n",
       "      <th></th>\n",
       "      <th>title_x</th>\n",
       "      <th>imdb_id</th>\n",
       "      <th>poster_path</th>\n",
       "      <th>wiki_link</th>\n",
       "      <th>title_y</th>\n",
       "      <th>original_title</th>\n",
       "      <th>is_adult</th>\n",
       "      <th>year_of_release</th>\n",
       "      <th>runtime</th>\n",
       "      <th>genres</th>\n",
       "      <th>imdb_rating</th>\n",
       "      <th>imdb_votes</th>\n",
       "      <th>story</th>\n",
       "      <th>summary</th>\n",
       "      <th>tagline</th>\n",
       "      <th>actors</th>\n",
       "      <th>wins_nominations</th>\n",
       "      <th>release_date</th>\n",
       "      <th>Country</th>\n",
       "      <th>lead actor</th>\n",
       "    </tr>\n",
       "  </thead>\n",
       "  <tbody>\n",
       "    <tr>\n",
       "      <th>586</th>\n",
       "      <td>Jolly LLB</td>\n",
       "      <td>tt2621000</td>\n",
       "      <td>https://upload.wikimedia.org/wikipedia/en/thum...</td>\n",
       "      <td>https://en.wikipedia.org/wiki/Jolly_LLB</td>\n",
       "      <td>Jolly LLB</td>\n",
       "      <td>Jolly LLB</td>\n",
       "      <td>0</td>\n",
       "      <td>2013</td>\n",
       "      <td>135</td>\n",
       "      <td>Comedy|Drama</td>\n",
       "      <td>7.5</td>\n",
       "      <td>15157</td>\n",
       "      <td>Rajpal a top lawyer is defending Rahul Dewan s...</td>\n",
       "      <td>A small time lawyer files a PIL in court again...</td>\n",
       "      <td>We Believe InJustice</td>\n",
       "      <td>Arshad Warsi|Amrita Rao|Boman Irani|Saurabh Sh...</td>\n",
       "      <td>7 wins &amp; 5 nominations</td>\n",
       "      <td>15 March 2013 (India)</td>\n",
       "      <td>India</td>\n",
       "      <td>Arshad Warsi</td>\n",
       "    </tr>\n",
       "  </tbody>\n",
       "</table>\n",
       "</div>"
      ],
      "text/plain": [
       "       title_x    imdb_id                                        poster_path  \\\n",
       "586  Jolly LLB  tt2621000  https://upload.wikimedia.org/wikipedia/en/thum...   \n",
       "\n",
       "                                   wiki_link    title_y original_title  \\\n",
       "586  https://en.wikipedia.org/wiki/Jolly_LLB  Jolly LLB      Jolly LLB   \n",
       "\n",
       "     is_adult  year_of_release runtime        genres  imdb_rating  imdb_votes  \\\n",
       "586         0             2013     135  Comedy|Drama          7.5       15157   \n",
       "\n",
       "                                                 story  \\\n",
       "586  Rajpal a top lawyer is defending Rahul Dewan s...   \n",
       "\n",
       "                                               summary               tagline  \\\n",
       "586  A small time lawyer files a PIL in court again...  We Believe InJustice   \n",
       "\n",
       "                                                actors  \\\n",
       "586  Arshad Warsi|Amrita Rao|Boman Irani|Saurabh Sh...   \n",
       "\n",
       "           wins_nominations           release_date Country    lead actor  \n",
       "586  7 wins & 5 nominations  15 March 2013 (India)   India  Arshad Warsi  "
      ]
     },
     "execution_count": 203,
     "metadata": {},
     "output_type": "execute_result"
    }
   ],
   "source": [
    "movies['lead actor'] = movies['actors'].str.split('|').apply(lambda x:x[0])\n",
    "movies.sample()"
   ]
  },
  {
   "cell_type": "code",
   "execution_count": 110,
   "metadata": {
    "colab": {
     "base_uri": "https://localhost:8080/"
    },
    "executionInfo": {
     "elapsed": 1861,
     "status": "ok",
     "timestamp": 1671034538611,
     "user": {
      "displayName": "CampusX",
      "userId": "17274569631252575216"
     },
     "user_tz": -330
    },
    "id": "nYWiGlIMakvg",
    "outputId": "345876ef-e1c1-49b9-80d0-e72d44a18a31"
   },
   "outputs": [
    {
     "name": "stdout",
     "output_type": "stream",
     "text": [
      "<class 'pandas.core.frame.DataFrame'>\n",
      "Index: 298 entries, 11 to 1623\n",
      "Data columns (total 20 columns):\n",
      " #   Column            Non-Null Count  Dtype  \n",
      "---  ------            --------------  -----  \n",
      " 0   title_x           298 non-null    object \n",
      " 1   imdb_id           298 non-null    object \n",
      " 2   poster_path       298 non-null    object \n",
      " 3   wiki_link         298 non-null    object \n",
      " 4   title_y           298 non-null    object \n",
      " 5   original_title    298 non-null    object \n",
      " 6   is_adult          298 non-null    int64  \n",
      " 7   year_of_release   298 non-null    int64  \n",
      " 8   runtime           298 non-null    object \n",
      " 9   genres            298 non-null    object \n",
      " 10  imdb_rating       298 non-null    float64\n",
      " 11  imdb_votes        298 non-null    int64  \n",
      " 12  story             298 non-null    object \n",
      " 13  summary           298 non-null    object \n",
      " 14  tagline           298 non-null    object \n",
      " 15  actors            298 non-null    object \n",
      " 16  wins_nominations  298 non-null    object \n",
      " 17  release_date      298 non-null    object \n",
      " 18  Country           298 non-null    object \n",
      " 19  lead actor        298 non-null    object \n",
      "dtypes: float64(1), int64(3), object(16)\n",
      "memory usage: 57.0+ KB\n"
     ]
    }
   ],
   "source": [
    "movies.info()"
   ]
  },
  {
   "cell_type": "markdown",
   "metadata": {
    "id": "B881F9xu4Bmk"
   },
   "source": [
    "### Important DataFrame Functions"
   ]
  },
  {
   "cell_type": "code",
   "execution_count": 75,
   "metadata": {
    "colab": {
     "base_uri": "https://localhost:8080/"
    },
    "executionInfo": {
     "elapsed": 2,
     "status": "ok",
     "timestamp": 1671034867190,
     "user": {
      "displayName": "CampusX",
      "userId": "17274569631252575216"
     },
     "user_tz": -330
    },
    "id": "dd985cwtJnCW",
    "outputId": "38fd851c-a06f-474d-dd59-5e95b369b1c4"
   },
   "outputs": [
    {
     "name": "stdout",
     "output_type": "stream",
     "text": [
      "<class 'pandas.core.frame.DataFrame'>\n",
      "RangeIndex: 950 entries, 0 to 949\n",
      "Data columns (total 20 columns):\n",
      " #   Column           Non-Null Count  Dtype  \n",
      "---  ------           --------------  -----  \n",
      " 0   ID               950 non-null    int64  \n",
      " 1   City             899 non-null    object \n",
      " 2   Date             950 non-null    object \n",
      " 3   Season           950 non-null    object \n",
      " 4   MatchNumber      950 non-null    object \n",
      " 5   Team1            950 non-null    object \n",
      " 6   Team2            950 non-null    object \n",
      " 7   Venue            950 non-null    object \n",
      " 8   TossWinner       950 non-null    object \n",
      " 9   TossDecision     950 non-null    object \n",
      " 10  SuperOver        946 non-null    object \n",
      " 11  WinningTeam      946 non-null    object \n",
      " 12  WonBy            950 non-null    object \n",
      " 13  Margin           932 non-null    float64\n",
      " 14  method           19 non-null     object \n",
      " 15  Player_of_Match  946 non-null    object \n",
      " 16  Team1Players     950 non-null    object \n",
      " 17  Team2Players     950 non-null    object \n",
      " 18  Umpire1          950 non-null    object \n",
      " 19  Umpire2          950 non-null    object \n",
      "dtypes: float64(1), int64(1), object(18)\n",
      "memory usage: 148.6+ KB\n"
     ]
    }
   ],
   "source": [
    "# astype\n",
    "ipl.info()"
   ]
  },
  {
   "cell_type": "code",
   "execution_count": 76,
   "metadata": {
    "id": "xHCmE6PtcKyb"
   },
   "outputs": [],
   "source": [
    "ipl['ID'] = ipl['ID'].astype('int32')"
   ]
  },
  {
   "cell_type": "code",
   "execution_count": 77,
   "metadata": {
    "colab": {
     "base_uri": "https://localhost:8080/"
    },
    "executionInfo": {
     "elapsed": 3,
     "status": "ok",
     "timestamp": 1671034929861,
     "user": {
      "displayName": "CampusX",
      "userId": "17274569631252575216"
     },
     "user_tz": -330
    },
    "id": "7okWM4HWcWAp",
    "outputId": "e76d79d3-0a68-4ecf-c7f8-1f84f552b99a"
   },
   "outputs": [
    {
     "name": "stdout",
     "output_type": "stream",
     "text": [
      "<class 'pandas.core.frame.DataFrame'>\n",
      "RangeIndex: 950 entries, 0 to 949\n",
      "Data columns (total 20 columns):\n",
      " #   Column           Non-Null Count  Dtype  \n",
      "---  ------           --------------  -----  \n",
      " 0   ID               950 non-null    int32  \n",
      " 1   City             899 non-null    object \n",
      " 2   Date             950 non-null    object \n",
      " 3   Season           950 non-null    object \n",
      " 4   MatchNumber      950 non-null    object \n",
      " 5   Team1            950 non-null    object \n",
      " 6   Team2            950 non-null    object \n",
      " 7   Venue            950 non-null    object \n",
      " 8   TossWinner       950 non-null    object \n",
      " 9   TossDecision     950 non-null    object \n",
      " 10  SuperOver        946 non-null    object \n",
      " 11  WinningTeam      946 non-null    object \n",
      " 12  WonBy            950 non-null    object \n",
      " 13  Margin           932 non-null    float64\n",
      " 14  method           19 non-null     object \n",
      " 15  Player_of_Match  946 non-null    object \n",
      " 16  Team1Players     950 non-null    object \n",
      " 17  Team2Players     950 non-null    object \n",
      " 18  Umpire1          950 non-null    object \n",
      " 19  Umpire2          950 non-null    object \n",
      "dtypes: float64(1), int32(1), object(18)\n",
      "memory usage: 144.9+ KB\n"
     ]
    }
   ],
   "source": [
    "ipl.info()"
   ]
  },
  {
   "cell_type": "code",
   "execution_count": 78,
   "metadata": {
    "id": "AsFtYc_9cv8c"
   },
   "outputs": [],
   "source": [
    "# ipl['Season'] = ipl['Season'].astype('category')\n",
    "ipl['Team1'] = ipl['Team1'].astype('category')\n",
    "ipl['Team2'] = ipl['Team2'].astype('category')"
   ]
  },
  {
   "cell_type": "code",
   "execution_count": 79,
   "metadata": {
    "colab": {
     "base_uri": "https://localhost:8080/"
    },
    "executionInfo": {
     "elapsed": 3,
     "status": "ok",
     "timestamp": 1671035131840,
     "user": {
      "displayName": "CampusX",
      "userId": "17274569631252575216"
     },
     "user_tz": -330
    },
    "id": "vYekmCGbcwEC",
    "outputId": "7c6015d0-f66c-401a-cbae-34bf91541809"
   },
   "outputs": [
    {
     "name": "stdout",
     "output_type": "stream",
     "text": [
      "<class 'pandas.core.frame.DataFrame'>\n",
      "RangeIndex: 950 entries, 0 to 949\n",
      "Data columns (total 20 columns):\n",
      " #   Column           Non-Null Count  Dtype   \n",
      "---  ------           --------------  -----   \n",
      " 0   ID               950 non-null    int32   \n",
      " 1   City             899 non-null    object  \n",
      " 2   Date             950 non-null    object  \n",
      " 3   Season           950 non-null    object  \n",
      " 4   MatchNumber      950 non-null    object  \n",
      " 5   Team1            950 non-null    category\n",
      " 6   Team2            950 non-null    category\n",
      " 7   Venue            950 non-null    object  \n",
      " 8   TossWinner       950 non-null    object  \n",
      " 9   TossDecision     950 non-null    object  \n",
      " 10  SuperOver        946 non-null    object  \n",
      " 11  WinningTeam      946 non-null    object  \n",
      " 12  WonBy            950 non-null    object  \n",
      " 13  Margin           932 non-null    float64 \n",
      " 14  method           19 non-null     object  \n",
      " 15  Player_of_Match  946 non-null    object  \n",
      " 16  Team1Players     950 non-null    object  \n",
      " 17  Team2Players     950 non-null    object  \n",
      " 18  Umpire1          950 non-null    object  \n",
      " 19  Umpire2          950 non-null    object  \n",
      "dtypes: category(2), float64(1), int32(1), object(16)\n",
      "memory usage: 133.2+ KB\n"
     ]
    }
   ],
   "source": [
    "ipl.info()"
   ]
  },
  {
   "cell_type": "markdown",
   "metadata": {
    "id": "2NtdlwFEcwKL"
   },
   "source": [
    "\n",
    "---\n",
    "Rest is check next notebook\n",
    "10:14 IST 12-06-2024"
   ]
  }
 ],
 "metadata": {
  "colab": {
   "provenance": []
  },
  "kernelspec": {
   "display_name": "Python 3",
   "name": "python3"
  },
  "language_info": {
   "codemirror_mode": {
    "name": "ipython",
    "version": 3
   },
   "file_extension": ".py",
   "mimetype": "text/x-python",
   "name": "python",
   "nbconvert_exporter": "python",
   "pygments_lexer": "ipython3",
   "version": "3.12.3"
  }
 },
 "nbformat": 4,
 "nbformat_minor": 0
}
